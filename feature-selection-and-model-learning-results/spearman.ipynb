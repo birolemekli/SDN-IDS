{
 "cells": [
  {
   "cell_type": "code",
   "execution_count": 1,
   "id": "5ed0e961-ca6a-4c2c-9644-3ebde239abf5",
   "metadata": {},
   "outputs": [],
   "source": [
    "import pandas as pd\n",
    "import numpy as np\n",
    "from sklearn.preprocessing import StandardScaler\n",
    "from sklearn.model_selection import train_test_split\n",
    "from sklearn.metrics import mean_absolute_error\n"
   ]
  },
  {
   "cell_type": "code",
   "execution_count": 2,
   "id": "b1192ed6-2e7f-42e0-ac86-4a5d1dd3d2f2",
   "metadata": {},
   "outputs": [],
   "source": [
    "normal_data=pd.read_csv(\"../Normal_data.csv\")\n",
    "metasploti_data=pd.read_csv(\"../metasploitable-2.csv\")\n",
    "ovs_data=pd.read_csv(\"../OVS.csv\")"
   ]
  },
  {
   "cell_type": "code",
   "execution_count": 3,
   "id": "fbad1d64-6427-449e-a854-a4be1341dc3b",
   "metadata": {},
   "outputs": [],
   "source": [
    "frames=[normal_data,metasploti_data,ovs_data]\n",
    "data=pd.concat(frames,ignore_index=True)"
   ]
  },
  {
   "cell_type": "code",
   "execution_count": 4,
   "id": "64687a5f-a26f-40f6-82a0-3a3ba92c006f",
   "metadata": {},
   "outputs": [
    {
     "name": "stdout",
     "output_type": "stream",
     "text": [
      "['Normal' 'U2R' 'BFA' 'DDoS' 'DoS' 'Probe' 'Web-Attack' 'BOTNET']\n"
     ]
    }
   ],
   "source": [
    "data.Label = data.Label.str.replace(' ', '')\n",
    "print(data.Label.unique())"
   ]
  },
  {
   "cell_type": "code",
   "execution_count": 5,
   "id": "8913cd65-fa8f-40c6-b872-8ec3e1db16aa",
   "metadata": {},
   "outputs": [],
   "source": [
    "data=data.loc[:, (data != 0).any(axis=0)]"
   ]
  },
  {
   "cell_type": "code",
   "execution_count": 6,
   "id": "08bad3c6-3739-449a-8f93-a1ad821ec36b",
   "metadata": {},
   "outputs": [
    {
     "data": {
      "text/html": [
       "<div>\n",
       "<style scoped>\n",
       "    .dataframe tbody tr th:only-of-type {\n",
       "        vertical-align: middle;\n",
       "    }\n",
       "\n",
       "    .dataframe tbody tr th {\n",
       "        vertical-align: top;\n",
       "    }\n",
       "\n",
       "    .dataframe thead th {\n",
       "        text-align: right;\n",
       "    }\n",
       "</style>\n",
       "<table border=\"1\" class=\"dataframe\">\n",
       "  <thead>\n",
       "    <tr style=\"text-align: right;\">\n",
       "      <th></th>\n",
       "      <th>ACK Flag Cnt</th>\n",
       "      <th>Active Max</th>\n",
       "      <th>Active Mean</th>\n",
       "      <th>Active Min</th>\n",
       "      <th>Active Std</th>\n",
       "      <th>Bwd Header Len</th>\n",
       "      <th>Bwd IAT Max</th>\n",
       "      <th>Bwd IAT Mean</th>\n",
       "      <th>Bwd IAT Min</th>\n",
       "      <th>Bwd IAT Std</th>\n",
       "      <th>...</th>\n",
       "      <th>SYN Flag Cnt</th>\n",
       "      <th>Subflow Bwd Byts</th>\n",
       "      <th>Subflow Bwd Pkts</th>\n",
       "      <th>Subflow Fwd Byts</th>\n",
       "      <th>Subflow Fwd Pkts</th>\n",
       "      <th>Tot Bwd Pkts</th>\n",
       "      <th>Tot Fwd Pkts</th>\n",
       "      <th>TotLen Bwd Pkts</th>\n",
       "      <th>TotLen Fwd Pkts</th>\n",
       "      <th>URG Flag Cnt</th>\n",
       "    </tr>\n",
       "  </thead>\n",
       "  <tbody>\n",
       "    <tr>\n",
       "      <th>0</th>\n",
       "      <td>0</td>\n",
       "      <td>0.0</td>\n",
       "      <td>0.0</td>\n",
       "      <td>0.0</td>\n",
       "      <td>0.0</td>\n",
       "      <td>0</td>\n",
       "      <td>12.0</td>\n",
       "      <td>12.0</td>\n",
       "      <td>12.0</td>\n",
       "      <td>0.00000</td>\n",
       "      <td>...</td>\n",
       "      <td>0</td>\n",
       "      <td>0</td>\n",
       "      <td>2</td>\n",
       "      <td>0</td>\n",
       "      <td>0</td>\n",
       "      <td>2</td>\n",
       "      <td>0</td>\n",
       "      <td>0.0</td>\n",
       "      <td>0.0</td>\n",
       "      <td>0</td>\n",
       "    </tr>\n",
       "    <tr>\n",
       "      <th>1</th>\n",
       "      <td>1</td>\n",
       "      <td>0.0</td>\n",
       "      <td>0.0</td>\n",
       "      <td>0.0</td>\n",
       "      <td>0.0</td>\n",
       "      <td>64</td>\n",
       "      <td>3369.0</td>\n",
       "      <td>3369.0</td>\n",
       "      <td>3369.0</td>\n",
       "      <td>0.00000</td>\n",
       "      <td>...</td>\n",
       "      <td>0</td>\n",
       "      <td>0</td>\n",
       "      <td>2</td>\n",
       "      <td>0</td>\n",
       "      <td>0</td>\n",
       "      <td>2</td>\n",
       "      <td>0</td>\n",
       "      <td>0.0</td>\n",
       "      <td>0.0</td>\n",
       "      <td>0</td>\n",
       "    </tr>\n",
       "    <tr>\n",
       "      <th>2</th>\n",
       "      <td>0</td>\n",
       "      <td>0.0</td>\n",
       "      <td>0.0</td>\n",
       "      <td>0.0</td>\n",
       "      <td>0.0</td>\n",
       "      <td>0</td>\n",
       "      <td>13.0</td>\n",
       "      <td>13.0</td>\n",
       "      <td>13.0</td>\n",
       "      <td>0.00000</td>\n",
       "      <td>...</td>\n",
       "      <td>0</td>\n",
       "      <td>0</td>\n",
       "      <td>2</td>\n",
       "      <td>0</td>\n",
       "      <td>0</td>\n",
       "      <td>2</td>\n",
       "      <td>0</td>\n",
       "      <td>0.0</td>\n",
       "      <td>0.0</td>\n",
       "      <td>0</td>\n",
       "    </tr>\n",
       "    <tr>\n",
       "      <th>3</th>\n",
       "      <td>1</td>\n",
       "      <td>0.0</td>\n",
       "      <td>0.0</td>\n",
       "      <td>0.0</td>\n",
       "      <td>0.0</td>\n",
       "      <td>20</td>\n",
       "      <td>0.0</td>\n",
       "      <td>0.0</td>\n",
       "      <td>0.0</td>\n",
       "      <td>0.00000</td>\n",
       "      <td>...</td>\n",
       "      <td>0</td>\n",
       "      <td>0</td>\n",
       "      <td>1</td>\n",
       "      <td>248</td>\n",
       "      <td>2</td>\n",
       "      <td>1</td>\n",
       "      <td>2</td>\n",
       "      <td>0.0</td>\n",
       "      <td>248.0</td>\n",
       "      <td>0</td>\n",
       "    </tr>\n",
       "    <tr>\n",
       "      <th>4</th>\n",
       "      <td>0</td>\n",
       "      <td>0.0</td>\n",
       "      <td>0.0</td>\n",
       "      <td>0.0</td>\n",
       "      <td>0.0</td>\n",
       "      <td>144</td>\n",
       "      <td>167136.0</td>\n",
       "      <td>115976.2</td>\n",
       "      <td>2573.0</td>\n",
       "      <td>72264.35192</td>\n",
       "      <td>...</td>\n",
       "      <td>1</td>\n",
       "      <td>3510</td>\n",
       "      <td>6</td>\n",
       "      <td>370</td>\n",
       "      <td>7</td>\n",
       "      <td>6</td>\n",
       "      <td>7</td>\n",
       "      <td>3510.0</td>\n",
       "      <td>370.0</td>\n",
       "      <td>0</td>\n",
       "    </tr>\n",
       "  </tbody>\n",
       "</table>\n",
       "<p>5 rows × 66 columns</p>\n",
       "</div>"
      ],
      "text/plain": [
       "   ACK Flag Cnt  Active Max  Active Mean  Active Min  Active Std  \\\n",
       "0             0         0.0          0.0         0.0         0.0   \n",
       "1             1         0.0          0.0         0.0         0.0   \n",
       "2             0         0.0          0.0         0.0         0.0   \n",
       "3             1         0.0          0.0         0.0         0.0   \n",
       "4             0         0.0          0.0         0.0         0.0   \n",
       "\n",
       "   Bwd Header Len  Bwd IAT Max  Bwd IAT Mean  Bwd IAT Min  Bwd IAT Std  ...  \\\n",
       "0               0         12.0          12.0         12.0      0.00000  ...   \n",
       "1              64       3369.0        3369.0       3369.0      0.00000  ...   \n",
       "2               0         13.0          13.0         13.0      0.00000  ...   \n",
       "3              20          0.0           0.0          0.0      0.00000  ...   \n",
       "4             144     167136.0      115976.2       2573.0  72264.35192  ...   \n",
       "\n",
       "   SYN Flag Cnt  Subflow Bwd Byts  Subflow Bwd Pkts  Subflow Fwd Byts  \\\n",
       "0             0                 0                 2                 0   \n",
       "1             0                 0                 2                 0   \n",
       "2             0                 0                 2                 0   \n",
       "3             0                 0                 1               248   \n",
       "4             1              3510                 6               370   \n",
       "\n",
       "   Subflow Fwd Pkts  Tot Bwd Pkts  Tot Fwd Pkts  TotLen Bwd Pkts  \\\n",
       "0                 0             2             0              0.0   \n",
       "1                 0             2             0              0.0   \n",
       "2                 0             2             0              0.0   \n",
       "3                 2             1             2              0.0   \n",
       "4                 7             6             7           3510.0   \n",
       "\n",
       "   TotLen Fwd Pkts  URG Flag Cnt  \n",
       "0              0.0             0  \n",
       "1              0.0             0  \n",
       "2              0.0             0  \n",
       "3            248.0             0  \n",
       "4            370.0             0  \n",
       "\n",
       "[5 rows x 66 columns]"
      ]
     },
     "execution_count": 6,
     "metadata": {},
     "output_type": "execute_result"
    }
   ],
   "source": [
    "data3 = data.loc[:, data.columns.difference(['Flow ID', 'Src IP','Dst IP','Timestamp','Src Port','Dst Port','Protocol'])]\n",
    "data3=data3.sample(frac=1, replace=True, random_state=3).reset_index(drop=True)\n",
    "data3.head()"
   ]
  },
  {
   "cell_type": "code",
   "execution_count": 7,
   "id": "8f4a0855-b32f-404f-8e02-41647f408398",
   "metadata": {},
   "outputs": [
    {
     "data": {
      "text/plain": [
       "array(['1', '0'], dtype=object)"
      ]
     },
     "execution_count": 7,
     "metadata": {},
     "output_type": "execute_result"
    }
   ],
   "source": [
    "data3.Label.replace(['U2R','BFA','DDoS','DoS','Probe','Web-Attack','BOTNET'],'Saldiri',inplace=True)\n",
    "data3.Label.replace(\"Saldiri\",\"1\",inplace=True)\n",
    "data3.Label.replace(\"Normal\",\"0\",inplace=True)\n",
    "data3.Label.unique()"
   ]
  },
  {
   "cell_type": "code",
   "execution_count": 11,
   "id": "135e547f-365b-4f6f-8c43-3aa37b87b0c9",
   "metadata": {},
   "outputs": [
    {
     "name": "stdout",
     "output_type": "stream",
     "text": [
      "ACK Flag Cnt\n",
      "Active Max\n",
      "Active Mean\n",
      "Active Min\n",
      "Active Std\n",
      "Bwd Header Len\n",
      "Bwd IAT Max\n",
      "Bwd IAT Mean\n",
      "Bwd IAT Min\n",
      "Bwd IAT Std\n",
      "Bwd IAT Tot\n",
      "Bwd PSH Flags\n",
      "Bwd Pkt Len Max\n",
      "Bwd Pkt Len Mean\n",
      "Bwd Pkt Len Min\n",
      "Bwd Pkt Len Std\n",
      "Bwd Pkts/s\n",
      "Bwd Seg Size Avg\n",
      "Bwd URG Flags\n",
      "Down/Up Ratio\n",
      "FIN Flag Cnt\n",
      "Flow Byts/s\n",
      "Flow Duration\n",
      "Flow IAT Max\n",
      "Flow IAT Mean\n",
      "Flow IAT Min\n",
      "Flow IAT Std\n",
      "Flow Pkts/s\n",
      "Fwd Act Data Pkts\n",
      "Fwd Header Len\n",
      "Fwd IAT Max\n",
      "Fwd IAT Mean\n",
      "Fwd IAT Min\n",
      "Fwd IAT Std\n",
      "Fwd IAT Tot\n",
      "Fwd Pkt Len Max\n",
      "Fwd Pkt Len Mean\n",
      "Fwd Pkt Len Min\n",
      "Fwd Pkt Len Std\n",
      "Fwd Pkts/s\n",
      "Fwd Seg Size Avg\n",
      "Idle Max\n",
      "Idle Mean\n",
      "Idle Min\n",
      "Idle Std\n",
      "Init Bwd Win Byts\n",
      "Init Fwd Win Byts\n",
      "Label\n",
      "PSH Flag Cnt\n",
      "Pkt Len Max\n",
      "Pkt Len Mean\n",
      "Pkt Len Min\n",
      "Pkt Len Std\n",
      "Pkt Len Var\n",
      "Pkt Size Avg\n",
      "RST Flag Cnt\n",
      "SYN Flag Cnt\n",
      "Subflow Bwd Byts\n",
      "Subflow Bwd Pkts\n",
      "Subflow Fwd Byts\n",
      "Subflow Fwd Pkts\n",
      "Tot Bwd Pkts\n",
      "Tot Fwd Pkts\n",
      "TotLen Bwd Pkts\n",
      "TotLen Fwd Pkts\n",
      "URG Flag Cnt\n"
     ]
    }
   ],
   "source": [
    "b=data3.columns\n",
    "for i in b:\n",
    "    print(i)"
   ]
  },
  {
   "cell_type": "code",
   "execution_count": 8,
   "id": "cd6f0581-ae64-42ba-99fc-bc53a92205ce",
   "metadata": {},
   "outputs": [
    {
     "name": "stdout",
     "output_type": "stream",
     "text": [
      "(343889, 40)\n",
      "(343889,)\n"
     ]
    }
   ],
   "source": [
    "X=data3[[\"Active Max\"\n",
    ",\"Active Mean\"\n",
    ",\"Active Min\"\n",
    ",\"Bwd IAT Max\"\n",
    ",\"Bwd IAT Tot\"\n",
    ",\"Bwd PSH Flags\"\n",
    ",\"Bwd Pkt Len Max\"\n",
    ",\"Bwd Pkt Len Mean\"\n",
    ",\"Bwd Pkts/s\"\n",
    ",\"Bwd Seg Size Avg\"\n",
    ",\"Bwd URG Flags\"\n",
    ",\"Flow Duration\"\n",
    ",\"Flow IAT Max\"\n",
    ",\"Flow IAT Mean\"\n",
    ",\"Flow Pkts/s\"\n",
    ",\"Fwd Header Len\"\n",
    ",\"Fwd IAT Max\"\n",
    ",\"Fwd IAT Mean\"\n",
    ",\"Fwd IAT Tot\"\n",
    ",\"Fwd Pkt Len Max\"\n",
    ",\"Fwd Pkt Len Mean\"\n",
    ",\"Fwd Seg Size Avg\"\n",
    ",\"Idle Max\"\n",
    ",\"Idle Mean\"\n",
    ",\"Idle Min\"\n",
    ",\"PSH Flag Cnt\"\n",
    ",\"Pkt Len Max\"\n",
    ",\"Pkt Len Mean\"\n",
    ",\"Pkt Len Std\"\n",
    ",\"Pkt Len Var\"\n",
    ",\"Pkt Size Avg\"\n",
    ",\"Subflow Bwd Byts\"\n",
    ",\"Subflow Bwd Pkts\"\n",
    ",\"Subflow Fwd Byts\"\n",
    ",\"Subflow Fwd Pkts\"\n",
    ",\"Tot Bwd Pkts\"\n",
    ",\"Tot Fwd Pkts\"\n",
    ",\"TotLen Bwd Pkts\"\n",
    ",\"TotLen Fwd Pkts\"\n",
    ",\"URG Flag Cnt\"]]\n",
    "y=data3.Label\n",
    "print(X.shape)\n",
    "print(y.shape)"
   ]
  },
  {
   "cell_type": "code",
   "execution_count": 9,
   "id": "44a47739-1416-4648-a9d5-db63f3c5914b",
   "metadata": {},
   "outputs": [
    {
     "data": {
      "text/plain": [
       "array([[-0.08817253, -0.07895971, -0.05974394, ..., -0.02986745,\n",
       "        -0.00860033, -0.10935765],\n",
       "       [-0.08817253, -0.07895971, -0.05974394, ..., -0.02986745,\n",
       "        -0.00860033, -0.10935765],\n",
       "       [-0.08817253, -0.07895971, -0.05974394, ..., -0.02986745,\n",
       "        -0.00860033, -0.10935765],\n",
       "       ...,\n",
       "       [-0.08817253, -0.07895971, -0.05974394, ..., -0.02986745,\n",
       "        -0.00860033, -0.10935765],\n",
       "       [-0.08709042, -0.07730406, -0.05781588, ..., -0.02974927,\n",
       "        -0.00829775, -0.10935765],\n",
       "       [-0.08817253, -0.07895971, -0.05974394, ..., -0.02986745,\n",
       "        -0.00860033, -0.10935765]])"
      ]
     },
     "execution_count": 9,
     "metadata": {},
     "output_type": "execute_result"
    }
   ],
   "source": [
    "scaler = StandardScaler()\n",
    "X_scaled = scaler.fit_transform(X)\n",
    "X_scaled"
   ]
  },
  {
   "cell_type": "code",
   "execution_count": 10,
   "id": "81f7649f-0ebc-4c06-8253-46fcc0deea6e",
   "metadata": {},
   "outputs": [],
   "source": [
    "y= pd.get_dummies(y, drop_first=True)\n",
    "X_train, X_test, y_train, y_test = X_train, X_test, y_train, y_test = train_test_split(X_scaled,y, test_size=0.25, random_state=1)"
   ]
  },
  {
   "cell_type": "code",
   "execution_count": 11,
   "id": "7ca93f35-08fc-4fa7-83c9-cc5a56ea8420",
   "metadata": {
    "tags": []
   },
   "outputs": [
    {
     "name": "stderr",
     "output_type": "stream",
     "text": [
      "C:\\Users\\Birol\\anaconda3\\lib\\site-packages\\sklearn\\utils\\validation.py:63: DataConversionWarning: A column-vector y was passed when a 1d array was expected. Please change the shape of y to (n_samples, ), for example using ravel().\n",
      "  return f(*args, **kwargs)\n",
      "C:\\Users\\Birol\\anaconda3\\lib\\site-packages\\sklearn\\linear_model\\_logistic.py:763: ConvergenceWarning: lbfgs failed to converge (status=1):\n",
      "STOP: TOTAL NO. of ITERATIONS REACHED LIMIT.\n",
      "\n",
      "Increase the number of iterations (max_iter) or scale the data as shown in:\n",
      "    https://scikit-learn.org/stable/modules/preprocessing.html\n",
      "Please also refer to the documentation for alternative solver options:\n",
      "    https://scikit-learn.org/stable/modules/linear_model.html#logistic-regression\n",
      "  n_iter_i = _check_optimize_result(\n"
     ]
    },
    {
     "data": {
      "text/plain": [
       "0.9592081234806277"
      ]
     },
     "execution_count": 11,
     "metadata": {},
     "output_type": "execute_result"
    }
   ],
   "source": [
    "from sklearn.linear_model import LogisticRegression\n",
    "model = LogisticRegression()\n",
    "model.fit(X_train,y_train)\n",
    "model.score(X_test,y_test)\n"
   ]
  },
  {
   "cell_type": "code",
   "execution_count": 12,
   "id": "d0b993cb-a997-4517-9561-172d4a0d269d",
   "metadata": {
    "tags": []
   },
   "outputs": [
    {
     "name": "stdout",
     "output_type": "stream",
     "text": [
      "              precision    recall  f1-score   support\n",
      "\n",
      "           0       0.98      0.81      0.89     17237\n",
      "           1       0.96      1.00      0.98     68736\n",
      "\n",
      "    accuracy                           0.96     85973\n",
      "   macro avg       0.97      0.91      0.93     85973\n",
      "weighted avg       0.96      0.96      0.96     85973\n",
      "\n"
     ]
    }
   ],
   "source": [
    "y_pred = model.predict(X_test)\n",
    "from sklearn.metrics import confusion_matrix\n",
    "from sklearn.metrics import classification_report\n",
    "confusion_matrix(y_test,y_pred)\n",
    "print(classification_report(y_test,y_pred))"
   ]
  },
  {
   "cell_type": "code",
   "execution_count": 13,
   "id": "3e099e3a-76e5-4683-9902-3c6433d07862",
   "metadata": {
    "tags": []
   },
   "outputs": [
    {
     "name": "stderr",
     "output_type": "stream",
     "text": [
      "C:\\Users\\Birol\\anaconda3\\lib\\site-packages\\xgboost\\sklearn.py:793: UserWarning: `early_stopping_rounds` in `fit` method is deprecated for better compatibility with scikit-learn, use `early_stopping_rounds` in constructor or`set_params` instead.\n",
      "  warnings.warn(\n"
     ]
    },
    {
     "name": "stdout",
     "output_type": "stream",
     "text": [
      "----- XGBoost ------\n",
      "0.9672844168655265\n",
      "0.011247478\n",
      "----- XGBoost ------\n"
     ]
    }
   ],
   "source": [
    "from xgboost import XGBRegressor\n",
    "from sklearn.metrics import mean_absolute_error\n",
    "model = XGBRegressor(n_estimators=1000,learning_rate=0.5,n_jobs=4)\n",
    "model.fit(X_train, y_train, \n",
    "             early_stopping_rounds=500, \n",
    "             eval_set=[(X_test, y_test)],\n",
    "             verbose=False)\n",
    "\n",
    "pred=model.predict(X_test)\n",
    "print(\"----- XGBoost ------\")\n",
    "print(model.score(X_test,y_test))\n",
    "print(mean_absolute_error(y_test,pred))\n",
    "print(\"----- XGBoost ------\")"
   ]
  },
  {
   "cell_type": "code",
   "execution_count": 14,
   "id": "38bbf318-67d2-431c-a8c3-a090b76971ae",
   "metadata": {
    "tags": []
   },
   "outputs": [
    {
     "name": "stdout",
     "output_type": "stream",
     "text": [
      "              precision    recall  f1-score   support\n",
      "\n",
      "           0       0.99      0.97      0.98     17237\n",
      "           1       0.99      1.00      1.00     68736\n",
      "\n",
      "    accuracy                           0.99     85973\n",
      "   macro avg       0.99      0.99      0.99     85973\n",
      "weighted avg       0.99      0.99      0.99     85973\n",
      "\n"
     ]
    }
   ],
   "source": [
    "y_pred = model.predict(X_test)\n",
    "from sklearn.metrics import classification_report\n",
    "print(classification_report(y_test,y_pred.round()))"
   ]
  },
  {
   "cell_type": "code",
   "execution_count": 15,
   "id": "74ae58e9-7dd7-4fff-9aba-422cf1f0da79",
   "metadata": {},
   "outputs": [
    {
     "name": "stderr",
     "output_type": "stream",
     "text": [
      "<ipython-input-15-3a1a16790e4c>:4: DataConversionWarning: A column-vector y was passed when a 1d array was expected. Please change the shape of y to (n_samples,), for example using ravel().\n",
      "  model.fit(X_train,y_train)\n"
     ]
    },
    {
     "name": "stdout",
     "output_type": "stream",
     "text": [
      "----- Random Forest ------\n",
      "0.9658516762428014\n",
      "0.009641674129049056\n",
      "----- Random Forest ------\n"
     ]
    }
   ],
   "source": [
    "from sklearn.ensemble import RandomForestRegressor\n",
    "from sklearn.metrics import mean_absolute_error\n",
    "model=RandomForestRegressor(random_state=1)\n",
    "model.fit(X_train,y_train)\n",
    "pred=model.predict(X_test)\n",
    "\n",
    "print(\"----- Random Forest ------\")\n",
    "print(model.score(X_test,y_test))\n",
    "print(mean_absolute_error(y_test,pred))\n",
    "print(\"----- Random Forest ------\")"
   ]
  },
  {
   "cell_type": "code",
   "execution_count": 16,
   "id": "f0e6df3b-534b-4bea-93cc-0a6d5f5dd5c7",
   "metadata": {
    "tags": []
   },
   "outputs": [
    {
     "name": "stdout",
     "output_type": "stream",
     "text": [
      "              precision    recall  f1-score   support\n",
      "\n",
      "           0       0.99      0.97      0.98     17237\n",
      "           1       0.99      1.00      1.00     68736\n",
      "\n",
      "    accuracy                           0.99     85973\n",
      "   macro avg       0.99      0.99      0.99     85973\n",
      "weighted avg       0.99      0.99      0.99     85973\n",
      "\n"
     ]
    }
   ],
   "source": [
    "y_pred = model.predict(X_test)\n",
    "from sklearn.metrics import classification_report\n",
    "print(classification_report(y_test,y_pred.round()))"
   ]
  },
  {
   "cell_type": "code",
   "execution_count": 17,
   "id": "96a23e2d-b545-42c9-9057-a0232ae1c3e1",
   "metadata": {
    "tags": []
   },
   "outputs": [
    {
     "name": "stdout",
     "output_type": "stream",
     "text": [
      "----- DecisionTreeRegressor ------\n",
      "0.9649553277135283\n",
      "0.009341995166414967\n",
      "----- DecisionTreeRegressor ------\n"
     ]
    }
   ],
   "source": [
    "from sklearn.tree import DecisionTreeRegressor\n",
    "model=DecisionTreeRegressor(random_state=0)\n",
    "model.fit(X_train,y_train)\n",
    "pred=model.predict(X_test)\n",
    "\n",
    "print(\"----- DecisionTreeRegressor ------\")\n",
    "print(model.score(X_test,y_test))\n",
    "print(mean_absolute_error(y_test,pred))\n",
    "print(\"----- DecisionTreeRegressor ------\")"
   ]
  },
  {
   "cell_type": "code",
   "execution_count": 18,
   "id": "7d8fff34-b8e3-42fd-b05b-d6b35e9cc0c6",
   "metadata": {
    "tags": []
   },
   "outputs": [
    {
     "name": "stdout",
     "output_type": "stream",
     "text": [
      "              precision    recall  f1-score   support\n",
      "\n",
      "           0       0.98      0.98      0.98     17237\n",
      "           1       0.99      1.00      0.99     68736\n",
      "\n",
      "    accuracy                           0.99     85973\n",
      "   macro avg       0.99      0.99      0.99     85973\n",
      "weighted avg       0.99      0.99      0.99     85973\n",
      "\n"
     ]
    }
   ],
   "source": [
    "y_pred = model.predict(X_test)\n",
    "from sklearn.metrics import classification_report\n",
    "print(classification_report(y_test,y_pred.round()))"
   ]
  },
  {
   "cell_type": "code",
   "execution_count": 19,
   "id": "2d48657d-1652-4d0f-ba80-5927104394e7",
   "metadata": {},
   "outputs": [
    {
     "name": "stderr",
     "output_type": "stream",
     "text": [
      "C:\\Users\\Birol\\anaconda3\\lib\\site-packages\\sklearn\\neighbors\\_classification.py:179: DataConversionWarning: A column-vector y was passed when a 1d array was expected. Please change the shape of y to (n_samples,), for example using ravel().\n",
      "  return self._fit(X, y)\n"
     ]
    },
    {
     "name": "stdout",
     "output_type": "stream",
     "text": [
      "----- KNN ------\n",
      "0.9909855419724797\n",
      "0.8539774115129168\n",
      "----- KNN ------\n"
     ]
    }
   ],
   "source": [
    "from sklearn.neighbors import KNeighborsClassifier\n",
    "model=KNeighborsClassifier(n_neighbors=3,weights='uniform')\n",
    "model.fit(X_train,y_train)\n",
    "pred=model.predict(X_test)\n",
    "\n",
    "print(\"----- KNN ------\")\n",
    "print(model.score(X_test,y_test))\n",
    "print(mean_absolute_error(y_test,pred))\n",
    "print(\"----- KNN ------\")"
   ]
  },
  {
   "cell_type": "code",
   "execution_count": 20,
   "id": "f68c5da3-e2bc-4c6c-bb32-18a8ee4d0302",
   "metadata": {
    "tags": []
   },
   "outputs": [
    {
     "name": "stdout",
     "output_type": "stream",
     "text": [
      "              precision    recall  f1-score   support\n",
      "\n",
      "           0       0.98      0.97      0.98     17237\n",
      "           1       0.99      1.00      0.99     68736\n",
      "\n",
      "    accuracy                           0.99     85973\n",
      "   macro avg       0.99      0.98      0.99     85973\n",
      "weighted avg       0.99      0.99      0.99     85973\n",
      "\n"
     ]
    }
   ],
   "source": [
    "y_pred = model.predict(X_test)\n",
    "from sklearn.metrics import classification_report\n",
    "print(classification_report(y_test,y_pred.round()))"
   ]
  },
  {
   "cell_type": "code",
   "execution_count": 21,
   "id": "36c02b1c-18c5-4379-aaed-9472110f481d",
   "metadata": {},
   "outputs": [
    {
     "name": "stderr",
     "output_type": "stream",
     "text": [
      "C:\\Users\\Birol\\anaconda3\\lib\\site-packages\\sklearn\\utils\\validation.py:63: DataConversionWarning: A column-vector y was passed when a 1d array was expected. Please change the shape of y to (n_samples, ), for example using ravel().\n",
      "  return f(*args, **kwargs)\n"
     ]
    },
    {
     "name": "stdout",
     "output_type": "stream",
     "text": [
      "0.9868330755004479\n",
      "0.8935828690402801\n"
     ]
    }
   ],
   "source": [
    "from sklearn.ensemble import AdaBoostClassifier\n",
    "model = AdaBoostClassifier(n_estimators=50,\n",
    "                         learning_rate=1)\n",
    "model.fit(X_train,y_train)\n",
    "pred=model.predict(X_test)\n",
    "\n",
    "print(model.score(X_test,y_test))\n",
    "print(mean_absolute_error(y_test,pred))"
   ]
  },
  {
   "cell_type": "code",
   "execution_count": 22,
   "id": "6d650929-8f2c-4f14-ad5e-45961d1cbac3",
   "metadata": {
    "tags": []
   },
   "outputs": [
    {
     "name": "stdout",
     "output_type": "stream",
     "text": [
      "              precision    recall  f1-score   support\n",
      "\n",
      "           0       0.98      0.95      0.97     17237\n",
      "           1       0.99      1.00      0.99     68736\n",
      "\n",
      "    accuracy                           0.99     85973\n",
      "   macro avg       0.99      0.97      0.98     85973\n",
      "weighted avg       0.99      0.99      0.99     85973\n",
      "\n"
     ]
    }
   ],
   "source": [
    "y_pred = model.predict(X_test)\n",
    "from sklearn.metrics import classification_report\n",
    "print(classification_report(y_test,y_pred.round()))"
   ]
  },
  {
   "cell_type": "code",
   "execution_count": 23,
   "id": "b7de3cd6-4e93-46b7-bc8b-0d19ca8c2428",
   "metadata": {},
   "outputs": [
    {
     "name": "stderr",
     "output_type": "stream",
     "text": [
      "C:\\Users\\Birol\\anaconda3\\lib\\site-packages\\sklearn\\utils\\validation.py:63: DataConversionWarning: A column-vector y was passed when a 1d array was expected. Please change the shape of y to (n_samples, ), for example using ravel().\n",
      "  return f(*args, **kwargs)\n"
     ]
    },
    {
     "name": "stdout",
     "output_type": "stream",
     "text": [
      "----- GaussianNB ------\n",
      "0.7940865155339467\n",
      "16.06226373396299\n",
      "----- GaussianNB ------\n"
     ]
    }
   ],
   "source": [
    "from sklearn.naive_bayes import GaussianNB\n",
    "model = GaussianNB()\n",
    "model.fit(X_train,y_train)\n",
    "pred=model.predict(X_test)\n",
    "print(\"----- GaussianNB ------\")\n",
    "print(model.score(X_test,y_test))\n",
    "print(mean_absolute_error(y_test,pred))\n",
    "print(\"----- GaussianNB ------\")"
   ]
  },
  {
   "cell_type": "code",
   "execution_count": 24,
   "id": "65ad2457-85a6-4b85-a947-1b90d8ea52ad",
   "metadata": {
    "tags": []
   },
   "outputs": [
    {
     "name": "stdout",
     "output_type": "stream",
     "text": [
      "              precision    recall  f1-score   support\n",
      "\n",
      "           0       0.48      0.28      0.36     17237\n",
      "           1       0.84      0.92      0.88     68736\n",
      "\n",
      "    accuracy                           0.79     85973\n",
      "   macro avg       0.66      0.60      0.62     85973\n",
      "weighted avg       0.76      0.79      0.77     85973\n",
      "\n"
     ]
    }
   ],
   "source": [
    "y_pred = model.predict(X_test)\n",
    "from sklearn.metrics import classification_report\n",
    "print(classification_report(y_test,y_pred.round()))"
   ]
  },
  {
   "cell_type": "markdown",
   "id": "e3bb17ec-f789-48fb-854d-e81e3acfa182",
   "metadata": {},
   "source": [
    "from sklearn.svm import SVC\n",
    "model = SVC(C=1.0, random_state=1, kernel='linear')\n",
    "model.fit(X_train,y_train)\n",
    "print(\"----- SVC ------\")\n",
    "print(model.score(X_test,y_test))\n",
    "print(mean_absolute_error(y_test,pred))\n",
    "print(\"----- SVC ------\")"
   ]
  },
  {
   "cell_type": "code",
   "execution_count": 25,
   "id": "87fb3334-9b15-4c54-9cb4-f7e986ee6d50",
   "metadata": {},
   "outputs": [],
   "source": [
    "from keras.models import Sequential\n",
    "from keras.layers import Dense, Dropout, Activation,Flatten\n",
    "from keras.layers import  Embedding, SimpleRNN, LSTM,Masking,Bidirectional\n",
    "from keras.layers import Conv1D, GlobalMaxPooling1D\n",
    "from keras.models import model_from_json,model_from_yaml,load_model\n",
    "from keras.preprocessing.text import Tokenizer\n",
    "from keras.preprocessing import sequence,text\n",
    "from sklearn.preprocessing import LabelEncoder\n",
    "from keras import metrics, regularizers\n",
    "from keras.optimizers import RMSprop,Adam\n",
    "from keras import backend as K"
   ]
  },
  {
   "cell_type": "code",
   "execution_count": 26,
   "id": "adb8277a-4fc7-474e-b4d9-28c8f1383271",
   "metadata": {},
   "outputs": [
    {
     "name": "stdout",
     "output_type": "stream",
     "text": [
      "(257916, 40)\n",
      "(85973, 40)\n",
      "(257916, 1)\n",
      "(85973, 1)\n"
     ]
    }
   ],
   "source": [
    "print(X_train.shape)\n",
    "print(X_test.shape)\n",
    "print(y_train.shape) \n",
    "print(y_test.shape)"
   ]
  },
  {
   "cell_type": "code",
   "execution_count": 27,
   "id": "cb21cc3f-f9fa-4378-b4f1-0bd4058fc3e6",
   "metadata": {},
   "outputs": [],
   "source": [
    "# Model için gerekli değerler\n",
    "#epochs_sayisi=5\n",
    "batch_size=512\n",
    "# Çıktı gözükmemesi için\n",
    "verbose=1\n",
    "validation_split=0.1\n",
    "max_len=len(X.columns)\n",
    "vocab_size=10000"
   ]
  },
  {
   "cell_type": "code",
   "execution_count": 28,
   "id": "69ebf070-cc31-498a-bdd2-f85c770f7c98",
   "metadata": {},
   "outputs": [],
   "source": [
    "def rnn(epoch_sayisi):\n",
    "    model=Sequential()\n",
    "    model.add(Embedding(vocab_size,max_len, trainable=True,input_length=max_len))\n",
    "    model.add(SimpleRNN(40,activation='relu',kernel_regularizer=regularizers.l2(0.01),return_sequences=True))\n",
    "    model.add(Dropout(0.2))\n",
    "    model.add(SimpleRNN(32,activation='relu',kernel_regularizer=regularizers.l2(0.01),return_sequences=True))\n",
    "    model.add(Dropout(0.2))\n",
    "    model.add(SimpleRNN(24,activation='relu',kernel_regularizer=regularizers.l2(0.01),return_sequences=True))\n",
    "    model.add(Dropout(0.2))\n",
    "    model.add(SimpleRNN(16,activation='relu',kernel_regularizer=regularizers.l2(0.01),return_sequences=True))\n",
    "    model.add(Dropout(0.2))\n",
    "    model.add(SimpleRNN(4,activation='relu',kernel_regularizer=regularizers.l2(0.01)))\n",
    "    model.add(Dense(1,activation='sigmoid'))\n",
    "    model.compile(loss='binary_crossentropy',optimizer=RMSprop(lr=0.001), metrics=['acc'])\n",
    "    history=model.fit(X_train, y_train, epochs=epoch_sayisi, batch_size=batch_size,\n",
    "                      verbose=verbose,validation_split=validation_split)\n",
    "    return history,model"
   ]
  },
  {
   "cell_type": "code",
   "execution_count": 29,
   "id": "39e07241-3a26-4772-9a07-1120ea70b02c",
   "metadata": {},
   "outputs": [],
   "source": [
    "def lstm(epoch_sayisi):\n",
    "    model=Sequential()\n",
    "    model.add(Embedding(vocab_size,max_len, trainable=True,input_length=max_len))\n",
    "    model.add(LSTM(32,activation='relu',kernel_regularizer=regularizers.l2(0.01),return_sequences=True))\n",
    "    model.add(Dropout(0.2))\n",
    "    model.add(LSTM(16,activation='relu',kernel_regularizer=regularizers.l2(0.01),return_sequences=True))\n",
    "    model.add(Dropout(0.2))\n",
    "    model.add(LSTM(4,activation='relu',kernel_regularizer=regularizers.l2(0.01)))\n",
    "    model.add(Dense(1,activation='sigmoid'))\n",
    "    model.compile(loss='binary_crossentropy',optimizer=RMSprop(lr=0.001),metrics=['acc'])\n",
    "    history=model.fit(X_train, y_train, epochs=epoch_sayisi, batch_size=batch_size,\n",
    "                      verbose=verbose,validation_split=validation_split)\n",
    "    return history,model"
   ]
  },
  {
   "cell_type": "code",
   "execution_count": 30,
   "id": "ad560adb-5dbd-42c0-98d2-cdaf56a0c1fe",
   "metadata": {},
   "outputs": [],
   "source": [
    "def bilstm(epoch_sayisi):\n",
    "    model=Sequential()\n",
    "    model.add(Embedding(vocab_size,max_len, trainable=True,input_length=max_len))\n",
    "    model.add(Bidirectional(LSTM(32,activation='relu',kernel_regularizer=regularizers.l2(0.01),return_sequences=True)))\n",
    "    model.add(Dropout(0.2))\n",
    "    model.add(Bidirectional(LSTM(16,activation='relu',kernel_regularizer=regularizers.l2(0.01),return_sequences=True)))\n",
    "    model.add(Dropout(0.2))\n",
    "    model.add(Bidirectional(LSTM(4,activation='relu',kernel_regularizer=regularizers.l2(0.01))))\n",
    "    model.add(Dense(1,activation='sigmoid'))\n",
    "    model.compile(loss='binary_crossentropy',optimizer=RMSprop(lr=0.001),metrics=['acc'])\n",
    "    history=model.fit(X_train, y_train, epochs=epoch_sayisi, batch_size=batch_size,\n",
    "                      verbose=verbose,validation_split=validation_split)\n",
    "    return history,model"
   ]
  },
  {
   "cell_type": "code",
   "execution_count": 31,
   "id": "ca8329e2-44f2-4915-96a4-a8d0caf1647e",
   "metadata": {},
   "outputs": [],
   "source": [
    "def cnn(epoch_sayisi):\n",
    "    model=Sequential()\n",
    "    model.add(Embedding(vocab_size,max_len, trainable=True,input_length=max_len))\n",
    "    model.add(Conv1D(32,1,kernel_regularizer=regularizers.l2(0.01),activation='relu'))\n",
    "    model.add(Dropout(0.2))\n",
    "    model.add(Conv1D(16,1,kernel_regularizer=regularizers.l2(0.01),activation='relu'))\n",
    "    model.add(Dropout(0.2))\n",
    "    model.add(Conv1D(4,1,kernel_regularizer=regularizers.l2(0.01),activation='relu'))\n",
    "    model.add(GlobalMaxPooling1D())\n",
    "    model.add(Dense(512,activation='relu'))\n",
    "    model.add(Dense(1,activation='sigmoid'))\n",
    "    model.compile(loss='binary_crossentropy',optimizer=RMSprop(lr=0.001),metrics=['acc'])\n",
    "    history=model.fit(X_train, y_train, epochs=epoch_sayisi, batch_size=batch_size,\n",
    "                      verbose=verbose,validation_split=validation_split)\n",
    "    y_pred = history.predict(X_test)\n",
    "    from sklearn.metrics import classification_report\n",
    "    print(classification_report(y_test,y_pred.round()))\n",
    "    return history,model\n",
    "    #model.summary()"
   ]
  },
  {
   "cell_type": "code",
   "execution_count": 32,
   "id": "2c287800-400b-4623-8896-98dceca58b36",
   "metadata": {},
   "outputs": [
    {
     "name": "stdout",
     "output_type": "stream",
     "text": [
      "\n",
      "    Uygulanacak algoritmayı seçiniz:\n",
      "    1 - CNN\n",
      "    2 - RNN\n",
      "    3 - LSTM\n",
      "    \n",
      "\n",
      "\n",
      " cnn ---- \n",
      "Epoch 1/2\n"
     ]
    },
    {
     "name": "stderr",
     "output_type": "stream",
     "text": [
      "C:\\Users\\Birol\\anaconda3\\lib\\site-packages\\keras\\optimizers\\optimizer_v2\\rmsprop.py:135: UserWarning: The `lr` argument is deprecated, use `learning_rate` instead.\n",
      "  super(RMSprop, self).__init__(name, **kwargs)\n"
     ]
    },
    {
     "name": "stdout",
     "output_type": "stream",
     "text": [
      "454/454 [==============================] - 13s 27ms/step - loss: 0.6157 - acc: 0.7997 - val_loss: 0.4983 - val_acc: 0.8020\n",
      "Epoch 2/2\n",
      "454/454 [==============================] - 12s 27ms/step - loss: 0.4995 - acc: 0.8009 - val_loss: 0.4978 - val_acc: 0.8020\n"
     ]
    },
    {
     "ename": "AttributeError",
     "evalue": "'History' object has no attribute 'predict'",
     "output_type": "error",
     "traceback": [
      "\u001b[1;31m---------------------------------------------------------------------------\u001b[0m",
      "\u001b[1;31mAttributeError\u001b[0m                            Traceback (most recent call last)",
      "\u001b[1;32m<ipython-input-32-4c94a62ae4eb>\u001b[0m in \u001b[0;36m<module>\u001b[1;34m\u001b[0m\n\u001b[0;32m     13\u001b[0m     \u001b[1;31m#algoritma=input(\"Seçim:\").lower()\u001b[0m\u001b[1;33m\u001b[0m\u001b[1;33m\u001b[0m\u001b[1;33m\u001b[0m\u001b[0m\n\u001b[0;32m     14\u001b[0m     \u001b[1;32mif\u001b[0m\u001b[1;33m(\u001b[0m\u001b[0malgoritma\u001b[0m\u001b[1;33m==\u001b[0m\u001b[1;34m\"cnn\"\u001b[0m\u001b[1;33m)\u001b[0m\u001b[1;33m:\u001b[0m\u001b[1;33m\u001b[0m\u001b[1;33m\u001b[0m\u001b[0m\n\u001b[1;32m---> 15\u001b[1;33m         \u001b[0mhistory\u001b[0m\u001b[1;33m,\u001b[0m\u001b[0mmodel\u001b[0m\u001b[1;33m=\u001b[0m\u001b[0mcnn\u001b[0m\u001b[1;33m(\u001b[0m\u001b[0mepoch_sayisi\u001b[0m\u001b[1;33m)\u001b[0m\u001b[1;33m\u001b[0m\u001b[1;33m\u001b[0m\u001b[0m\n\u001b[0m\u001b[0;32m     16\u001b[0m     \u001b[1;32melif\u001b[0m\u001b[1;33m(\u001b[0m\u001b[0malgoritma\u001b[0m\u001b[1;33m==\u001b[0m\u001b[1;34m\"rnn\"\u001b[0m\u001b[1;33m)\u001b[0m\u001b[1;33m:\u001b[0m\u001b[1;33m\u001b[0m\u001b[1;33m\u001b[0m\u001b[0m\n\u001b[0;32m     17\u001b[0m         \u001b[0mhistory\u001b[0m\u001b[1;33m,\u001b[0m\u001b[0mmodel\u001b[0m\u001b[1;33m=\u001b[0m\u001b[0mrnn\u001b[0m\u001b[1;33m(\u001b[0m\u001b[0mepoch_sayisi\u001b[0m\u001b[1;33m)\u001b[0m\u001b[1;33m\u001b[0m\u001b[1;33m\u001b[0m\u001b[0m\n",
      "\u001b[1;32m<ipython-input-31-ed7bdc82eced>\u001b[0m in \u001b[0;36mcnn\u001b[1;34m(epoch_sayisi)\u001b[0m\n\u001b[0;32m     13\u001b[0m     history=model.fit(X_train, y_train, epochs=epoch_sayisi, batch_size=batch_size,\n\u001b[0;32m     14\u001b[0m                       verbose=verbose,validation_split=validation_split)\n\u001b[1;32m---> 15\u001b[1;33m     \u001b[0my_pred\u001b[0m \u001b[1;33m=\u001b[0m \u001b[0mhistory\u001b[0m\u001b[1;33m.\u001b[0m\u001b[0mpredict\u001b[0m\u001b[1;33m(\u001b[0m\u001b[0mX_test\u001b[0m\u001b[1;33m)\u001b[0m\u001b[1;33m\u001b[0m\u001b[1;33m\u001b[0m\u001b[0m\n\u001b[0m\u001b[0;32m     16\u001b[0m     \u001b[1;32mfrom\u001b[0m \u001b[0msklearn\u001b[0m\u001b[1;33m.\u001b[0m\u001b[0mmetrics\u001b[0m \u001b[1;32mimport\u001b[0m \u001b[0mclassification_report\u001b[0m\u001b[1;33m\u001b[0m\u001b[1;33m\u001b[0m\u001b[0m\n\u001b[0;32m     17\u001b[0m     \u001b[0mprint\u001b[0m\u001b[1;33m(\u001b[0m\u001b[0mclassification_report\u001b[0m\u001b[1;33m(\u001b[0m\u001b[0my_test\u001b[0m\u001b[1;33m,\u001b[0m\u001b[0my_pred\u001b[0m\u001b[1;33m.\u001b[0m\u001b[0mround\u001b[0m\u001b[1;33m(\u001b[0m\u001b[1;33m)\u001b[0m\u001b[1;33m)\u001b[0m\u001b[1;33m)\u001b[0m\u001b[1;33m\u001b[0m\u001b[1;33m\u001b[0m\u001b[0m\n",
      "\u001b[1;31mAttributeError\u001b[0m: 'History' object has no attribute 'predict'"
     ]
    }
   ],
   "source": [
    "#epoch_sayisi=int(input(\"Eposh sayisini giriniz..:\"))\n",
    "\n",
    "print('''\n",
    "    Uygulanacak algoritmayı seçiniz:\n",
    "    1 - CNN\n",
    "    2 - RNN\n",
    "    3 - LSTM\n",
    "    ''')\n",
    "\n",
    "epoch_sayisi=2\n",
    "for algoritma in [\"cnn\" ,\"rnn\", \"lstm\"]:\n",
    "    print(f\"\\n\\n {algoritma} ---- \")\n",
    "    #algoritma=input(\"Seçim:\").lower()\n",
    "    if(algoritma==\"cnn\"):\n",
    "        history,model=cnn(epoch_sayisi)\n",
    "    elif(algoritma==\"rnn\"):\n",
    "        history,model=rnn(epoch_sayisi)\n",
    "    elif(algoritma==\"lstm\"):\n",
    "        history,model=lstm(epoch_sayisi)\n",
    "\n",
    "#print(\"**** %s modelinde %s epochluk Acc %.2f  Loss %.2f\" %(algoritma,epoch_sayisi,history.history['acc'][epoch_sayisi-1]*100,history.history['loss'][epoch_sayisi-1]*100))\n",
    "\n",
    "#rnn_test=test(algoritma,model)"
   ]
  },
  {
   "cell_type": "code",
   "execution_count": null,
   "id": "51909632-c8a2-4f19-967a-a39900081bfe",
   "metadata": {},
   "outputs": [],
   "source": []
  }
 ],
 "metadata": {
  "kernelspec": {
   "display_name": "Python 3",
   "language": "python",
   "name": "python3"
  },
  "language_info": {
   "codemirror_mode": {
    "name": "ipython",
    "version": 3
   },
   "file_extension": ".py",
   "mimetype": "text/x-python",
   "name": "python",
   "nbconvert_exporter": "python",
   "pygments_lexer": "ipython3",
   "version": "3.8.8"
  }
 },
 "nbformat": 4,
 "nbformat_minor": 5
}
