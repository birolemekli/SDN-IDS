{
 "cells": [
  {
   "cell_type": "code",
   "execution_count": 1,
   "id": "5ed0e961-ca6a-4c2c-9644-3ebde239abf5",
   "metadata": {},
   "outputs": [],
   "source": [
    "import pandas as pd\n",
    "import numpy as np\n",
    "from sklearn.preprocessing import StandardScaler\n",
    "from sklearn.model_selection import train_test_split"
   ]
  },
  {
   "cell_type": "code",
   "execution_count": 2,
   "id": "b1192ed6-2e7f-42e0-ac86-4a5d1dd3d2f2",
   "metadata": {},
   "outputs": [],
   "source": [
    "normal_data=pd.read_csv(\"../Normal_data.csv\")\n",
    "metasploti_data=pd.read_csv(\"../metasploitable-2.csv\")\n",
    "ovs_data=pd.read_csv(\"../OVS.csv\")"
   ]
  },
  {
   "cell_type": "code",
   "execution_count": 3,
   "id": "fbad1d64-6427-449e-a854-a4be1341dc3b",
   "metadata": {},
   "outputs": [],
   "source": [
    "frames=[normal_data,metasploti_data,ovs_data]\n",
    "data=pd.concat(frames,ignore_index=True)"
   ]
  },
  {
   "cell_type": "code",
   "execution_count": 4,
   "id": "64687a5f-a26f-40f6-82a0-3a3ba92c006f",
   "metadata": {},
   "outputs": [
    {
     "name": "stdout",
     "output_type": "stream",
     "text": [
      "['Normal' 'U2R' 'BFA' 'DDoS' 'DoS' 'Probe' 'Web-Attack' 'BOTNET']\n"
     ]
    }
   ],
   "source": [
    "data.Label = data.Label.str.replace(' ', '')\n",
    "print(data.Label.unique())"
   ]
  },
  {
   "cell_type": "code",
   "execution_count": 5,
   "id": "8913cd65-fa8f-40c6-b872-8ec3e1db16aa",
   "metadata": {},
   "outputs": [],
   "source": [
    "data=data.loc[:, (data != 0).any(axis=0)]"
   ]
  },
  {
   "cell_type": "code",
   "execution_count": 6,
   "id": "08bad3c6-3739-449a-8f93-a1ad821ec36b",
   "metadata": {},
   "outputs": [
    {
     "data": {
      "text/html": [
       "<div>\n",
       "<style scoped>\n",
       "    .dataframe tbody tr th:only-of-type {\n",
       "        vertical-align: middle;\n",
       "    }\n",
       "\n",
       "    .dataframe tbody tr th {\n",
       "        vertical-align: top;\n",
       "    }\n",
       "\n",
       "    .dataframe thead th {\n",
       "        text-align: right;\n",
       "    }\n",
       "</style>\n",
       "<table border=\"1\" class=\"dataframe\">\n",
       "  <thead>\n",
       "    <tr style=\"text-align: right;\">\n",
       "      <th></th>\n",
       "      <th>ACK Flag Cnt</th>\n",
       "      <th>Active Max</th>\n",
       "      <th>Active Mean</th>\n",
       "      <th>Active Min</th>\n",
       "      <th>Active Std</th>\n",
       "      <th>Bwd Header Len</th>\n",
       "      <th>Bwd IAT Max</th>\n",
       "      <th>Bwd IAT Mean</th>\n",
       "      <th>Bwd IAT Min</th>\n",
       "      <th>Bwd IAT Std</th>\n",
       "      <th>...</th>\n",
       "      <th>SYN Flag Cnt</th>\n",
       "      <th>Subflow Bwd Byts</th>\n",
       "      <th>Subflow Bwd Pkts</th>\n",
       "      <th>Subflow Fwd Byts</th>\n",
       "      <th>Subflow Fwd Pkts</th>\n",
       "      <th>Tot Bwd Pkts</th>\n",
       "      <th>Tot Fwd Pkts</th>\n",
       "      <th>TotLen Bwd Pkts</th>\n",
       "      <th>TotLen Fwd Pkts</th>\n",
       "      <th>URG Flag Cnt</th>\n",
       "    </tr>\n",
       "  </thead>\n",
       "  <tbody>\n",
       "    <tr>\n",
       "      <th>0</th>\n",
       "      <td>0</td>\n",
       "      <td>0.0</td>\n",
       "      <td>0.0</td>\n",
       "      <td>0.0</td>\n",
       "      <td>0.0</td>\n",
       "      <td>0</td>\n",
       "      <td>12.0</td>\n",
       "      <td>12.0</td>\n",
       "      <td>12.0</td>\n",
       "      <td>0.00000</td>\n",
       "      <td>...</td>\n",
       "      <td>0</td>\n",
       "      <td>0</td>\n",
       "      <td>2</td>\n",
       "      <td>0</td>\n",
       "      <td>0</td>\n",
       "      <td>2</td>\n",
       "      <td>0</td>\n",
       "      <td>0.0</td>\n",
       "      <td>0.0</td>\n",
       "      <td>0</td>\n",
       "    </tr>\n",
       "    <tr>\n",
       "      <th>1</th>\n",
       "      <td>1</td>\n",
       "      <td>0.0</td>\n",
       "      <td>0.0</td>\n",
       "      <td>0.0</td>\n",
       "      <td>0.0</td>\n",
       "      <td>64</td>\n",
       "      <td>3369.0</td>\n",
       "      <td>3369.0</td>\n",
       "      <td>3369.0</td>\n",
       "      <td>0.00000</td>\n",
       "      <td>...</td>\n",
       "      <td>0</td>\n",
       "      <td>0</td>\n",
       "      <td>2</td>\n",
       "      <td>0</td>\n",
       "      <td>0</td>\n",
       "      <td>2</td>\n",
       "      <td>0</td>\n",
       "      <td>0.0</td>\n",
       "      <td>0.0</td>\n",
       "      <td>0</td>\n",
       "    </tr>\n",
       "    <tr>\n",
       "      <th>2</th>\n",
       "      <td>0</td>\n",
       "      <td>0.0</td>\n",
       "      <td>0.0</td>\n",
       "      <td>0.0</td>\n",
       "      <td>0.0</td>\n",
       "      <td>0</td>\n",
       "      <td>13.0</td>\n",
       "      <td>13.0</td>\n",
       "      <td>13.0</td>\n",
       "      <td>0.00000</td>\n",
       "      <td>...</td>\n",
       "      <td>0</td>\n",
       "      <td>0</td>\n",
       "      <td>2</td>\n",
       "      <td>0</td>\n",
       "      <td>0</td>\n",
       "      <td>2</td>\n",
       "      <td>0</td>\n",
       "      <td>0.0</td>\n",
       "      <td>0.0</td>\n",
       "      <td>0</td>\n",
       "    </tr>\n",
       "    <tr>\n",
       "      <th>3</th>\n",
       "      <td>1</td>\n",
       "      <td>0.0</td>\n",
       "      <td>0.0</td>\n",
       "      <td>0.0</td>\n",
       "      <td>0.0</td>\n",
       "      <td>20</td>\n",
       "      <td>0.0</td>\n",
       "      <td>0.0</td>\n",
       "      <td>0.0</td>\n",
       "      <td>0.00000</td>\n",
       "      <td>...</td>\n",
       "      <td>0</td>\n",
       "      <td>0</td>\n",
       "      <td>1</td>\n",
       "      <td>248</td>\n",
       "      <td>2</td>\n",
       "      <td>1</td>\n",
       "      <td>2</td>\n",
       "      <td>0.0</td>\n",
       "      <td>248.0</td>\n",
       "      <td>0</td>\n",
       "    </tr>\n",
       "    <tr>\n",
       "      <th>4</th>\n",
       "      <td>0</td>\n",
       "      <td>0.0</td>\n",
       "      <td>0.0</td>\n",
       "      <td>0.0</td>\n",
       "      <td>0.0</td>\n",
       "      <td>144</td>\n",
       "      <td>167136.0</td>\n",
       "      <td>115976.2</td>\n",
       "      <td>2573.0</td>\n",
       "      <td>72264.35192</td>\n",
       "      <td>...</td>\n",
       "      <td>1</td>\n",
       "      <td>3510</td>\n",
       "      <td>6</td>\n",
       "      <td>370</td>\n",
       "      <td>7</td>\n",
       "      <td>6</td>\n",
       "      <td>7</td>\n",
       "      <td>3510.0</td>\n",
       "      <td>370.0</td>\n",
       "      <td>0</td>\n",
       "    </tr>\n",
       "  </tbody>\n",
       "</table>\n",
       "<p>5 rows × 66 columns</p>\n",
       "</div>"
      ],
      "text/plain": [
       "   ACK Flag Cnt  Active Max  Active Mean  Active Min  Active Std  \\\n",
       "0             0         0.0          0.0         0.0         0.0   \n",
       "1             1         0.0          0.0         0.0         0.0   \n",
       "2             0         0.0          0.0         0.0         0.0   \n",
       "3             1         0.0          0.0         0.0         0.0   \n",
       "4             0         0.0          0.0         0.0         0.0   \n",
       "\n",
       "   Bwd Header Len  Bwd IAT Max  Bwd IAT Mean  Bwd IAT Min  Bwd IAT Std  ...  \\\n",
       "0               0         12.0          12.0         12.0      0.00000  ...   \n",
       "1              64       3369.0        3369.0       3369.0      0.00000  ...   \n",
       "2               0         13.0          13.0         13.0      0.00000  ...   \n",
       "3              20          0.0           0.0          0.0      0.00000  ...   \n",
       "4             144     167136.0      115976.2       2573.0  72264.35192  ...   \n",
       "\n",
       "   SYN Flag Cnt  Subflow Bwd Byts  Subflow Bwd Pkts  Subflow Fwd Byts  \\\n",
       "0             0                 0                 2                 0   \n",
       "1             0                 0                 2                 0   \n",
       "2             0                 0                 2                 0   \n",
       "3             0                 0                 1               248   \n",
       "4             1              3510                 6               370   \n",
       "\n",
       "   Subflow Fwd Pkts  Tot Bwd Pkts  Tot Fwd Pkts  TotLen Bwd Pkts  \\\n",
       "0                 0             2             0              0.0   \n",
       "1                 0             2             0              0.0   \n",
       "2                 0             2             0              0.0   \n",
       "3                 2             1             2              0.0   \n",
       "4                 7             6             7           3510.0   \n",
       "\n",
       "   TotLen Fwd Pkts  URG Flag Cnt  \n",
       "0              0.0             0  \n",
       "1              0.0             0  \n",
       "2              0.0             0  \n",
       "3            248.0             0  \n",
       "4            370.0             0  \n",
       "\n",
       "[5 rows x 66 columns]"
      ]
     },
     "execution_count": 6,
     "metadata": {},
     "output_type": "execute_result"
    }
   ],
   "source": [
    "data3 = data.loc[:, data.columns.difference(['Flow ID', 'Src IP','Dst IP','Timestamp','Src Port','Dst Port','Protocol'])]\n",
    "data3=data3.sample(frac=1, replace=True, random_state=3).reset_index(drop=True)\n",
    "data3.head()"
   ]
  },
  {
   "cell_type": "code",
   "execution_count": 7,
   "id": "8f4a0855-b32f-404f-8e02-41647f408398",
   "metadata": {},
   "outputs": [
    {
     "data": {
      "text/plain": [
       "array(['1', '0'], dtype=object)"
      ]
     },
     "execution_count": 7,
     "metadata": {},
     "output_type": "execute_result"
    }
   ],
   "source": [
    "data3.Label.replace(['U2R','BFA','DDoS','DoS','Probe','Web-Attack','BOTNET'],'Saldiri',inplace=True)\n",
    "data3.Label.replace(\"Saldiri\",\"1\",inplace=True)\n",
    "data3.Label.replace(\"Normal\",\"0\",inplace=True)\n",
    "data3.Label.unique()"
   ]
  },
  {
   "cell_type": "code",
   "execution_count": 8,
   "id": "cd6f0581-ae64-42ba-99fc-bc53a92205ce",
   "metadata": {},
   "outputs": [
    {
     "name": "stdout",
     "output_type": "stream",
     "text": [
      "(343889, 59)\n",
      "(343889,)\n"
     ]
    }
   ],
   "source": [
    "X=data3[[\"ACK Flag Cnt\",\n",
    "\"Active Max\",\n",
    "\"Active Mean\",\n",
    "\"Active Min\",\n",
    "\"Active Std\",\n",
    "\"Bwd Header Len\",\n",
    "\"Bwd IAT Max\",\n",
    "\"Bwd IAT Mean\",\n",
    "\"Bwd IAT Min\",\n",
    "\"Bwd IAT Std\",\n",
    "\"Bwd IAT Tot\",\n",
    "\"Bwd PSH Flags\",\n",
    "\"Bwd Pkt Len Max\",\n",
    "\"Bwd Pkt Len Mean\",\n",
    "\"Bwd Pkt Len Min\",\n",
    "\"Bwd Pkt Len Std\",\n",
    "\"Bwd Pkts/s\",\n",
    "\"Bwd URG Flags\",\n",
    "\"Down/Up Ratio\",\n",
    "\"FIN Flag Cnt\",\n",
    "\"Flow Byts/s\",\n",
    "\"Flow Duration\",\n",
    "\"Flow IAT Max\",\n",
    "\"Flow IAT Mean\",\n",
    "\"Flow IAT Min\",\n",
    "\"Flow IAT Std\",\n",
    "\"Flow Pkts/s\",\n",
    "\"Fwd Act Data Pkts\",\n",
    "\"Fwd Header Len\",\n",
    "\"Fwd IAT Max\",\n",
    "\"Fwd IAT Mean\",\n",
    "\"Fwd IAT Min\",\n",
    "\"Fwd IAT Std\",\n",
    "\"Fwd IAT Tot\",\n",
    "\"Fwd Pkt Len Max\",\n",
    "\"Fwd Pkt Len Mean\",\n",
    "\"Fwd Pkt Len Min\",\n",
    "\"Fwd Pkt Len Std\",\n",
    "\"Fwd Seg Size Avg\",\n",
    "\"Idle Mean\",\n",
    "\"Idle Min\",\n",
    "\"Idle Std\",\n",
    "\"Init Bwd Win Byts\",\n",
    "\"PSH Flag Cnt\",\n",
    "\"Pkt Len Max\",\n",
    "\"Pkt Len Mean\",\n",
    "\"Pkt Len Min\",\n",
    "\"Pkt Len Std\",\n",
    "\"Pkt Len Var\",\n",
    "\"Pkt Size Avg\",\n",
    "\"RST Flag Cnt\",\n",
    "\"SYN Flag Cnt\",\n",
    "\"Subflow Bwd Byts\",\n",
    "\"Subflow Bwd Pkts\",\n",
    "\"Subflow Fwd Pkts\",\n",
    "\"Tot Bwd Pkts\",\n",
    "\"Tot Fwd Pkts\",\n",
    "\"TotLen Bwd Pkts\",\n",
    "\"URG Flag Cnt\"]]\n",
    "y=data3.Label\n",
    "print(X.shape)\n",
    "print(y.shape)"
   ]
  },
  {
   "cell_type": "code",
   "execution_count": 9,
   "id": "44a47739-1416-4648-a9d5-db63f3c5914b",
   "metadata": {},
   "outputs": [
    {
     "data": {
      "text/plain": [
       "array([[-0.61566854, -0.08817253, -0.07895971, ..., -0.06209157,\n",
       "        -0.02986745, -0.10935765],\n",
       "       [ 1.62425061, -0.08817253, -0.07895971, ..., -0.06209157,\n",
       "        -0.02986745, -0.10935765],\n",
       "       [-0.61566854, -0.08817253, -0.07895971, ..., -0.06209157,\n",
       "        -0.02986745, -0.10935765],\n",
       "       ...,\n",
       "       [ 1.62425061, -0.08817253, -0.07895971, ..., -0.06209157,\n",
       "        -0.02986745, -0.10935765],\n",
       "       [ 1.62425061, -0.08709042, -0.07730406, ..., -0.00703453,\n",
       "        -0.02974927, -0.10935765],\n",
       "       [ 1.62425061, -0.08817253, -0.07895971, ..., -0.06209157,\n",
       "        -0.02986745, -0.10935765]])"
      ]
     },
     "execution_count": 9,
     "metadata": {},
     "output_type": "execute_result"
    }
   ],
   "source": [
    "scaler = StandardScaler()\n",
    "X_scaled = scaler.fit_transform(X)\n",
    "X_scaled"
   ]
  },
  {
   "cell_type": "code",
   "execution_count": 10,
   "id": "81f7649f-0ebc-4c06-8253-46fcc0deea6e",
   "metadata": {},
   "outputs": [],
   "source": [
    "y= pd.get_dummies(y, drop_first=True)\n",
    "X_train, X_test, y_train, y_test = X_train, X_test, y_train, y_test = train_test_split(X_scaled,y, test_size=0.25, random_state=1)"
   ]
  },
  {
   "cell_type": "code",
   "execution_count": 11,
   "id": "7ca93f35-08fc-4fa7-83c9-cc5a56ea8420",
   "metadata": {},
   "outputs": [
    {
     "name": "stderr",
     "output_type": "stream",
     "text": [
      "C:\\Users\\Birol\\anaconda3\\lib\\site-packages\\sklearn\\linear_model\\_logistic.py:763: ConvergenceWarning: lbfgs failed to converge (status=1):\n",
      "STOP: TOTAL NO. of ITERATIONS REACHED LIMIT.\n",
      "\n",
      "Increase the number of iterations (max_iter) or scale the data as shown in:\n",
      "    https://scikit-learn.org/stable/modules/preprocessing.html\n",
      "Please also refer to the documentation for alternative solver options:\n",
      "    https://scikit-learn.org/stable/modules/linear_model.html#logistic-regression\n",
      "  n_iter_i = _check_optimize_result(\n"
     ]
    },
    {
     "data": {
      "text/plain": [
       "0.9966384795226408"
      ]
     },
     "execution_count": 11,
     "metadata": {},
     "output_type": "execute_result"
    }
   ],
   "source": [
    "from sklearn.linear_model import LogisticRegression\n",
    "model = LogisticRegression()\n",
    "model.fit(X_train,y_train)\n",
    "model.score(X_test,y_test)"
   ]
  },
  {
   "cell_type": "code",
   "execution_count": 12,
   "id": "3efce632-4589-4e40-9ef8-4ce398d79e87",
   "metadata": {},
   "outputs": [
    {
     "name": "stderr",
     "output_type": "stream",
     "text": [
      "C:\\Users\\Birol\\anaconda3\\lib\\site-packages\\xgboost\\sklearn.py:793: UserWarning: `early_stopping_rounds` in `fit` method is deprecated for better compatibility with scikit-learn, use `early_stopping_rounds` in constructor or`set_params` instead.\n",
      "  warnings.warn(\n"
     ]
    },
    {
     "name": "stdout",
     "output_type": "stream",
     "text": [
      "0.9989439831686646\n",
      "0.00031474332366912593\n"
     ]
    }
   ],
   "source": [
    "from xgboost import XGBRegressor\n",
    "from sklearn.metrics import mean_absolute_error\n",
    "model = XGBRegressor(n_estimators=1000,learning_rate=0.5,n_jobs=4)\n",
    "model.fit(X_train, y_train, \n",
    "             early_stopping_rounds=500, \n",
    "             eval_set=[(X_test, y_test)],\n",
    "             verbose=False)\n",
    "pred=model.predict(X_test)\n",
    "print(model.score(X_test,y_test))\n",
    "print(mean_absolute_error(y_test,pred))"
   ]
  },
  {
   "cell_type": "code",
   "execution_count": 13,
   "id": "76c9cef9-3119-4092-918f-b9119a774f6c",
   "metadata": {
    "tags": []
   },
   "outputs": [
    {
     "name": "stdout",
     "output_type": "stream",
     "text": [
      "0.9993469316241241\n",
      "0.00031474332366912593\n"
     ]
    }
   ],
   "source": [
    "from sklearn.tree import DecisionTreeRegressor\n",
    "model=DecisionTreeRegressor(random_state=0)\n",
    "model.fit(X_train,y_train)\n",
    "pred=model.predict(X_test)\n",
    "print(model.score(X_test,y_test))\n",
    "print(mean_absolute_error(y_test,pred))"
   ]
  },
  {
   "cell_type": "code",
   "execution_count": 14,
   "id": "4275f7d0-bf11-4614-893b-d53c7a6b7554",
   "metadata": {},
   "outputs": [
    {
     "name": "stdout",
     "output_type": "stream",
     "text": [
      "0.9998022635013318\n",
      "0.00031474332366912593\n"
     ]
    }
   ],
   "source": [
    "from sklearn.neighbors import KNeighborsClassifier\n",
    "model=KNeighborsClassifier(n_neighbors=3,weights='uniform')\n",
    "model.fit(X_train,y_train)\n",
    "pred=model.predict(X_test)\n",
    "\n",
    "print(model.score(X_test,y_test))\n",
    "print(mean_absolute_error(y_test,pred))"
   ]
  },
  {
   "cell_type": "code",
   "execution_count": 12,
   "id": "7069f34a-59ba-4983-b5e8-79c4db88e270",
   "metadata": {},
   "outputs": [
    {
     "name": "stdout",
     "output_type": "stream",
     "text": [
      "----- Random Forest ------\n",
      "0.9993258084903222\n"
     ]
    },
    {
     "ename": "NameError",
     "evalue": "name 'mean_absolute_error' is not defined",
     "output_type": "error",
     "traceback": [
      "\u001b[1;31m---------------------------------------------------------------------------\u001b[0m",
      "\u001b[1;31mNameError\u001b[0m                                 Traceback (most recent call last)",
      "\u001b[1;32m<ipython-input-12-385c45b8192b>\u001b[0m in \u001b[0;36m<module>\u001b[1;34m\u001b[0m\n\u001b[0;32m      4\u001b[0m \u001b[0mprint\u001b[0m\u001b[1;33m(\u001b[0m\u001b[1;34m\"----- Random Forest ------\"\u001b[0m\u001b[1;33m)\u001b[0m\u001b[1;33m\u001b[0m\u001b[1;33m\u001b[0m\u001b[0m\n\u001b[0;32m      5\u001b[0m \u001b[0mprint\u001b[0m\u001b[1;33m(\u001b[0m\u001b[0mmodel\u001b[0m\u001b[1;33m.\u001b[0m\u001b[0mscore\u001b[0m\u001b[1;33m(\u001b[0m\u001b[0mX_test\u001b[0m\u001b[1;33m,\u001b[0m\u001b[0my_test\u001b[0m\u001b[1;33m)\u001b[0m\u001b[1;33m)\u001b[0m\u001b[1;33m\u001b[0m\u001b[1;33m\u001b[0m\u001b[0m\n\u001b[1;32m----> 6\u001b[1;33m \u001b[0mprint\u001b[0m\u001b[1;33m(\u001b[0m\u001b[0mmean_absolute_error\u001b[0m\u001b[1;33m(\u001b[0m\u001b[0my_test\u001b[0m\u001b[1;33m,\u001b[0m\u001b[0mpred\u001b[0m\u001b[1;33m)\u001b[0m\u001b[1;33m)\u001b[0m\u001b[1;33m\u001b[0m\u001b[1;33m\u001b[0m\u001b[0m\n\u001b[0m\u001b[0;32m      7\u001b[0m \u001b[0mprint\u001b[0m\u001b[1;33m(\u001b[0m\u001b[1;34m\"----- Random Forest ------\"\u001b[0m\u001b[1;33m)\u001b[0m\u001b[1;33m\u001b[0m\u001b[1;33m\u001b[0m\u001b[0m\n",
      "\u001b[1;31mNameError\u001b[0m: name 'mean_absolute_error' is not defined"
     ]
    }
   ],
   "source": [
    "from sklearn.ensemble import RandomForestRegressor\n",
    "model=RandomForestRegressor(random_state=1)\n",
    "model.fit(X_train,y_train)\n",
    "pred=model.predict(X_test)\n",
    "\n",
    "print(\"----- Random Forest ------\")\n",
    "print(model.score(X_test,y_test))\n",
    "print(mean_absolute_error(y_test,pred))\n",
    "print(\"----- Random Forest ------\")"
   ]
  },
  {
   "cell_type": "code",
   "execution_count": 13,
   "id": "4873d005-5173-4056-8076-e360a5fa623b",
   "metadata": {},
   "outputs": [
    {
     "name": "stdout",
     "output_type": "stream",
     "text": [
      "0.9992206855640724\n"
     ]
    },
    {
     "ename": "NameError",
     "evalue": "name 'mean_absolute_error' is not defined",
     "output_type": "error",
     "traceback": [
      "\u001b[1;31m---------------------------------------------------------------------------\u001b[0m",
      "\u001b[1;31mNameError\u001b[0m                                 Traceback (most recent call last)",
      "\u001b[1;32m<ipython-input-13-9bb3de72b5a6>\u001b[0m in \u001b[0;36m<module>\u001b[1;34m\u001b[0m\n\u001b[0;32m      6\u001b[0m \u001b[1;33m\u001b[0m\u001b[0m\n\u001b[0;32m      7\u001b[0m \u001b[0mprint\u001b[0m\u001b[1;33m(\u001b[0m\u001b[0mmodel\u001b[0m\u001b[1;33m.\u001b[0m\u001b[0mscore\u001b[0m\u001b[1;33m(\u001b[0m\u001b[0mX_test\u001b[0m\u001b[1;33m,\u001b[0m\u001b[0my_test\u001b[0m\u001b[1;33m)\u001b[0m\u001b[1;33m)\u001b[0m\u001b[1;33m\u001b[0m\u001b[1;33m\u001b[0m\u001b[0m\n\u001b[1;32m----> 8\u001b[1;33m \u001b[0mprint\u001b[0m\u001b[1;33m(\u001b[0m\u001b[0mmean_absolute_error\u001b[0m\u001b[1;33m(\u001b[0m\u001b[0my_test\u001b[0m\u001b[1;33m,\u001b[0m\u001b[0mpred\u001b[0m\u001b[1;33m)\u001b[0m\u001b[1;33m)\u001b[0m\u001b[1;33m\u001b[0m\u001b[1;33m\u001b[0m\u001b[0m\n\u001b[0m",
      "\u001b[1;31mNameError\u001b[0m: name 'mean_absolute_error' is not defined"
     ]
    }
   ],
   "source": [
    "from sklearn.ensemble import AdaBoostClassifier\n",
    "model = AdaBoostClassifier(n_estimators=50,\n",
    "                         learning_rate=1)\n",
    "model.fit(X_train,y_train)\n",
    "pred=model.predict(X_test)\n",
    "\n",
    "print(model.score(X_test,y_test))\n",
    "print(mean_absolute_error(y_test,pred))"
   ]
  },
  {
   "cell_type": "code",
   "execution_count": 11,
   "id": "78d9984b-dbb4-43e1-a59c-71b61dc0ba39",
   "metadata": {},
   "outputs": [
    {
     "name": "stdout",
     "output_type": "stream",
     "text": [
      "----- GaussianNB ------\n",
      "0.9388180010003141\n"
     ]
    },
    {
     "ename": "NameError",
     "evalue": "name 'mean_absolute_error' is not defined",
     "output_type": "error",
     "traceback": [
      "\u001b[1;31m---------------------------------------------------------------------------\u001b[0m",
      "\u001b[1;31mNameError\u001b[0m                                 Traceback (most recent call last)",
      "\u001b[1;32m<ipython-input-11-bc22b7c9f38b>\u001b[0m in \u001b[0;36m<module>\u001b[1;34m\u001b[0m\n\u001b[0;32m      5\u001b[0m \u001b[0mprint\u001b[0m\u001b[1;33m(\u001b[0m\u001b[1;34m\"----- GaussianNB ------\"\u001b[0m\u001b[1;33m)\u001b[0m\u001b[1;33m\u001b[0m\u001b[1;33m\u001b[0m\u001b[0m\n\u001b[0;32m      6\u001b[0m \u001b[0mprint\u001b[0m\u001b[1;33m(\u001b[0m\u001b[0mmodel\u001b[0m\u001b[1;33m.\u001b[0m\u001b[0mscore\u001b[0m\u001b[1;33m(\u001b[0m\u001b[0mX_test\u001b[0m\u001b[1;33m,\u001b[0m\u001b[0my_test\u001b[0m\u001b[1;33m)\u001b[0m\u001b[1;33m)\u001b[0m\u001b[1;33m\u001b[0m\u001b[1;33m\u001b[0m\u001b[0m\n\u001b[1;32m----> 7\u001b[1;33m \u001b[0mprint\u001b[0m\u001b[1;33m(\u001b[0m\u001b[0mmean_absolute_error\u001b[0m\u001b[1;33m(\u001b[0m\u001b[0my_test\u001b[0m\u001b[1;33m,\u001b[0m\u001b[0mpred\u001b[0m\u001b[1;33m)\u001b[0m\u001b[1;33m)\u001b[0m\u001b[1;33m\u001b[0m\u001b[1;33m\u001b[0m\u001b[0m\n\u001b[0m\u001b[0;32m      8\u001b[0m \u001b[0mprint\u001b[0m\u001b[1;33m(\u001b[0m\u001b[1;34m\"----- GaussianNB ------\"\u001b[0m\u001b[1;33m)\u001b[0m\u001b[1;33m\u001b[0m\u001b[1;33m\u001b[0m\u001b[0m\n",
      "\u001b[1;31mNameError\u001b[0m: name 'mean_absolute_error' is not defined"
     ]
    }
   ],
   "source": [
    "from sklearn.naive_bayes import GaussianNB\n",
    "model = GaussianNB()\n",
    "model.fit(X_train,y_train)\n",
    "pred=model.predict(X_test)\n",
    "print(\"----- GaussianNB ------\")\n",
    "print(model.score(X_test,y_test))\n",
    "print(mean_absolute_error(y_test,pred))\n",
    "print(\"----- GaussianNB ------\")"
   ]
  },
  {
   "cell_type": "code",
   "execution_count": null,
   "id": "ff60af53-a248-4dac-bfbf-63fd08a1644b",
   "metadata": {},
   "outputs": [],
   "source": [
    "from sklearn.svm import SVC\n",
    "model = SVC(C=10.0, random_state=1, kernel='linear')\n",
    "model.fit(X_train,y_train)\n",
    "pred=model.predict(X_test)\n",
    "\n",
    "print(model.score(X_test,y_test))\n",
    "print(mean_absolute_error(y_test,pred))"
   ]
  },
  {
   "cell_type": "code",
   "execution_count": 11,
   "id": "e456150d-9c75-4c9d-a5fa-54fd288885dc",
   "metadata": {},
   "outputs": [],
   "source": [
    "from keras.models import Sequential\n",
    "from keras.layers import Dense, Dropout, Activation,Flatten\n",
    "from keras.layers import  Embedding, SimpleRNN, LSTM,Masking,Bidirectional\n",
    "from keras.layers import Conv1D, GlobalMaxPooling1D\n",
    "from keras.models import model_from_json,model_from_yaml,load_model\n",
    "from keras.preprocessing.text import Tokenizer\n",
    "from keras.preprocessing import sequence,text\n",
    "from sklearn.preprocessing import LabelEncoder\n",
    "from keras import metrics, regularizers\n",
    "from keras.optimizers import RMSprop,Adam\n",
    "from keras import backend as K"
   ]
  },
  {
   "cell_type": "code",
   "execution_count": 12,
   "id": "e56890c0-8361-4354-a40d-344db54e59cc",
   "metadata": {},
   "outputs": [
    {
     "name": "stdout",
     "output_type": "stream",
     "text": [
      "(257916, 59)\n",
      "(85973, 59)\n",
      "(257916, 1)\n",
      "(85973, 1)\n"
     ]
    }
   ],
   "source": [
    "print(X_train.shape)\n",
    "print(X_test.shape)\n",
    "print(y_train.shape) \n",
    "print(y_test.shape)"
   ]
  },
  {
   "cell_type": "code",
   "execution_count": 13,
   "id": "6e5b3d36-fede-4bf7-90e2-b6d1071adc2e",
   "metadata": {},
   "outputs": [],
   "source": [
    "# Model için gerekli değerler\n",
    "#epochs_sayisi=5\n",
    "batch_size=512\n",
    "# Çıktı gözükmemesi için\n",
    "verbose=1\n",
    "validation_split=0.1\n",
    "max_len=len(X.columns)\n",
    "vocab_size=10000"
   ]
  },
  {
   "cell_type": "code",
   "execution_count": 14,
   "id": "9ebe6a72-8973-4776-b14f-b682dde636f0",
   "metadata": {},
   "outputs": [],
   "source": [
    "def rnn(epoch_sayisi):\n",
    "    model=Sequential()\n",
    "    model.add(Embedding(vocab_size,max_len, trainable=True,input_length=max_len))\n",
    "    model.add(SimpleRNN(40,activation='relu',kernel_regularizer=regularizers.l2(0.01),return_sequences=True))\n",
    "    model.add(Dropout(0.2))\n",
    "    model.add(SimpleRNN(32,activation='relu',kernel_regularizer=regularizers.l2(0.01),return_sequences=True))\n",
    "    model.add(Dropout(0.2))\n",
    "    model.add(SimpleRNN(24,activation='relu',kernel_regularizer=regularizers.l2(0.01),return_sequences=True))\n",
    "    model.add(Dropout(0.2))\n",
    "    model.add(SimpleRNN(16,activation='relu',kernel_regularizer=regularizers.l2(0.01),return_sequences=True))\n",
    "    model.add(Dropout(0.2))\n",
    "    model.add(SimpleRNN(4,activation='relu',kernel_regularizer=regularizers.l2(0.01)))\n",
    "    model.add(Dense(1,activation='sigmoid'))\n",
    "    model.compile(loss='binary_crossentropy',optimizer=RMSprop(lr=0.001), metrics=['acc'])\n",
    "    history=model.fit(X_train, y_train, epochs=epoch_sayisi, batch_size=batch_size,\n",
    "                      verbose=verbose,validation_split=validation_split)\n",
    "    return history,model"
   ]
  },
  {
   "cell_type": "code",
   "execution_count": 15,
   "id": "ce599fd0-f16c-44ab-9e2d-caac0bc99ce4",
   "metadata": {},
   "outputs": [],
   "source": [
    "def lstm(epoch_sayisi):\n",
    "    model=Sequential()\n",
    "    model.add(Embedding(vocab_size,max_len, trainable=True,input_length=max_len))\n",
    "    model.add(LSTM(32,activation='relu',kernel_regularizer=regularizers.l2(0.01),return_sequences=True))\n",
    "    model.add(Dropout(0.2))\n",
    "    model.add(LSTM(16,activation='relu',kernel_regularizer=regularizers.l2(0.01),return_sequences=True))\n",
    "    model.add(Dropout(0.2))\n",
    "    model.add(LSTM(4,activation='relu',kernel_regularizer=regularizers.l2(0.01)))\n",
    "    model.add(Dense(1,activation='sigmoid'))\n",
    "    model.compile(loss='binary_crossentropy',optimizer=RMSprop(lr=0.001),metrics=['acc'])\n",
    "    history=model.fit(X_train, y_train, epochs=epoch_sayisi, batch_size=batch_size,\n",
    "                      verbose=verbose,validation_split=validation_split)\n",
    "    return history,model"
   ]
  },
  {
   "cell_type": "code",
   "execution_count": 16,
   "id": "87ff8ecd-cfc7-4c36-846b-0c97cea9ea3f",
   "metadata": {},
   "outputs": [],
   "source": [
    "def bilstm(epoch_sayisi):\n",
    "    model=Sequential()\n",
    "    model.add(Embedding(vocab_size,max_len, trainable=True,input_length=max_len))\n",
    "    model.add(Bidirectional(LSTM(32,activation='relu',kernel_regularizer=regularizers.l2(0.01),return_sequences=True)))\n",
    "    model.add(Dropout(0.2))\n",
    "    model.add(Bidirectional(LSTM(16,activation='relu',kernel_regularizer=regularizers.l2(0.01),return_sequences=True)))\n",
    "    model.add(Dropout(0.2))\n",
    "    model.add(Bidirectional(LSTM(4,activation='relu',kernel_regularizer=regularizers.l2(0.01))))\n",
    "    model.add(Dense(1,activation='sigmoid'))\n",
    "    model.compile(loss='binary_crossentropy',optimizer=RMSprop(lr=0.001),metrics=['acc'])\n",
    "    history=model.fit(X_train, y_train, epochs=epoch_sayisi, batch_size=batch_size,\n",
    "                      verbose=verbose,validation_split=validation_split)\n",
    "    return history,model"
   ]
  },
  {
   "cell_type": "code",
   "execution_count": 17,
   "id": "f7a71a52-63c9-4792-bfad-19ac5b3ce322",
   "metadata": {},
   "outputs": [],
   "source": [
    "def cnn(epoch_sayisi):\n",
    "    model=Sequential()\n",
    "    model.add(Embedding(vocab_size,max_len, trainable=True,input_length=max_len))\n",
    "    model.add(Conv1D(32,1,kernel_regularizer=regularizers.l2(0.01),activation='relu'))\n",
    "    model.add(Dropout(0.2))\n",
    "    model.add(Conv1D(16,1,kernel_regularizer=regularizers.l2(0.01),activation='relu'))\n",
    "    model.add(Dropout(0.2))\n",
    "    model.add(Conv1D(4,1,kernel_regularizer=regularizers.l2(0.01),activation='relu'))\n",
    "    model.add(GlobalMaxPooling1D())\n",
    "    model.add(Dense(512,activation='relu'))\n",
    "    model.add(Dense(1,activation='sigmoid'))\n",
    "    model.compile(loss='binary_crossentropy',optimizer=RMSprop(lr=0.001),metrics=['acc'])\n",
    "    history=model.fit(X_train, y_train, epochs=epoch_sayisi, batch_size=batch_size,\n",
    "                      verbose=verbose,validation_split=validation_split)\n",
    "    return history,model\n",
    "    #model.summary()"
   ]
  },
  {
   "cell_type": "code",
   "execution_count": 20,
   "id": "75a39545-620e-403d-82b9-345998558800",
   "metadata": {},
   "outputs": [
    {
     "name": "stdout",
     "output_type": "stream",
     "text": [
      "\n",
      "    Uygulanacak algoritmayı seçiniz:\n",
      "    1 - CNN\n",
      "    2 - RNN\n",
      "    3 - LSTM\n",
      "    \n",
      "\n",
      "\n",
      " rnn ---- \n",
      "Epoch 1/2\n"
     ]
    },
    {
     "name": "stderr",
     "output_type": "stream",
     "text": [
      "C:\\Users\\Birol\\anaconda3\\lib\\site-packages\\keras\\optimizers\\optimizer_v2\\rmsprop.py:135: UserWarning: The `lr` argument is deprecated, use `learning_rate` instead.\n",
      "  super(RMSprop, self).__init__(name, **kwargs)\n"
     ]
    },
    {
     "name": "stdout",
     "output_type": "stream",
     "text": [
      "454/454 [==============================] - 241s 503ms/step - loss: 0.5443 - acc: 0.9471 - val_loss: 0.1388 - val_acc: 0.9935\n",
      "Epoch 2/2\n",
      "454/454 [==============================] - 169s 373ms/step - loss: 0.1131 - acc: 0.9893 - val_loss: 0.0753 - val_acc: 0.9906\n",
      "\n",
      "\n",
      " cnn ---- \n",
      "Epoch 1/2\n"
     ]
    },
    {
     "name": "stderr",
     "output_type": "stream",
     "text": [
      "C:\\Users\\Birol\\anaconda3\\lib\\site-packages\\keras\\optimizers\\optimizer_v2\\rmsprop.py:135: UserWarning: The `lr` argument is deprecated, use `learning_rate` instead.\n",
      "  super(RMSprop, self).__init__(name, **kwargs)\n"
     ]
    },
    {
     "name": "stdout",
     "output_type": "stream",
     "text": [
      "454/454 [==============================] - 23s 47ms/step - loss: 0.6269 - acc: 0.8008 - val_loss: 0.4997 - val_acc: 0.8020\n",
      "Epoch 2/2\n",
      "454/454 [==============================] - 19s 42ms/step - loss: 0.4997 - acc: 0.8009 - val_loss: 0.4986 - val_acc: 0.8020\n",
      "\n",
      "\n",
      " lstm ---- \n",
      "Epoch 1/2\n"
     ]
    },
    {
     "name": "stderr",
     "output_type": "stream",
     "text": [
      "C:\\Users\\Birol\\anaconda3\\lib\\site-packages\\keras\\optimizers\\optimizer_v2\\rmsprop.py:135: UserWarning: The `lr` argument is deprecated, use `learning_rate` instead.\n",
      "  super(RMSprop, self).__init__(name, **kwargs)\n"
     ]
    },
    {
     "name": "stdout",
     "output_type": "stream",
     "text": [
      "454/454 [==============================] - 132s 285ms/step - loss: 0.6388 - acc: 0.8634 - val_loss: 0.3047 - val_acc: 0.9594\n",
      "Epoch 2/2\n",
      "454/454 [==============================] - 147s 324ms/step - loss: 1.6188 - acc: 0.9468 - val_loss: 0.2515 - val_acc: 0.9568\n"
     ]
    }
   ],
   "source": [
    "#epoch_sayisi=int(input(\"Eposh sayisini giriniz..:\"))\n",
    "\n",
    "print('''\n",
    "    Uygulanacak algoritmayı seçiniz:\n",
    "    1 - CNN\n",
    "    2 - RNN\n",
    "    3 - LSTM\n",
    "    ''')\n",
    "\n",
    "epoch_sayisi=2\n",
    "for algoritma in [\"rnn\" ,\"cnn\", \"lstm\"]:\n",
    "    print(f\"\\n\\n {algoritma} ---- \")\n",
    "    #algoritma=input(\"Seçim:\").lower()\n",
    "    if(algoritma==\"cnn\"):\n",
    "        history,model=cnn(epoch_sayisi)\n",
    "    elif(algoritma==\"rnn\"):\n",
    "        history,model=rnn(epoch_sayisi)\n",
    "    elif(algoritma==\"lstm\"):\n",
    "        history,model=lstm(epoch_sayisi)\n",
    "\n",
    "#print(\"**** %s modelinde %s epochluk Acc %.2f  Loss %.2f\" %(algoritma,epoch_sayisi,history.history['acc'][epoch_sayisi-1]*100,history.history['loss'][epoch_sayisi-1]*100))\n",
    "\n",
    "#rnn_test=test(algoritma,model)"
   ]
  },
  {
   "cell_type": "code",
   "execution_count": null,
   "id": "0afbcb52-b818-4855-a7c9-746a7c541996",
   "metadata": {},
   "outputs": [],
   "source": []
  }
 ],
 "metadata": {
  "kernelspec": {
   "display_name": "Python 3",
   "language": "python",
   "name": "python3"
  },
  "language_info": {
   "codemirror_mode": {
    "name": "ipython",
    "version": 3
   },
   "file_extension": ".py",
   "mimetype": "text/x-python",
   "name": "python",
   "nbconvert_exporter": "python",
   "pygments_lexer": "ipython3",
   "version": "3.8.8"
  }
 },
 "nbformat": 4,
 "nbformat_minor": 5
}
