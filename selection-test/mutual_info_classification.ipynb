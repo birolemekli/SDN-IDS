{
 "cells": [
  {
   "cell_type": "code",
   "execution_count": 25,
   "id": "5ed0e961-ca6a-4c2c-9644-3ebde239abf5",
   "metadata": {},
   "outputs": [],
   "source": [
    "import pandas as pd\n",
    "import numpy as np\n",
    "from sklearn.preprocessing import StandardScaler\n",
    "from sklearn.model_selection import train_test_split\n",
    "from sklearn.metrics import mean_absolute_error\n",
    "from matplotlib import pyplot as plt"
   ]
  },
  {
   "cell_type": "code",
   "execution_count": 26,
   "id": "b1192ed6-2e7f-42e0-ac86-4a5d1dd3d2f2",
   "metadata": {},
   "outputs": [],
   "source": [
    "normal_data=pd.read_csv(\"../Normal_data.csv\")\n",
    "metasploti_data=pd.read_csv(\"../metasploitable-2.csv\")\n",
    "ovs_data=pd.read_csv(\"../OVS.csv\")"
   ]
  },
  {
   "cell_type": "code",
   "execution_count": 27,
   "id": "fbad1d64-6427-449e-a854-a4be1341dc3b",
   "metadata": {},
   "outputs": [],
   "source": [
    "frames=[normal_data,metasploti_data,ovs_data]\n",
    "data=pd.concat(frames,ignore_index=True)"
   ]
  },
  {
   "cell_type": "code",
   "execution_count": 28,
   "id": "64687a5f-a26f-40f6-82a0-3a3ba92c006f",
   "metadata": {},
   "outputs": [
    {
     "name": "stdout",
     "output_type": "stream",
     "text": [
      "['Normal' 'U2R' 'BFA' 'DDoS' 'DoS' 'Probe' 'Web-Attack' 'BOTNET']\n"
     ]
    }
   ],
   "source": [
    "data.Label = data.Label.str.replace(' ', '')\n",
    "print(data.Label.unique())"
   ]
  },
  {
   "cell_type": "code",
   "execution_count": 29,
   "id": "8913cd65-fa8f-40c6-b872-8ec3e1db16aa",
   "metadata": {},
   "outputs": [],
   "source": [
    "data=data.loc[:, (data != 0).any(axis=0)]"
   ]
  },
  {
   "cell_type": "code",
   "execution_count": 30,
   "id": "08bad3c6-3739-449a-8f93-a1ad821ec36b",
   "metadata": {},
   "outputs": [
    {
     "data": {
      "text/html": [
       "<div>\n",
       "<style scoped>\n",
       "    .dataframe tbody tr th:only-of-type {\n",
       "        vertical-align: middle;\n",
       "    }\n",
       "\n",
       "    .dataframe tbody tr th {\n",
       "        vertical-align: top;\n",
       "    }\n",
       "\n",
       "    .dataframe thead th {\n",
       "        text-align: right;\n",
       "    }\n",
       "</style>\n",
       "<table border=\"1\" class=\"dataframe\">\n",
       "  <thead>\n",
       "    <tr style=\"text-align: right;\">\n",
       "      <th></th>\n",
       "      <th>ACK Flag Cnt</th>\n",
       "      <th>Active Max</th>\n",
       "      <th>Active Mean</th>\n",
       "      <th>Active Min</th>\n",
       "      <th>Active Std</th>\n",
       "      <th>Bwd Header Len</th>\n",
       "      <th>Bwd IAT Max</th>\n",
       "      <th>Bwd IAT Mean</th>\n",
       "      <th>Bwd IAT Min</th>\n",
       "      <th>Bwd IAT Std</th>\n",
       "      <th>...</th>\n",
       "      <th>SYN Flag Cnt</th>\n",
       "      <th>Subflow Bwd Byts</th>\n",
       "      <th>Subflow Bwd Pkts</th>\n",
       "      <th>Subflow Fwd Byts</th>\n",
       "      <th>Subflow Fwd Pkts</th>\n",
       "      <th>Tot Bwd Pkts</th>\n",
       "      <th>Tot Fwd Pkts</th>\n",
       "      <th>TotLen Bwd Pkts</th>\n",
       "      <th>TotLen Fwd Pkts</th>\n",
       "      <th>URG Flag Cnt</th>\n",
       "    </tr>\n",
       "  </thead>\n",
       "  <tbody>\n",
       "    <tr>\n",
       "      <th>0</th>\n",
       "      <td>0</td>\n",
       "      <td>0.0</td>\n",
       "      <td>0.0</td>\n",
       "      <td>0.0</td>\n",
       "      <td>0.0</td>\n",
       "      <td>0</td>\n",
       "      <td>12.0</td>\n",
       "      <td>12.0</td>\n",
       "      <td>12.0</td>\n",
       "      <td>0.00000</td>\n",
       "      <td>...</td>\n",
       "      <td>0</td>\n",
       "      <td>0</td>\n",
       "      <td>2</td>\n",
       "      <td>0</td>\n",
       "      <td>0</td>\n",
       "      <td>2</td>\n",
       "      <td>0</td>\n",
       "      <td>0.0</td>\n",
       "      <td>0.0</td>\n",
       "      <td>0</td>\n",
       "    </tr>\n",
       "    <tr>\n",
       "      <th>1</th>\n",
       "      <td>1</td>\n",
       "      <td>0.0</td>\n",
       "      <td>0.0</td>\n",
       "      <td>0.0</td>\n",
       "      <td>0.0</td>\n",
       "      <td>64</td>\n",
       "      <td>3369.0</td>\n",
       "      <td>3369.0</td>\n",
       "      <td>3369.0</td>\n",
       "      <td>0.00000</td>\n",
       "      <td>...</td>\n",
       "      <td>0</td>\n",
       "      <td>0</td>\n",
       "      <td>2</td>\n",
       "      <td>0</td>\n",
       "      <td>0</td>\n",
       "      <td>2</td>\n",
       "      <td>0</td>\n",
       "      <td>0.0</td>\n",
       "      <td>0.0</td>\n",
       "      <td>0</td>\n",
       "    </tr>\n",
       "    <tr>\n",
       "      <th>2</th>\n",
       "      <td>0</td>\n",
       "      <td>0.0</td>\n",
       "      <td>0.0</td>\n",
       "      <td>0.0</td>\n",
       "      <td>0.0</td>\n",
       "      <td>0</td>\n",
       "      <td>13.0</td>\n",
       "      <td>13.0</td>\n",
       "      <td>13.0</td>\n",
       "      <td>0.00000</td>\n",
       "      <td>...</td>\n",
       "      <td>0</td>\n",
       "      <td>0</td>\n",
       "      <td>2</td>\n",
       "      <td>0</td>\n",
       "      <td>0</td>\n",
       "      <td>2</td>\n",
       "      <td>0</td>\n",
       "      <td>0.0</td>\n",
       "      <td>0.0</td>\n",
       "      <td>0</td>\n",
       "    </tr>\n",
       "    <tr>\n",
       "      <th>3</th>\n",
       "      <td>1</td>\n",
       "      <td>0.0</td>\n",
       "      <td>0.0</td>\n",
       "      <td>0.0</td>\n",
       "      <td>0.0</td>\n",
       "      <td>20</td>\n",
       "      <td>0.0</td>\n",
       "      <td>0.0</td>\n",
       "      <td>0.0</td>\n",
       "      <td>0.00000</td>\n",
       "      <td>...</td>\n",
       "      <td>0</td>\n",
       "      <td>0</td>\n",
       "      <td>1</td>\n",
       "      <td>248</td>\n",
       "      <td>2</td>\n",
       "      <td>1</td>\n",
       "      <td>2</td>\n",
       "      <td>0.0</td>\n",
       "      <td>248.0</td>\n",
       "      <td>0</td>\n",
       "    </tr>\n",
       "    <tr>\n",
       "      <th>4</th>\n",
       "      <td>0</td>\n",
       "      <td>0.0</td>\n",
       "      <td>0.0</td>\n",
       "      <td>0.0</td>\n",
       "      <td>0.0</td>\n",
       "      <td>144</td>\n",
       "      <td>167136.0</td>\n",
       "      <td>115976.2</td>\n",
       "      <td>2573.0</td>\n",
       "      <td>72264.35192</td>\n",
       "      <td>...</td>\n",
       "      <td>1</td>\n",
       "      <td>3510</td>\n",
       "      <td>6</td>\n",
       "      <td>370</td>\n",
       "      <td>7</td>\n",
       "      <td>6</td>\n",
       "      <td>7</td>\n",
       "      <td>3510.0</td>\n",
       "      <td>370.0</td>\n",
       "      <td>0</td>\n",
       "    </tr>\n",
       "  </tbody>\n",
       "</table>\n",
       "<p>5 rows × 66 columns</p>\n",
       "</div>"
      ],
      "text/plain": [
       "   ACK Flag Cnt  Active Max  Active Mean  Active Min  Active Std  \\\n",
       "0             0         0.0          0.0         0.0         0.0   \n",
       "1             1         0.0          0.0         0.0         0.0   \n",
       "2             0         0.0          0.0         0.0         0.0   \n",
       "3             1         0.0          0.0         0.0         0.0   \n",
       "4             0         0.0          0.0         0.0         0.0   \n",
       "\n",
       "   Bwd Header Len  Bwd IAT Max  Bwd IAT Mean  Bwd IAT Min  Bwd IAT Std  ...  \\\n",
       "0               0         12.0          12.0         12.0      0.00000  ...   \n",
       "1              64       3369.0        3369.0       3369.0      0.00000  ...   \n",
       "2               0         13.0          13.0         13.0      0.00000  ...   \n",
       "3              20          0.0           0.0          0.0      0.00000  ...   \n",
       "4             144     167136.0      115976.2       2573.0  72264.35192  ...   \n",
       "\n",
       "   SYN Flag Cnt  Subflow Bwd Byts  Subflow Bwd Pkts  Subflow Fwd Byts  \\\n",
       "0             0                 0                 2                 0   \n",
       "1             0                 0                 2                 0   \n",
       "2             0                 0                 2                 0   \n",
       "3             0                 0                 1               248   \n",
       "4             1              3510                 6               370   \n",
       "\n",
       "   Subflow Fwd Pkts  Tot Bwd Pkts  Tot Fwd Pkts  TotLen Bwd Pkts  \\\n",
       "0                 0             2             0              0.0   \n",
       "1                 0             2             0              0.0   \n",
       "2                 0             2             0              0.0   \n",
       "3                 2             1             2              0.0   \n",
       "4                 7             6             7           3510.0   \n",
       "\n",
       "   TotLen Fwd Pkts  URG Flag Cnt  \n",
       "0              0.0             0  \n",
       "1              0.0             0  \n",
       "2              0.0             0  \n",
       "3            248.0             0  \n",
       "4            370.0             0  \n",
       "\n",
       "[5 rows x 66 columns]"
      ]
     },
     "execution_count": 30,
     "metadata": {},
     "output_type": "execute_result"
    }
   ],
   "source": [
    "data3 = data.loc[:, data.columns.difference(['Flow ID', 'Src IP','Dst IP','Timestamp','Src Port','Dst Port','Protocol'])]\n",
    "data3=data3.sample(frac=1, replace=True, random_state=3).reset_index(drop=True)\n",
    "data3.head()"
   ]
  },
  {
   "cell_type": "code",
   "execution_count": 31,
   "id": "8f4a0855-b32f-404f-8e02-41647f408398",
   "metadata": {},
   "outputs": [
    {
     "data": {
      "text/plain": [
       "array(['1', '0'], dtype=object)"
      ]
     },
     "execution_count": 31,
     "metadata": {},
     "output_type": "execute_result"
    }
   ],
   "source": [
    "data3.Label.replace(['U2R','BFA','DDoS','DoS','Probe','Web-Attack','BOTNET'],'Saldiri',inplace=True)\n",
    "data3.Label.replace(\"Saldiri\",\"1\",inplace=True)\n",
    "data3.Label.replace(\"Normal\",\"0\",inplace=True)\n",
    "data3.Label.unique()"
   ]
  },
  {
   "cell_type": "code",
   "execution_count": 32,
   "id": "cd6f0581-ae64-42ba-99fc-bc53a92205ce",
   "metadata": {},
   "outputs": [
    {
     "name": "stdout",
     "output_type": "stream",
     "text": [
      "(343889, 39)\n",
      "(343889,)\n"
     ]
    }
   ],
   "source": [
    "X=data3[[\"Bwd Header Len\",\n",
    "\"Bwd IAT Max\",\n",
    "\"Bwd IAT Mean\",\n",
    "\"Bwd IAT Std\",\n",
    "\"Bwd IAT Tot\",\n",
    "\"Bwd Pkt Len Max\",\n",
    "\"Bwd Pkt Len Mean\",\n",
    "\"Bwd Pkt Len Min\",\n",
    "\"Bwd Pkt Len Std\",\n",
    "\"Bwd Pkts/s\",\n",
    "\"Bwd Seg Size Avg\",\n",
    "\"Flow Byts/s\",\n",
    "\"Flow Duration\",\n",
    "\"Flow IAT Max\",\n",
    "\"Flow IAT Mean\",\n",
    "\"Flow IAT Min\",\n",
    "\"Flow IAT Std\",\n",
    "\"Flow Pkts/s\",\n",
    "\"Fwd Header Len\",\n",
    "\"Fwd Pkt Len Max\",\n",
    "\"Fwd Pkt Len Mean\",\n",
    "\"Fwd Pkt Len Min\",\n",
    "\"Fwd Pkts/s\",\n",
    "\"Fwd Seg Size Avg\",\n",
    "\"Init Bwd Win Byts\",\n",
    "\"Pkt Len Max\",\n",
    "\"Pkt Len Mean\",\n",
    "\"Pkt Len Min\",\n",
    "\"Pkt Len Std\",\n",
    "\"Pkt Len Var\",\n",
    "\"Pkt Size Avg\",\n",
    "\"Subflow Bwd Byts\",\n",
    "\"Subflow Bwd Pkts\",\n",
    "\"Subflow Fwd Byts\",\n",
    "\"Subflow Fwd Pkts\",\n",
    "\"Tot Bwd Pkts\",\n",
    "\"Tot Fwd Pkts\",\n",
    "\"TotLen Bwd Pkts\",\n",
    "\"TotLen Fwd Pkts\"]]\n",
    "y=data3.Label\n",
    "print(X.shape)\n",
    "print(y.shape)"
   ]
  },
  {
   "cell_type": "code",
   "execution_count": 33,
   "id": "44a47739-1416-4648-a9d5-db63f3c5914b",
   "metadata": {},
   "outputs": [
    {
     "data": {
      "text/plain": [
       "array([[-0.06511867, -0.29589414, -0.26754796, ..., -0.06209157,\n",
       "        -0.02986745, -0.00860033],\n",
       "       [-0.03115516, -0.29568845, -0.26653626, ..., -0.06209157,\n",
       "        -0.02986745, -0.00860033],\n",
       "       [-0.06511867, -0.29589408, -0.26754766, ..., -0.06209157,\n",
       "        -0.02986745, -0.00860033],\n",
       "       ...,\n",
       "       [-0.04389148, -0.29582797, -0.26722248, ..., -0.06209157,\n",
       "        -0.02986745, -0.00860033],\n",
       "       [ 0.05799904,  3.41724463,  2.77630512, ..., -0.00703453,\n",
       "        -0.02974927, -0.00829775],\n",
       "       [-0.04389148, -0.29561541, -0.26617702, ..., -0.06209157,\n",
       "        -0.02986745, -0.00860033]])"
      ]
     },
     "execution_count": 33,
     "metadata": {},
     "output_type": "execute_result"
    }
   ],
   "source": [
    "scaler = StandardScaler()\n",
    "X_scaled = scaler.fit_transform(X)\n",
    "X_scaled"
   ]
  },
  {
   "cell_type": "code",
   "execution_count": 34,
   "id": "81f7649f-0ebc-4c06-8253-46fcc0deea6e",
   "metadata": {},
   "outputs": [],
   "source": [
    "y= pd.get_dummies(y, drop_first=True)\n",
    "X_train, X_test, y_train, y_test = X_train, X_test, y_train, y_test = train_test_split(X_scaled,y, test_size=0.25, random_state=1)"
   ]
  },
  {
   "cell_type": "code",
   "execution_count": 11,
   "id": "7ca93f35-08fc-4fa7-83c9-cc5a56ea8420",
   "metadata": {},
   "outputs": [
    {
     "name": "stderr",
     "output_type": "stream",
     "text": [
      "C:\\Users\\Birol\\anaconda3\\lib\\site-packages\\sklearn\\linear_model\\_logistic.py:763: ConvergenceWarning: lbfgs failed to converge (status=1):\n",
      "STOP: TOTAL NO. of ITERATIONS REACHED LIMIT.\n",
      "\n",
      "Increase the number of iterations (max_iter) or scale the data as shown in:\n",
      "    https://scikit-learn.org/stable/modules/preprocessing.html\n",
      "Please also refer to the documentation for alternative solver options:\n",
      "    https://scikit-learn.org/stable/modules/linear_model.html#logistic-regression\n",
      "  n_iter_i = _check_optimize_result(\n"
     ]
    },
    {
     "data": {
      "text/plain": [
       "0.9962430065253045"
      ]
     },
     "execution_count": 11,
     "metadata": {},
     "output_type": "execute_result"
    }
   ],
   "source": [
    "from sklearn.linear_model import LogisticRegression\n",
    "model = LogisticRegression()\n",
    "model.fit(X_train,y_train)\n",
    "model.score(X_test,y_test)"
   ]
  },
  {
   "cell_type": "code",
   "execution_count": 12,
   "id": "d59c695f-0d68-4e79-88f2-00819daf57b5",
   "metadata": {
    "tags": []
   },
   "outputs": [
    {
     "name": "stderr",
     "output_type": "stream",
     "text": [
      "C:\\Users\\Birol\\anaconda3\\lib\\site-packages\\xgboost\\sklearn.py:793: UserWarning: `early_stopping_rounds` in `fit` method is deprecated for better compatibility with scikit-learn, use `early_stopping_rounds` in constructor or`set_params` instead.\n",
      "  warnings.warn(\n"
     ]
    },
    {
     "name": "stdout",
     "output_type": "stream",
     "text": [
      "----- XGBoost ------\n",
      "0.9992476451330193\n",
      "0.0002649196896942443\n",
      "----- XGBoost ------\n"
     ]
    }
   ],
   "source": [
    "from xgboost import XGBRegressor\n",
    "from sklearn.metrics import mean_absolute_error\n",
    "model = XGBRegressor(n_estimators=1000,learning_rate=0.5,n_jobs=4)\n",
    "model.fit(X_train, y_train, \n",
    "             early_stopping_rounds=500, \n",
    "             eval_set=[(X_test, y_test)],\n",
    "             verbose=False)\n",
    "pred=model.predict(X_test)\n",
    "print(\"----- XGBoost ------\")\n",
    "print(model.score(X_test,y_test))\n",
    "print(mean_absolute_error(y_test,pred))\n",
    "print(\"----- XGBoost ------\")"
   ]
  },
  {
   "cell_type": "code",
   "execution_count": 13,
   "id": "92a77df3-b771-429a-9468-f90a365c2367",
   "metadata": {},
   "outputs": [
    {
     "name": "stdout",
     "output_type": "stream",
     "text": [
      "----- Random Forest ------\n",
      "0.9993980305963788\n",
      "0.00020843753271375894\n",
      "----- Random Forest ------\n"
     ]
    }
   ],
   "source": [
    "from sklearn.ensemble import RandomForestRegressor\n",
    "from sklearn.metrics import mean_absolute_error\n",
    "model=RandomForestRegressor(random_state=1)\n",
    "model.fit(X_train,y_train)\n",
    "pred=model.predict(X_test)\n",
    "\n",
    "print(\"----- Random Forest ------\")\n",
    "print(model.score(X_test,y_test))\n",
    "print(mean_absolute_error(y_test,pred))\n",
    "print(\"----- Random Forest ------\")"
   ]
  },
  {
   "cell_type": "code",
   "execution_count": 14,
   "id": "d4c4cfa9-0213-47a8-9b3a-573ab1ce7040",
   "metadata": {
    "tags": []
   },
   "outputs": [
    {
     "name": "stdout",
     "output_type": "stream",
     "text": [
      "----- DecisionTreeRegressor ------\n",
      "0.9991292421654988\n",
      "0.0001395787049422493\n",
      "----- DecisionTreeRegressor ------\n"
     ]
    }
   ],
   "source": [
    "from sklearn.tree import DecisionTreeRegressor\n",
    "model=DecisionTreeRegressor(random_state=0)\n",
    "model.fit(X_train,y_train)\n",
    "pred=model.predict(X_test)\n",
    "\n",
    "print(\"----- DecisionTreeRegressor ------\")\n",
    "print(model.score(X_test,y_test))\n",
    "print(mean_absolute_error(y_test,pred))\n",
    "print(\"----- DecisionTreeRegressor ------\")"
   ]
  },
  {
   "cell_type": "code",
   "execution_count": 15,
   "id": "6bca124b-3330-4132-8f19-9c82f97559a3",
   "metadata": {},
   "outputs": [
    {
     "name": "stdout",
     "output_type": "stream",
     "text": [
      "----- KNN ------\n",
      "0.9997673688250962\n",
      "0.00023263117490374886\n",
      "----- KNN ------\n"
     ]
    }
   ],
   "source": [
    "from sklearn.neighbors import KNeighborsClassifier\n",
    "model=KNeighborsClassifier(n_neighbors=3,weights='uniform')\n",
    "model.fit(X_train,y_train)\n",
    "pred=model.predict(X_test)\n",
    "\n",
    "print(\"----- KNN ------\")\n",
    "print(model.score(X_test,y_test))\n",
    "print(mean_absolute_error(y_test,pred))\n",
    "print(\"----- KNN ------\")"
   ]
  },
  {
   "cell_type": "code",
   "execution_count": 16,
   "id": "56560332-4806-499a-9b6c-154116ea4c5a",
   "metadata": {},
   "outputs": [
    {
     "name": "stdout",
     "output_type": "stream",
     "text": [
      "0.9988717388017169\n",
      "0.001128261198283182\n"
     ]
    }
   ],
   "source": [
    "from sklearn.ensemble import AdaBoostClassifier\n",
    "model = AdaBoostClassifier(n_estimators=50,\n",
    "                         learning_rate=1)\n",
    "model.fit(X_train,y_train)\n",
    "pred=model.predict(X_test)\n",
    "\n",
    "print(model.score(X_test,y_test))\n",
    "print(mean_absolute_error(y_test,pred))"
   ]
  },
  {
   "cell_type": "code",
   "execution_count": 14,
   "id": "149c5885-ae23-4367-b059-0746911b30a6",
   "metadata": {},
   "outputs": [
    {
     "name": "stdout",
     "output_type": "stream",
     "text": [
      "----- GaussianNB ------\n",
      "0.9743291498493714\n",
      "0.025670850150628685\n",
      "----- GaussianNB ------\n"
     ]
    },
    {
     "name": "stderr",
     "output_type": "stream",
     "text": [
      "C:\\Users\\Birol\\anaconda3\\lib\\site-packages\\sklearn\\utils\\validation.py:63: FutureWarning: Arrays of bytes/strings is being converted to decimal numbers if dtype='numeric'. This behavior is deprecated in 0.24 and will be removed in 1.1 (renaming of 0.26). Please convert your data to numeric values explicitly instead.\n",
      "  return f(*args, **kwargs)\n"
     ]
    }
   ],
   "source": [
    "from sklearn.naive_bayes import GaussianNB\n",
    "model = GaussianNB()\n",
    "model.fit(X_train,y_train)\n",
    "pred=model.predict(X_test)\n",
    "print(\"----- GaussianNB ------\")\n",
    "print(model.score(X_test,y_test))\n",
    "print(mean_absolute_error(y_test,pred))\n",
    "print(\"----- GaussianNB ------\")"
   ]
  },
  {
   "cell_type": "markdown",
   "id": "8921f5b7-313d-4ce9-a943-c4428f5f2af7",
   "metadata": {},
   "source": [
    "from sklearn.svm import SVC\n",
    "model = SVC(C=1.0, random_state=1, kernel='linear')\n",
    "model.fit(X_train,y_train)\n",
    "print(\"----- SVC ------\")\n",
    "print(model.score(X_test,y_test))\n",
    "print(mean_absolute_error(y_test,pred))\n",
    "print(\"----- SVC ------\")"
   ]
  },
  {
   "cell_type": "code",
   "execution_count": 35,
   "id": "e7626330-cfe1-44b6-860e-13aa186c47df",
   "metadata": {},
   "outputs": [],
   "source": [
    "from keras.models import Sequential\n",
    "from keras.layers import Dense, Dropout, Activation,Flatten\n",
    "from keras.layers import  Embedding, SimpleRNN, LSTM,Masking,Bidirectional\n",
    "from keras.layers import Conv1D, GlobalMaxPooling1D\n",
    "from keras.models import model_from_json,model_from_yaml,load_model\n",
    "from keras.preprocessing.text import Tokenizer\n",
    "from keras.preprocessing import sequence,text\n",
    "from sklearn.preprocessing import LabelEncoder\n",
    "from keras import metrics, regularizers\n",
    "from keras.optimizers import RMSprop,Adam\n",
    "from keras import backend as K"
   ]
  },
  {
   "cell_type": "code",
   "execution_count": 36,
   "id": "6d3b1e0b-4f1a-4eb2-8607-5e83bde5f34a",
   "metadata": {},
   "outputs": [
    {
     "name": "stdout",
     "output_type": "stream",
     "text": [
      "(257916, 39)\n",
      "(85973, 39)\n",
      "(257916, 1)\n",
      "(85973, 1)\n"
     ]
    }
   ],
   "source": [
    "print(X_train.shape)\n",
    "print(X_test.shape)\n",
    "print(y_train.shape) \n",
    "print(y_test.shape)"
   ]
  },
  {
   "cell_type": "code",
   "execution_count": 37,
   "id": "1ac6fe8e-ba00-4e8c-9fb2-31f6206d5ee9",
   "metadata": {},
   "outputs": [],
   "source": [
    "# Model için gerekli değerler\n",
    "#epochs_sayisi=5\n",
    "batch_size=512\n",
    "# Çıktı gözükmemesi için\n",
    "verbose=1\n",
    "validation_split=0.1\n",
    "max_len=len(X.columns)\n",
    "vocab_size=10000"
   ]
  },
  {
   "cell_type": "code",
   "execution_count": 38,
   "id": "e3d7c063-f78c-41e8-96d7-51df652b141e",
   "metadata": {},
   "outputs": [],
   "source": [
    "def rnn(epoch_sayisi):\n",
    "    model=Sequential()\n",
    "    model.add(Embedding(vocab_size,max_len, trainable=True,input_length=max_len))\n",
    "    model.add(SimpleRNN(40,activation='relu',kernel_regularizer=regularizers.l2(0.01),return_sequences=True))\n",
    "    model.add(Dropout(0.2))\n",
    "    model.add(SimpleRNN(32,activation='relu',kernel_regularizer=regularizers.l2(0.01),return_sequences=True))\n",
    "    model.add(Dropout(0.2))\n",
    "    model.add(SimpleRNN(24,activation='relu',kernel_regularizer=regularizers.l2(0.01),return_sequences=True))\n",
    "    model.add(Dropout(0.2))\n",
    "    model.add(SimpleRNN(16,activation='relu',kernel_regularizer=regularizers.l2(0.01),return_sequences=True))\n",
    "    model.add(Dropout(0.2))\n",
    "    model.add(SimpleRNN(4,activation='relu',kernel_regularizer=regularizers.l2(0.01)))\n",
    "    model.add(Dense(1,activation='sigmoid'))\n",
    "    model.compile(loss='binary_crossentropy',optimizer=RMSprop(lr=0.001), metrics=['acc'])\n",
    "    history=model.fit(X_train, y_train, epochs=epoch_sayisi, batch_size=batch_size,\n",
    "                      verbose=verbose,validation_split=validation_split)\n",
    "    print (\"Model evaluate\")\n",
    "    score = model.evaluate(X_test, y_test, verbose = 0) \n",
    "    print('Test loss:', score[0]) \n",
    "    print('Test accuracy:', score[1])\n",
    "    print (\"Model evaluate\")\n",
    "    plt.plot(history.history['acc'])\n",
    "    plt.plot(history.history['val_acc'])\n",
    "    plt.title('model accuracy')\n",
    "    plt.ylabel('accuracy')\n",
    "    plt.xlabel('epoch')\n",
    "    plt.legend(['train', 'test'], loc='upper left')\n",
    "    plt.show()\n",
    "    return history,model"
   ]
  },
  {
   "cell_type": "code",
   "execution_count": 39,
   "id": "8497f3dc-fe81-4fc1-b918-c1888dc472af",
   "metadata": {},
   "outputs": [],
   "source": [
    "def lstm(epoch_sayisi):\n",
    "    model=Sequential()\n",
    "    model.add(Embedding(vocab_size,max_len, trainable=True,input_length=max_len))\n",
    "    model.add(LSTM(32,activation='relu',kernel_regularizer=regularizers.l2(0.01),return_sequences=True))\n",
    "    model.add(Dropout(0.2))\n",
    "    model.add(LSTM(16,activation='relu',kernel_regularizer=regularizers.l2(0.01),return_sequences=True))\n",
    "    model.add(Dropout(0.2))\n",
    "    model.add(LSTM(4,activation='relu',kernel_regularizer=regularizers.l2(0.01)))\n",
    "    model.add(Dense(1,activation='sigmoid'))\n",
    "    model.compile(loss='binary_crossentropy',optimizer=RMSprop(lr=0.001),metrics=['acc'])\n",
    "    history=model.fit(X_train, y_train, epochs=epoch_sayisi, batch_size=batch_size,\n",
    "                      verbose=verbose,validation_split=validation_split)\n",
    "    print (\"Model evaluate\")\n",
    "    score = model.evaluate(X_test, y_test, verbose = 0) \n",
    "    print('Test loss:', score[0]) \n",
    "    print('Test accuracy:', score[1])\n",
    "    print (\"Model evaluate\")\n",
    "    plt.plot(history.history['acc'])\n",
    "    plt.plot(history.history['val_acc'])\n",
    "    plt.title('model accuracy')\n",
    "    plt.ylabel('accuracy')\n",
    "    plt.xlabel('epoch')\n",
    "    plt.legend(['train', 'test'], loc='upper left')\n",
    "    plt.show()\n",
    "    return history,model"
   ]
  },
  {
   "cell_type": "code",
   "execution_count": 40,
   "id": "3c9fd302-52af-4531-9d24-4e3e7a5a1aa6",
   "metadata": {},
   "outputs": [],
   "source": [
    "def bilstm(epoch_sayisi):\n",
    "    model=Sequential()\n",
    "    model.add(Embedding(vocab_size,max_len, trainable=True,input_length=max_len))\n",
    "    model.add(Bidirectional(LSTM(32,activation='relu',kernel_regularizer=regularizers.l2(0.01),return_sequences=True)))\n",
    "    model.add(Dropout(0.2))\n",
    "    model.add(Bidirectional(LSTM(16,activation='relu',kernel_regularizer=regularizers.l2(0.01),return_sequences=True)))\n",
    "    model.add(Dropout(0.2))\n",
    "    model.add(Bidirectional(LSTM(4,activation='relu',kernel_regularizer=regularizers.l2(0.01))))\n",
    "    model.add(Dense(1,activation='sigmoid'))\n",
    "    model.compile(loss='binary_crossentropy',optimizer=RMSprop(lr=0.001),metrics=['acc'])\n",
    "    history=model.fit(X_train, y_train, epochs=epoch_sayisi, batch_size=batch_size,\n",
    "                      verbose=verbose,validation_split=validation_split)\n",
    "    print (\"Model evaluate\")\n",
    "    score = model.evaluate(X_test, y_test, verbose = 0) \n",
    "    print('Test loss:', score[0]) \n",
    "    print('Test accuracy:', score[1])\n",
    "    print (\"Model evaluate\")\n",
    "    plt.plot(history.history['acc'])\n",
    "    plt.plot(history.history['val_acc'])\n",
    "    plt.title('model accuracy')\n",
    "    plt.ylabel('accuracy')\n",
    "    plt.xlabel('epoch')\n",
    "    plt.legend(['train', 'test'], loc='upper left')\n",
    "    plt.show()\n",
    "    return history,model"
   ]
  },
  {
   "cell_type": "code",
   "execution_count": 41,
   "id": "8e7b777c-4573-4964-81c7-a80750886386",
   "metadata": {},
   "outputs": [],
   "source": [
    "def cnn(epoch_sayisi):\n",
    "    model=Sequential()\n",
    "    model.add(Embedding(vocab_size,max_len, trainable=True,input_length=max_len))\n",
    "    model.add(Conv1D(32,1,kernel_regularizer=regularizers.l2(0.01),activation='relu'))\n",
    "    model.add(Dropout(0.2))\n",
    "    model.add(Conv1D(16,1,kernel_regularizer=regularizers.l2(0.01),activation='relu'))\n",
    "    model.add(Dropout(0.2))\n",
    "    model.add(Conv1D(4,1,kernel_regularizer=regularizers.l2(0.01),activation='relu'))\n",
    "    model.add(GlobalMaxPooling1D())\n",
    "    model.add(Dense(512,activation='relu'))\n",
    "    model.add(Dense(1,activation='sigmoid'))\n",
    "    model.compile(loss='binary_crossentropy',optimizer=RMSprop(lr=0.001),metrics=['acc'])\n",
    "    history=model.fit(X_train, y_train, epochs=epoch_sayisi, batch_size=batch_size,\n",
    "                      verbose=verbose,validation_split=validation_split)\n",
    "    print (\"Model evaluate\")\n",
    "    score = model.evaluate(X_test, y_test, verbose = 0) \n",
    "    print('Test loss:', score[0]) \n",
    "    print('Test accuracy:', score[1])\n",
    "    print (\"Model evaluate\")\n",
    "    plt.plot(history.history['acc'])\n",
    "    plt.plot(history.history['val_acc'])\n",
    "    plt.title('model accuracy')\n",
    "    plt.ylabel('accuracy')\n",
    "    plt.xlabel('epoch')\n",
    "    plt.legend(['train', 'test'], loc='upper left')\n",
    "    plt.show()\n",
    "    return history,model\n",
    "    #model.summary()"
   ]
  },
  {
   "cell_type": "code",
   "execution_count": 42,
   "id": "883164c3-c237-4ef4-9e43-ab4c59b4c102",
   "metadata": {},
   "outputs": [
    {
     "name": "stdout",
     "output_type": "stream",
     "text": [
      "\n",
      "    Uygulanacak algoritmayı seçiniz:\n",
      "    1 - CNN\n",
      "    2 - RNN\n",
      "    3 - LSTM\n",
      "    \n",
      "\n",
      "\n",
      " cnn ---- \n",
      "Epoch 1/2\n"
     ]
    },
    {
     "name": "stderr",
     "output_type": "stream",
     "text": [
      "C:\\Users\\Birol\\anaconda3\\lib\\site-packages\\keras\\optimizers\\optimizer_v2\\rmsprop.py:135: UserWarning: The `lr` argument is deprecated, use `learning_rate` instead.\n",
      "  super(RMSprop, self).__init__(name, **kwargs)\n"
     ]
    },
    {
     "name": "stdout",
     "output_type": "stream",
     "text": [
      "454/454 [==============================] - 13s 27ms/step - loss: 0.4396 - acc: 0.8665 - val_loss: 0.2965 - val_acc: 0.8802\n",
      "Epoch 2/2\n",
      "454/454 [==============================] - 12s 27ms/step - loss: 0.2752 - acc: 0.8802 - val_loss: 0.2695 - val_acc: 0.8802\n",
      "\n",
      "\n",
      " rnn ---- \n",
      "Epoch 1/2\n"
     ]
    },
    {
     "name": "stderr",
     "output_type": "stream",
     "text": [
      "C:\\Users\\Birol\\anaconda3\\lib\\site-packages\\keras\\optimizers\\optimizer_v2\\rmsprop.py:135: UserWarning: The `lr` argument is deprecated, use `learning_rate` instead.\n",
      "  super(RMSprop, self).__init__(name, **kwargs)\n"
     ]
    },
    {
     "name": "stdout",
     "output_type": "stream",
     "text": [
      "454/454 [==============================] - 56s 115ms/step - loss: 0.4881 - acc: 0.9527 - val_loss: 0.1323 - val_acc: 0.9896\n",
      "Epoch 2/2\n",
      "454/454 [==============================] - 47s 103ms/step - loss: 0.0810 - acc: 0.9921 - val_loss: 0.0593 - val_acc: 0.9921\n",
      "\n",
      "\n",
      " lstm ---- \n",
      "Epoch 1/2\n"
     ]
    },
    {
     "name": "stderr",
     "output_type": "stream",
     "text": [
      "C:\\Users\\Birol\\anaconda3\\lib\\site-packages\\keras\\optimizers\\optimizer_v2\\rmsprop.py:135: UserWarning: The `lr` argument is deprecated, use `learning_rate` instead.\n",
      "  super(RMSprop, self).__init__(name, **kwargs)\n"
     ]
    },
    {
     "name": "stdout",
     "output_type": "stream",
     "text": [
      "454/454 [==============================] - 60s 126ms/step - loss: 0.4539 - acc: 0.9144 - val_loss: 0.2511 - val_acc: 0.9444\n",
      "Epoch 2/2\n",
      "454/454 [==============================] - 54s 119ms/step - loss: 0.1215 - acc: 0.9819 - val_loss: 0.0727 - val_acc: 0.9922\n"
     ]
    }
   ],
   "source": [
    "#epoch_sayisi=int(input(\"Eposh sayisini giriniz..:\"))\n",
    "\n",
    "print('''\n",
    "    Uygulanacak algoritmayı seçiniz:\n",
    "    1 - CNN\n",
    "    2 - RNN\n",
    "    3 - LSTM\n",
    "    ''')\n",
    "\n",
    "epoch_sayisi=2\n",
    "for algoritma in [\"cnn\" ,\"rnn\", \"lstm\"]:\n",
    "    print(f\"\\n\\n {algoritma} ---- \")\n",
    "    #algoritma=input(\"Seçim:\").lower()\n",
    "    if(algoritma==\"cnn\"):\n",
    "        history,model=cnn(epoch_sayisi)\n",
    "    elif(algoritma==\"rnn\"):\n",
    "        history,model=rnn(epoch_sayisi)\n",
    "    elif(algoritma==\"lstm\"):\n",
    "        history,model=lstm(epoch_sayisi)\n",
    "\n",
    "#print(\"**** %s modelinde %s epochluk Acc %.2f  Loss %.2f\" %(algoritma,epoch_sayisi,history.history['acc'][epoch_sayisi-1]*100,history.history['loss'][epoch_sayisi-1]*100))\n",
    "\n",
    "#rnn_test=test(algoritma,model)"
   ]
  },
  {
   "cell_type": "code",
   "execution_count": null,
   "id": "3efce632-4589-4e40-9ef8-4ce398d79e87",
   "metadata": {},
   "outputs": [],
   "source": []
  }
 ],
 "metadata": {
  "kernelspec": {
   "display_name": "Python 3",
   "language": "python",
   "name": "python3"
  },
  "language_info": {
   "codemirror_mode": {
    "name": "ipython",
    "version": 3
   },
   "file_extension": ".py",
   "mimetype": "text/x-python",
   "name": "python",
   "nbconvert_exporter": "python",
   "pygments_lexer": "ipython3",
   "version": "3.8.8"
  }
 },
 "nbformat": 4,
 "nbformat_minor": 5
}
