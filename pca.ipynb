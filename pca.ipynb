{
 "cells": [
  {
   "cell_type": "code",
   "execution_count": 1,
   "id": "0c6ed37c-ebec-45da-8709-0c335910ed07",
   "metadata": {},
   "outputs": [],
   "source": [
    "import pandas as pd\n",
    "import numpy as np\n",
    "import seaborn as sns\n",
    "from matplotlib import style\n",
    "import matplotlib.pyplot as plt\n",
    "from sklearn.preprocessing import StandardScaler\n",
    "from sklearn.model_selection import train_test_split\n",
    "from sklearn.linear_model import LogisticRegression\n",
    "from sklearn.utils import shuffle\n",
    "# Import PCA from sklearn\n",
    "from sklearn.decomposition import PCA"
   ]
  },
  {
   "cell_type": "code",
   "execution_count": 2,
   "id": "c5b7056d-27ce-4626-95c8-ebea0e59ce1e",
   "metadata": {},
   "outputs": [],
   "source": [
    "normal_data=pd.read_csv(\"Normal_data.csv\")\n",
    "metasploti_data=pd.read_csv(\"metasploitable-2.csv\")\n",
    "ovs_data=pd.read_csv(\"OVS.csv\")"
   ]
  },
  {
   "cell_type": "code",
   "execution_count": 3,
   "id": "abe10f8e-1ad4-4cc9-9d01-5b506ae503b5",
   "metadata": {},
   "outputs": [],
   "source": [
    "frames=[normal_data,metasploti_data,ovs_data]\n",
    "data=pd.concat(frames,ignore_index=True)\n",
    "data = shuffle(data)"
   ]
  },
  {
   "cell_type": "code",
   "execution_count": 4,
   "id": "ef9778ce-f1bb-4c9d-9cbc-f6b0451dfaa2",
   "metadata": {},
   "outputs": [
    {
     "name": "stdout",
     "output_type": "stream",
     "text": [
      "['DDoS' 'Probe' 'DoS' 'Normal' 'BFA' 'BOTNET' 'Web-Attack' 'U2R']\n"
     ]
    }
   ],
   "source": [
    "data.Label = data.Label.str.replace(' ', '')\n",
    "print(data.Label.unique())"
   ]
  },
  {
   "cell_type": "code",
   "execution_count": 5,
   "id": "eaeeb82e-52be-4071-827a-1972c808763a",
   "metadata": {},
   "outputs": [],
   "source": [
    "data=data.loc[:, (data != 0).any(axis=0)]"
   ]
  },
  {
   "cell_type": "code",
   "execution_count": 6,
   "id": "c7662eae-0cf9-4f74-80d3-b6ccc3664137",
   "metadata": {},
   "outputs": [
    {
     "data": {
      "text/html": [
       "<div>\n",
       "<style scoped>\n",
       "    .dataframe tbody tr th:only-of-type {\n",
       "        vertical-align: middle;\n",
       "    }\n",
       "\n",
       "    .dataframe tbody tr th {\n",
       "        vertical-align: top;\n",
       "    }\n",
       "\n",
       "    .dataframe thead th {\n",
       "        text-align: right;\n",
       "    }\n",
       "</style>\n",
       "<table border=\"1\" class=\"dataframe\">\n",
       "  <thead>\n",
       "    <tr style=\"text-align: right;\">\n",
       "      <th></th>\n",
       "      <th>ACK Flag Cnt</th>\n",
       "      <th>Active Max</th>\n",
       "      <th>Active Mean</th>\n",
       "      <th>Active Min</th>\n",
       "      <th>Active Std</th>\n",
       "      <th>Bwd Header Len</th>\n",
       "      <th>Bwd IAT Max</th>\n",
       "      <th>Bwd IAT Mean</th>\n",
       "      <th>Bwd IAT Min</th>\n",
       "      <th>Bwd IAT Std</th>\n",
       "      <th>...</th>\n",
       "      <th>SYN Flag Cnt</th>\n",
       "      <th>Subflow Bwd Byts</th>\n",
       "      <th>Subflow Bwd Pkts</th>\n",
       "      <th>Subflow Fwd Byts</th>\n",
       "      <th>Subflow Fwd Pkts</th>\n",
       "      <th>Tot Bwd Pkts</th>\n",
       "      <th>Tot Fwd Pkts</th>\n",
       "      <th>TotLen Bwd Pkts</th>\n",
       "      <th>TotLen Fwd Pkts</th>\n",
       "      <th>URG Flag Cnt</th>\n",
       "    </tr>\n",
       "  </thead>\n",
       "  <tbody>\n",
       "    <tr>\n",
       "      <th>0</th>\n",
       "      <td>0</td>\n",
       "      <td>0.0</td>\n",
       "      <td>0.0</td>\n",
       "      <td>0.0</td>\n",
       "      <td>0.0</td>\n",
       "      <td>24</td>\n",
       "      <td>2943.0</td>\n",
       "      <td>1550.500000</td>\n",
       "      <td>158.0</td>\n",
       "      <td>1969.292386</td>\n",
       "      <td>...</td>\n",
       "      <td>0</td>\n",
       "      <td>470</td>\n",
       "      <td>3</td>\n",
       "      <td>32</td>\n",
       "      <td>1</td>\n",
       "      <td>3</td>\n",
       "      <td>1</td>\n",
       "      <td>470.0</td>\n",
       "      <td>32.0</td>\n",
       "      <td>0</td>\n",
       "    </tr>\n",
       "    <tr>\n",
       "      <th>1</th>\n",
       "      <td>0</td>\n",
       "      <td>0.0</td>\n",
       "      <td>0.0</td>\n",
       "      <td>0.0</td>\n",
       "      <td>0.0</td>\n",
       "      <td>144</td>\n",
       "      <td>1868.0</td>\n",
       "      <td>669.333333</td>\n",
       "      <td>10.0</td>\n",
       "      <td>1039.808316</td>\n",
       "      <td>...</td>\n",
       "      <td>1</td>\n",
       "      <td>30</td>\n",
       "      <td>4</td>\n",
       "      <td>30</td>\n",
       "      <td>4</td>\n",
       "      <td>4</td>\n",
       "      <td>4</td>\n",
       "      <td>30.0</td>\n",
       "      <td>30.0</td>\n",
       "      <td>0</td>\n",
       "    </tr>\n",
       "    <tr>\n",
       "      <th>2</th>\n",
       "      <td>1</td>\n",
       "      <td>0.0</td>\n",
       "      <td>0.0</td>\n",
       "      <td>0.0</td>\n",
       "      <td>0.0</td>\n",
       "      <td>64</td>\n",
       "      <td>16475.0</td>\n",
       "      <td>16475.000000</td>\n",
       "      <td>16475.0</td>\n",
       "      <td>0.000000</td>\n",
       "      <td>...</td>\n",
       "      <td>0</td>\n",
       "      <td>0</td>\n",
       "      <td>2</td>\n",
       "      <td>0</td>\n",
       "      <td>0</td>\n",
       "      <td>2</td>\n",
       "      <td>0</td>\n",
       "      <td>0.0</td>\n",
       "      <td>0.0</td>\n",
       "      <td>0</td>\n",
       "    </tr>\n",
       "    <tr>\n",
       "      <th>3</th>\n",
       "      <td>0</td>\n",
       "      <td>0.0</td>\n",
       "      <td>0.0</td>\n",
       "      <td>0.0</td>\n",
       "      <td>0.0</td>\n",
       "      <td>24</td>\n",
       "      <td>3053.0</td>\n",
       "      <td>1607.000000</td>\n",
       "      <td>161.0</td>\n",
       "      <td>2044.952811</td>\n",
       "      <td>...</td>\n",
       "      <td>0</td>\n",
       "      <td>435</td>\n",
       "      <td>3</td>\n",
       "      <td>30</td>\n",
       "      <td>1</td>\n",
       "      <td>3</td>\n",
       "      <td>1</td>\n",
       "      <td>435.0</td>\n",
       "      <td>30.0</td>\n",
       "      <td>0</td>\n",
       "    </tr>\n",
       "    <tr>\n",
       "      <th>4</th>\n",
       "      <td>0</td>\n",
       "      <td>0.0</td>\n",
       "      <td>0.0</td>\n",
       "      <td>0.0</td>\n",
       "      <td>0.0</td>\n",
       "      <td>0</td>\n",
       "      <td>22.0</td>\n",
       "      <td>22.000000</td>\n",
       "      <td>22.0</td>\n",
       "      <td>0.000000</td>\n",
       "      <td>...</td>\n",
       "      <td>0</td>\n",
       "      <td>0</td>\n",
       "      <td>2</td>\n",
       "      <td>0</td>\n",
       "      <td>0</td>\n",
       "      <td>2</td>\n",
       "      <td>0</td>\n",
       "      <td>0.0</td>\n",
       "      <td>0.0</td>\n",
       "      <td>0</td>\n",
       "    </tr>\n",
       "  </tbody>\n",
       "</table>\n",
       "<p>5 rows × 66 columns</p>\n",
       "</div>"
      ],
      "text/plain": [
       "   ACK Flag Cnt  Active Max  Active Mean  Active Min  Active Std  \\\n",
       "0             0         0.0          0.0         0.0         0.0   \n",
       "1             0         0.0          0.0         0.0         0.0   \n",
       "2             1         0.0          0.0         0.0         0.0   \n",
       "3             0         0.0          0.0         0.0         0.0   \n",
       "4             0         0.0          0.0         0.0         0.0   \n",
       "\n",
       "   Bwd Header Len  Bwd IAT Max  Bwd IAT Mean  Bwd IAT Min  Bwd IAT Std  ...  \\\n",
       "0              24       2943.0   1550.500000        158.0  1969.292386  ...   \n",
       "1             144       1868.0    669.333333         10.0  1039.808316  ...   \n",
       "2              64      16475.0  16475.000000      16475.0     0.000000  ...   \n",
       "3              24       3053.0   1607.000000        161.0  2044.952811  ...   \n",
       "4               0         22.0     22.000000         22.0     0.000000  ...   \n",
       "\n",
       "   SYN Flag Cnt  Subflow Bwd Byts  Subflow Bwd Pkts  Subflow Fwd Byts  \\\n",
       "0             0               470                 3                32   \n",
       "1             1                30                 4                30   \n",
       "2             0                 0                 2                 0   \n",
       "3             0               435                 3                30   \n",
       "4             0                 0                 2                 0   \n",
       "\n",
       "   Subflow Fwd Pkts  Tot Bwd Pkts  Tot Fwd Pkts  TotLen Bwd Pkts  \\\n",
       "0                 1             3             1            470.0   \n",
       "1                 4             4             4             30.0   \n",
       "2                 0             2             0              0.0   \n",
       "3                 1             3             1            435.0   \n",
       "4                 0             2             0              0.0   \n",
       "\n",
       "   TotLen Fwd Pkts  URG Flag Cnt  \n",
       "0             32.0             0  \n",
       "1             30.0             0  \n",
       "2              0.0             0  \n",
       "3             30.0             0  \n",
       "4              0.0             0  \n",
       "\n",
       "[5 rows x 66 columns]"
      ]
     },
     "execution_count": 6,
     "metadata": {},
     "output_type": "execute_result"
    }
   ],
   "source": [
    "data = data.loc[:, data.columns.difference(['Flow ID', 'Src IP','Dst IP','Timestamp','Src Port','Dst Port','Protocol'])]\n",
    "data=data.sample(frac=1, replace=True, random_state=3).reset_index(drop=True)\n",
    "data.head()"
   ]
  },
  {
   "cell_type": "code",
   "execution_count": 7,
   "id": "c45956ac-8348-481d-bd4e-138abd1690e2",
   "metadata": {},
   "outputs": [
    {
     "data": {
      "text/plain": [
       "array(['0', '1'], dtype=object)"
      ]
     },
     "execution_count": 7,
     "metadata": {},
     "output_type": "execute_result"
    }
   ],
   "source": [
    "data.Label.replace(['U2R','BFA','DDoS','DoS','Probe','Web-Attack','BOTNET'],'Saldiri',inplace=True)\n",
    "data.Label.replace(\"Saldiri\",\"1\",inplace=True)\n",
    "data.Label.replace(\"Normal\",\"0\",inplace=True)\n",
    "data.Label.unique()"
   ]
  },
  {
   "cell_type": "code",
   "execution_count": 8,
   "id": "708cfd63-5a95-479e-a76e-677ec966ac60",
   "metadata": {},
   "outputs": [
    {
     "data": {
      "text/plain": [
       "0         0\n",
       "1         1\n",
       "2         1\n",
       "3         0\n",
       "4         1\n",
       "         ..\n",
       "343884    1\n",
       "343885    0\n",
       "343886    1\n",
       "343887    1\n",
       "343888    1\n",
       "Name: Label, Length: 343889, dtype: object"
      ]
     },
     "execution_count": 8,
     "metadata": {},
     "output_type": "execute_result"
    }
   ],
   "source": [
    "df_label=data.Label\n",
    "#df_label=pd.get_dummies(df_label)\n",
    "df_label"
   ]
  },
  {
   "cell_type": "code",
   "execution_count": 9,
   "id": "c1950a4f-2b2d-4393-b196-d244fe372df8",
   "metadata": {},
   "outputs": [
    {
     "data": {
      "text/html": [
       "<div>\n",
       "<style scoped>\n",
       "    .dataframe tbody tr th:only-of-type {\n",
       "        vertical-align: middle;\n",
       "    }\n",
       "\n",
       "    .dataframe tbody tr th {\n",
       "        vertical-align: top;\n",
       "    }\n",
       "\n",
       "    .dataframe thead th {\n",
       "        text-align: right;\n",
       "    }\n",
       "</style>\n",
       "<table border=\"1\" class=\"dataframe\">\n",
       "  <thead>\n",
       "    <tr style=\"text-align: right;\">\n",
       "      <th></th>\n",
       "      <th>ACK Flag Cnt</th>\n",
       "      <th>Active Max</th>\n",
       "      <th>Active Mean</th>\n",
       "      <th>Active Min</th>\n",
       "      <th>Active Std</th>\n",
       "      <th>Bwd Header Len</th>\n",
       "      <th>Bwd IAT Max</th>\n",
       "      <th>Bwd IAT Mean</th>\n",
       "      <th>Bwd IAT Min</th>\n",
       "      <th>Bwd IAT Std</th>\n",
       "      <th>...</th>\n",
       "      <th>SYN Flag Cnt</th>\n",
       "      <th>Subflow Bwd Byts</th>\n",
       "      <th>Subflow Bwd Pkts</th>\n",
       "      <th>Subflow Fwd Byts</th>\n",
       "      <th>Subflow Fwd Pkts</th>\n",
       "      <th>Tot Bwd Pkts</th>\n",
       "      <th>Tot Fwd Pkts</th>\n",
       "      <th>TotLen Bwd Pkts</th>\n",
       "      <th>TotLen Fwd Pkts</th>\n",
       "      <th>URG Flag Cnt</th>\n",
       "    </tr>\n",
       "  </thead>\n",
       "  <tbody>\n",
       "    <tr>\n",
       "      <th>count</th>\n",
       "      <td>343889.000000</td>\n",
       "      <td>3.438890e+05</td>\n",
       "      <td>3.438890e+05</td>\n",
       "      <td>3.438890e+05</td>\n",
       "      <td>3.438890e+05</td>\n",
       "      <td>343889.000000</td>\n",
       "      <td>3.438890e+05</td>\n",
       "      <td>3.438890e+05</td>\n",
       "      <td>3.438890e+05</td>\n",
       "      <td>3.438890e+05</td>\n",
       "      <td>...</td>\n",
       "      <td>343889.000000</td>\n",
       "      <td>3.438890e+05</td>\n",
       "      <td>343889.000000</td>\n",
       "      <td>3.438890e+05</td>\n",
       "      <td>343889.000000</td>\n",
       "      <td>343889.000000</td>\n",
       "      <td>343889.000000</td>\n",
       "      <td>3.438890e+05</td>\n",
       "      <td>3.438890e+05</td>\n",
       "      <td>343889.000000</td>\n",
       "    </tr>\n",
       "    <tr>\n",
       "      <th>mean</th>\n",
       "      <td>0.275493</td>\n",
       "      <td>1.107857e+05</td>\n",
       "      <td>6.536086e+04</td>\n",
       "      <td>4.238275e+04</td>\n",
       "      <td>3.235745e+04</td>\n",
       "      <td>120.658864</td>\n",
       "      <td>4.906331e+06</td>\n",
       "      <td>8.995765e+05</td>\n",
       "      <td>2.109482e+04</td>\n",
       "      <td>1.970008e+06</td>\n",
       "      <td>...</td>\n",
       "      <td>0.236230</td>\n",
       "      <td>7.878053e+03</td>\n",
       "      <td>5.904338</td>\n",
       "      <td>5.373552e+02</td>\n",
       "      <td>8.635603</td>\n",
       "      <td>5.904338</td>\n",
       "      <td>8.635603</td>\n",
       "      <td>7.877004e+03</td>\n",
       "      <td>5.373552e+02</td>\n",
       "      <td>0.011722</td>\n",
       "    </tr>\n",
       "    <tr>\n",
       "      <th>std</th>\n",
       "      <td>0.446763</td>\n",
       "      <td>1.265529e+06</td>\n",
       "      <td>7.885268e+05</td>\n",
       "      <td>6.390983e+05</td>\n",
       "      <td>5.734176e+05</td>\n",
       "      <td>1674.570261</td>\n",
       "      <td>1.646710e+07</td>\n",
       "      <td>3.328757e+06</td>\n",
       "      <td>1.085097e+06</td>\n",
       "      <td>6.892850e+06</td>\n",
       "      <td>...</td>\n",
       "      <td>0.424766</td>\n",
       "      <td>2.854353e+05</td>\n",
       "      <td>83.132704</td>\n",
       "      <td>3.116079e+04</td>\n",
       "      <td>2196.811543</td>\n",
       "      <td>83.132704</td>\n",
       "      <td>2196.811543</td>\n",
       "      <td>2.853541e+05</td>\n",
       "      <td>3.116079e+04</td>\n",
       "      <td>0.107631</td>\n",
       "    </tr>\n",
       "    <tr>\n",
       "      <th>min</th>\n",
       "      <td>0.000000</td>\n",
       "      <td>0.000000e+00</td>\n",
       "      <td>0.000000e+00</td>\n",
       "      <td>0.000000e+00</td>\n",
       "      <td>0.000000e+00</td>\n",
       "      <td>0.000000</td>\n",
       "      <td>-1.540000e+02</td>\n",
       "      <td>-1.540000e+02</td>\n",
       "      <td>-6.340000e+02</td>\n",
       "      <td>0.000000e+00</td>\n",
       "      <td>...</td>\n",
       "      <td>0.000000</td>\n",
       "      <td>0.000000e+00</td>\n",
       "      <td>1.000000</td>\n",
       "      <td>0.000000e+00</td>\n",
       "      <td>0.000000</td>\n",
       "      <td>1.000000</td>\n",
       "      <td>0.000000</td>\n",
       "      <td>0.000000e+00</td>\n",
       "      <td>0.000000e+00</td>\n",
       "      <td>0.000000</td>\n",
       "    </tr>\n",
       "    <tr>\n",
       "      <th>25%</th>\n",
       "      <td>0.000000</td>\n",
       "      <td>0.000000e+00</td>\n",
       "      <td>0.000000e+00</td>\n",
       "      <td>0.000000e+00</td>\n",
       "      <td>0.000000e+00</td>\n",
       "      <td>0.000000</td>\n",
       "      <td>1.100000e+01</td>\n",
       "      <td>1.100000e+01</td>\n",
       "      <td>3.000000e+00</td>\n",
       "      <td>0.000000e+00</td>\n",
       "      <td>...</td>\n",
       "      <td>0.000000</td>\n",
       "      <td>0.000000e+00</td>\n",
       "      <td>2.000000</td>\n",
       "      <td>0.000000e+00</td>\n",
       "      <td>0.000000</td>\n",
       "      <td>2.000000</td>\n",
       "      <td>0.000000</td>\n",
       "      <td>0.000000e+00</td>\n",
       "      <td>0.000000e+00</td>\n",
       "      <td>0.000000</td>\n",
       "    </tr>\n",
       "    <tr>\n",
       "      <th>50%</th>\n",
       "      <td>0.000000</td>\n",
       "      <td>0.000000e+00</td>\n",
       "      <td>0.000000e+00</td>\n",
       "      <td>0.000000e+00</td>\n",
       "      <td>0.000000e+00</td>\n",
       "      <td>32.000000</td>\n",
       "      <td>1.653000e+03</td>\n",
       "      <td>8.446667e+02</td>\n",
       "      <td>1.800000e+01</td>\n",
       "      <td>0.000000e+00</td>\n",
       "      <td>...</td>\n",
       "      <td>0.000000</td>\n",
       "      <td>0.000000e+00</td>\n",
       "      <td>2.000000</td>\n",
       "      <td>0.000000e+00</td>\n",
       "      <td>0.000000</td>\n",
       "      <td>2.000000</td>\n",
       "      <td>0.000000</td>\n",
       "      <td>0.000000e+00</td>\n",
       "      <td>0.000000e+00</td>\n",
       "      <td>0.000000</td>\n",
       "    </tr>\n",
       "    <tr>\n",
       "      <th>75%</th>\n",
       "      <td>1.000000</td>\n",
       "      <td>0.000000e+00</td>\n",
       "      <td>0.000000e+00</td>\n",
       "      <td>0.000000e+00</td>\n",
       "      <td>0.000000e+00</td>\n",
       "      <td>92.000000</td>\n",
       "      <td>8.452000e+03</td>\n",
       "      <td>4.780500e+03</td>\n",
       "      <td>4.900000e+02</td>\n",
       "      <td>2.824892e+03</td>\n",
       "      <td>...</td>\n",
       "      <td>0.000000</td>\n",
       "      <td>3.000000e+01</td>\n",
       "      <td>4.000000</td>\n",
       "      <td>3.000000e+01</td>\n",
       "      <td>2.000000</td>\n",
       "      <td>4.000000</td>\n",
       "      <td>2.000000</td>\n",
       "      <td>3.000000e+01</td>\n",
       "      <td>3.000000e+01</td>\n",
       "      <td>0.000000</td>\n",
       "    </tr>\n",
       "    <tr>\n",
       "      <th>max</th>\n",
       "      <td>1.000000</td>\n",
       "      <td>9.670000e+07</td>\n",
       "      <td>9.150000e+07</td>\n",
       "      <td>9.150000e+07</td>\n",
       "      <td>6.830000e+07</td>\n",
       "      <td>397144.000000</td>\n",
       "      <td>1.200000e+08</td>\n",
       "      <td>8.480000e+07</td>\n",
       "      <td>8.480000e+07</td>\n",
       "      <td>6.830000e+07</td>\n",
       "      <td>...</td>\n",
       "      <td>1.000000</td>\n",
       "      <td>7.029674e+07</td>\n",
       "      <td>19856.000000</td>\n",
       "      <td>8.430018e+06</td>\n",
       "      <td>910748.000000</td>\n",
       "      <td>19856.000000</td>\n",
       "      <td>910748.000000</td>\n",
       "      <td>7.030000e+07</td>\n",
       "      <td>8.430018e+06</td>\n",
       "      <td>1.000000</td>\n",
       "    </tr>\n",
       "  </tbody>\n",
       "</table>\n",
       "<p>8 rows × 65 columns</p>\n",
       "</div>"
      ],
      "text/plain": [
       "        ACK Flag Cnt    Active Max   Active Mean    Active Min    Active Std  \\\n",
       "count  343889.000000  3.438890e+05  3.438890e+05  3.438890e+05  3.438890e+05   \n",
       "mean        0.275493  1.107857e+05  6.536086e+04  4.238275e+04  3.235745e+04   \n",
       "std         0.446763  1.265529e+06  7.885268e+05  6.390983e+05  5.734176e+05   \n",
       "min         0.000000  0.000000e+00  0.000000e+00  0.000000e+00  0.000000e+00   \n",
       "25%         0.000000  0.000000e+00  0.000000e+00  0.000000e+00  0.000000e+00   \n",
       "50%         0.000000  0.000000e+00  0.000000e+00  0.000000e+00  0.000000e+00   \n",
       "75%         1.000000  0.000000e+00  0.000000e+00  0.000000e+00  0.000000e+00   \n",
       "max         1.000000  9.670000e+07  9.150000e+07  9.150000e+07  6.830000e+07   \n",
       "\n",
       "       Bwd Header Len   Bwd IAT Max  Bwd IAT Mean   Bwd IAT Min   Bwd IAT Std  \\\n",
       "count   343889.000000  3.438890e+05  3.438890e+05  3.438890e+05  3.438890e+05   \n",
       "mean       120.658864  4.906331e+06  8.995765e+05  2.109482e+04  1.970008e+06   \n",
       "std       1674.570261  1.646710e+07  3.328757e+06  1.085097e+06  6.892850e+06   \n",
       "min          0.000000 -1.540000e+02 -1.540000e+02 -6.340000e+02  0.000000e+00   \n",
       "25%          0.000000  1.100000e+01  1.100000e+01  3.000000e+00  0.000000e+00   \n",
       "50%         32.000000  1.653000e+03  8.446667e+02  1.800000e+01  0.000000e+00   \n",
       "75%         92.000000  8.452000e+03  4.780500e+03  4.900000e+02  2.824892e+03   \n",
       "max     397144.000000  1.200000e+08  8.480000e+07  8.480000e+07  6.830000e+07   \n",
       "\n",
       "       ...   SYN Flag Cnt  Subflow Bwd Byts  Subflow Bwd Pkts  \\\n",
       "count  ...  343889.000000      3.438890e+05     343889.000000   \n",
       "mean   ...       0.236230      7.878053e+03          5.904338   \n",
       "std    ...       0.424766      2.854353e+05         83.132704   \n",
       "min    ...       0.000000      0.000000e+00          1.000000   \n",
       "25%    ...       0.000000      0.000000e+00          2.000000   \n",
       "50%    ...       0.000000      0.000000e+00          2.000000   \n",
       "75%    ...       0.000000      3.000000e+01          4.000000   \n",
       "max    ...       1.000000      7.029674e+07      19856.000000   \n",
       "\n",
       "       Subflow Fwd Byts  Subflow Fwd Pkts   Tot Bwd Pkts   Tot Fwd Pkts  \\\n",
       "count      3.438890e+05     343889.000000  343889.000000  343889.000000   \n",
       "mean       5.373552e+02          8.635603       5.904338       8.635603   \n",
       "std        3.116079e+04       2196.811543      83.132704    2196.811543   \n",
       "min        0.000000e+00          0.000000       1.000000       0.000000   \n",
       "25%        0.000000e+00          0.000000       2.000000       0.000000   \n",
       "50%        0.000000e+00          0.000000       2.000000       0.000000   \n",
       "75%        3.000000e+01          2.000000       4.000000       2.000000   \n",
       "max        8.430018e+06     910748.000000   19856.000000  910748.000000   \n",
       "\n",
       "       TotLen Bwd Pkts  TotLen Fwd Pkts   URG Flag Cnt  \n",
       "count     3.438890e+05     3.438890e+05  343889.000000  \n",
       "mean      7.877004e+03     5.373552e+02       0.011722  \n",
       "std       2.853541e+05     3.116079e+04       0.107631  \n",
       "min       0.000000e+00     0.000000e+00       0.000000  \n",
       "25%       0.000000e+00     0.000000e+00       0.000000  \n",
       "50%       0.000000e+00     0.000000e+00       0.000000  \n",
       "75%       3.000000e+01     3.000000e+01       0.000000  \n",
       "max       7.030000e+07     8.430018e+06       1.000000  \n",
       "\n",
       "[8 rows x 65 columns]"
      ]
     },
     "execution_count": 9,
     "metadata": {},
     "output_type": "execute_result"
    }
   ],
   "source": [
    "X=data.loc[:, data.columns.difference(['Label'])]\n",
    "#X=X.sample(frac=1, replace=True, random_state=3).reset_index(drop=True)\n",
    "X.describe()"
   ]
  },
  {
   "cell_type": "code",
   "execution_count": 10,
   "id": "c139855d-e51f-48a3-97bb-144795d7c221",
   "metadata": {},
   "outputs": [
    {
     "data": {
      "text/plain": [
       "['ACK Flag Cnt',\n",
       " 'Active Max',\n",
       " 'Active Mean',\n",
       " 'Active Min',\n",
       " 'Active Std',\n",
       " 'Bwd Header Len',\n",
       " 'Bwd IAT Max',\n",
       " 'Bwd IAT Mean',\n",
       " 'Bwd IAT Min',\n",
       " 'Bwd IAT Std',\n",
       " 'Bwd IAT Tot',\n",
       " 'Bwd PSH Flags',\n",
       " 'Bwd Pkt Len Max',\n",
       " 'Bwd Pkt Len Mean',\n",
       " 'Bwd Pkt Len Min',\n",
       " 'Bwd Pkt Len Std',\n",
       " 'Bwd Pkts/s',\n",
       " 'Bwd Seg Size Avg',\n",
       " 'Bwd URG Flags',\n",
       " 'Down/Up Ratio',\n",
       " 'FIN Flag Cnt',\n",
       " 'Flow Byts/s',\n",
       " 'Flow Duration',\n",
       " 'Flow IAT Max',\n",
       " 'Flow IAT Mean',\n",
       " 'Flow IAT Min',\n",
       " 'Flow IAT Std',\n",
       " 'Flow Pkts/s',\n",
       " 'Fwd Act Data Pkts',\n",
       " 'Fwd Header Len',\n",
       " 'Fwd IAT Max',\n",
       " 'Fwd IAT Mean',\n",
       " 'Fwd IAT Min',\n",
       " 'Fwd IAT Std',\n",
       " 'Fwd IAT Tot',\n",
       " 'Fwd Pkt Len Max',\n",
       " 'Fwd Pkt Len Mean',\n",
       " 'Fwd Pkt Len Min',\n",
       " 'Fwd Pkt Len Std',\n",
       " 'Fwd Pkts/s',\n",
       " 'Fwd Seg Size Avg',\n",
       " 'Idle Max',\n",
       " 'Idle Mean',\n",
       " 'Idle Min',\n",
       " 'Idle Std',\n",
       " 'Init Bwd Win Byts',\n",
       " 'Init Fwd Win Byts',\n",
       " 'PSH Flag Cnt',\n",
       " 'Pkt Len Max',\n",
       " 'Pkt Len Mean',\n",
       " 'Pkt Len Min',\n",
       " 'Pkt Len Std',\n",
       " 'Pkt Len Var',\n",
       " 'Pkt Size Avg',\n",
       " 'RST Flag Cnt',\n",
       " 'SYN Flag Cnt',\n",
       " 'Subflow Bwd Byts',\n",
       " 'Subflow Bwd Pkts',\n",
       " 'Subflow Fwd Byts',\n",
       " 'Subflow Fwd Pkts',\n",
       " 'Tot Bwd Pkts',\n",
       " 'Tot Fwd Pkts',\n",
       " 'TotLen Bwd Pkts',\n",
       " 'TotLen Fwd Pkts',\n",
       " 'URG Flag Cnt']"
      ]
     },
     "execution_count": 10,
     "metadata": {},
     "output_type": "execute_result"
    }
   ],
   "source": [
    "column_name=X.columns\n",
    "sorted(column_name)"
   ]
  },
  {
   "cell_type": "code",
   "execution_count": 11,
   "id": "66ab5bb6-c3a6-4c87-a5e0-8074b214c1aa",
   "metadata": {},
   "outputs": [
    {
     "data": {
      "text/plain": [
       "ACK Flag Cnt         int64\n",
       "Active Max         float64\n",
       "Active Mean        float64\n",
       "Active Min         float64\n",
       "Active Std         float64\n",
       "                    ...   \n",
       "Tot Bwd Pkts         int64\n",
       "Tot Fwd Pkts         int64\n",
       "TotLen Bwd Pkts    float64\n",
       "TotLen Fwd Pkts    float64\n",
       "URG Flag Cnt         int64\n",
       "Length: 65, dtype: object"
      ]
     },
     "execution_count": 11,
     "metadata": {},
     "output_type": "execute_result"
    }
   ],
   "source": [
    "X.dtypes"
   ]
  },
  {
   "cell_type": "code",
   "execution_count": 12,
   "id": "91bc923a-10f1-4339-8f39-1de07ed2bd00",
   "metadata": {},
   "outputs": [],
   "source": [
    "# Instantiate PCA\n",
    "pca = PCA(n_components=10)\n",
    "\n",
    "# Fit PCA to features\n",
    "principalComponents = pca.fit_transform(X)"
   ]
  },
  {
   "cell_type": "code",
   "execution_count": 13,
   "id": "e4b39b44-1790-4167-9668-d81c3440342f",
   "metadata": {},
   "outputs": [
    {
     "name": "stdout",
     "output_type": "stream",
     "text": [
      "Variance of each component: [8.30132516e-01 1.32820987e-01 1.67345172e-02 7.28332081e-03\n",
      " 4.30802158e-03 2.83747523e-03 1.53302664e-03 1.07608844e-03\n",
      " 7.74043327e-04 7.19025234e-04]\n",
      "\n",
      " Total Variance Explained: 99.82\n"
     ]
    }
   ],
   "source": [
    "# Calculate the variance explained by priciple components\n",
    "print('Variance of each component:', pca.explained_variance_ratio_)\n",
    "print('\\n Total Variance Explained:', round(sum(list(pca.explained_variance_ratio_))*100, 2))"
   ]
  },
  {
   "cell_type": "code",
   "execution_count": 14,
   "id": "afb1a95a-7814-4b7a-b626-cae7424ddb58",
   "metadata": {},
   "outputs": [
    {
     "data": {
      "text/plain": [
       "Text(0, 0.5, 'cumulative explained variance')"
      ]
     },
     "execution_count": 14,
     "metadata": {},
     "output_type": "execute_result"
    },
    {
     "data": {
      "image/png": "[encoded data removed]",
      "text/plain": [
       "<Figure size 720x504 with 1 Axes>"
      ]
     },
     "metadata": {
      "needs_background": "light"
     },
     "output_type": "display_data"
    }
   ],
   "source": [
    "pca = PCA().fit(X)\n",
    "plt.figure(figsize=(10, 7))\n",
    "plt.style.use('ggplot')\n",
    "plt.plot(range(1,len(pca.explained_variance_ratio_)+1),np.cumsum(pca.explained_variance_ratio_))\n",
    "plt.xlabel('number of components')\n",
    "plt.ylabel('cumulative explained variance')"
   ]
  },
  {
   "cell_type": "code",
   "execution_count": 15,
   "id": "361bd817-2eab-436c-a25b-2bb1cfd1b080",
   "metadata": {},
   "outputs": [
    {
     "data": {
      "image/png": "[encoded data removed]",
      "text/plain": [
       "<Figure size 1296x576 with 1 Axes>"
      ]
     },
     "metadata": {},
     "output_type": "display_data"
    }
   ],
   "source": [
    "import matplotlib.pyplot as plt \n",
    " \n",
    "from sklearn.decomposition import PCA\n",
    "sns.set()\n",
    "\n",
    "plt.figure(figsize=(18, 8))\n",
    "# Reduce from 4 to 3 features with PCA\n",
    "pca = PCA(n_components=45).fit(X)\n",
    "# Fit and transform data\n",
    "#pca.fit_transform(X)\n",
    " \n",
    "# Bar plot of explained_variance\n",
    "plt.bar(range(1,len(pca.explained_variance_ratio_)+1),np.cumsum(pca.explained_variance_ratio_))\n",
    " \n",
    "plt.xlabel('PCA Feature')\n",
    "plt.ylabel('Explained variance')\n",
    "plt.title('Feature Explained Variance')\n",
    "\n",
    "plt.show()"
   ]
  },
  {
   "cell_type": "code",
   "execution_count": 16,
   "id": "12ffa943-c35a-417e-8c5d-8e50ca7cb759",
   "metadata": {},
   "outputs": [
    {
     "data": {
      "text/plain": [
       "[<matplotlib.lines.Line2D at 0x1a6950b9490>]"
      ]
     },
     "execution_count": 16,
     "metadata": {},
     "output_type": "execute_result"
    },
    {
     "data": {
      "image/png": "[encoded data removed]",
      "text/plain": [
       "<Figure size 432x288 with 1 Axes>"
      ]
     },
     "metadata": {},
     "output_type": "display_data"
    }
   ],
   "source": [
    "# Decide the number of PCA components based on the retained information\n",
    "pca = PCA(random_state=20)\n",
    "pca.fit(X)\n",
    "explained_variance = np.cumsum(pca.explained_variance_ratio_)\n",
    "plt.vlines(x=20, ymax=1, ymin=0, colors=\"r\", linestyles=\"--\")\n",
    "plt.hlines(y=0.95, xmax=120, xmin=0, colors=\"g\", linestyles=\"--\")\n",
    "plt.plot(explained_variance)"
   ]
  },
  {
   "cell_type": "markdown",
   "id": "cb2ff8ba-a7e2-4b56-ae2d-5ee712cb80a8",
   "metadata": {},
   "source": [
    "\n",
    "pca_final = PCA(n_components=13)\n",
    "df_train_pca = pca_final.fit_transform(X)\n",
    " \n",
    "# Note that the above can be automated like this: (without using plot)\n",
    "pca_again = PCA(0.95)\n",
    "df_train_pca = pca_again.fit_transform(X)\n",
    " \n",
    "# Check the correlations between components\n",
    "corr_mat = np.corrcoef(df_train_pca.transpose())\n",
    "plt.figure(figsize=[15,8])\n",
    "sns.heatmap(corr_mat)\n",
    "plt.show()"
   ]
  },
  {
   "cell_type": "code",
   "execution_count": 20,
   "id": "db024f42-63e9-4691-a273-797c4dfcba88",
   "metadata": {},
   "outputs": [
    {
     "data": {
      "text/plain": [
       "array([[-1.48905685e+07, -3.15443529e+05,  1.21337152e+05, ...,\n",
       "        -3.12591307e+02, -1.78232369e+03,  4.39619126e+03],\n",
       "       [-1.48908653e+07, -3.12694556e+05,  1.24327893e+05, ...,\n",
       "        -1.71005245e+02, -5.19464272e+02,  4.29705125e+03],\n",
       "       [-1.48687310e+07, -3.14586911e+05,  1.15416553e+05, ...,\n",
       "        -1.97723210e+02, -1.65048827e+03,  4.48253901e+03],\n",
       "       ...,\n",
       "       [-1.48958460e+07, -3.15879768e+05,  1.23743856e+05, ...,\n",
       "        -1.82423979e+02, -1.87064676e+03,  4.32259468e+03],\n",
       "       [-1.48968207e+07, -3.16004251e+05,  1.24145462e+05, ...,\n",
       "        -1.34604410e+02, -3.14890591e+03,  3.49329193e+03],\n",
       "       [-1.49022020e+07, -3.16717890e+05,  1.26397193e+05, ...,\n",
       "         1.39867384e+02, -1.06361750e+04, -1.35591534e+03]])"
      ]
     },
     "execution_count": 20,
     "metadata": {},
     "output_type": "execute_result"
    }
   ],
   "source": [
    "componenets=30\n",
    "pca = PCA(componenets)\n",
    "X_pca_components=pca.fit_transform(X)\n",
    "X_pca_df=pd.DataFrame(data=X_pca_components)\n",
    "X_pca_components"
   ]
  },
  {
   "cell_type": "code",
   "execution_count": 21,
   "id": "973d85f6-7aea-4570-9bea-24d022e9c372",
   "metadata": {},
   "outputs": [
    {
     "data": {
      "text/plain": [
       "0.9999999932354862"
      ]
     },
     "execution_count": 21,
     "metadata": {},
     "output_type": "execute_result"
    }
   ],
   "source": [
    "sum(pca.explained_variance_ratio_)"
   ]
  },
  {
   "cell_type": "markdown",
   "id": "aad74432-b17c-4208-b621-bf3094faa20b",
   "metadata": {
    "tags": []
   },
   "source": [
    "n_pcs= pca.components_.shape[0]\n",
    "\n",
    "# get the index of the most important feature on EACH component i.e. largest absolute value\n",
    "# using LIST COMPREHENSION HERE\n",
    "most_important = [np.abs(pca.components_[i]).argmax() for i in range(n_pcs)]\n",
    "\n",
    "initial_feature_names = column_name\n",
    "\n",
    "# get the names\n",
    "most_important_names = [initial_feature_names[most_important[i]] for i in range(n_pcs)]\n",
    "\n",
    "# using LIST COMPREHENSION HERE AGAIN\n",
    "dic = {'PC{}'.format(i+1): most_important_names[i] for i in range(n_pcs)}\n",
    "\n",
    "# build the dataframe\n",
    "pca_features = pd.DataFrame(sorted(dic.items()))\n",
    "sorted(pca_features[1])"
   ]
  },
  {
   "cell_type": "markdown",
   "id": "fc80468e-a097-447b-a50a-f16a4832c514",
   "metadata": {
    "tags": []
   },
   "source": [
    "principalDf = pd.DataFrame(data = X_pca_components\n",
    "             , columns = pca_features[1])\n",
    "principalDf"
   ]
  },
  {
   "cell_type": "markdown",
   "id": "e2ab0557-074b-4ba2-ac60-b9f7a0ee1864",
   "metadata": {},
   "source": [
    "df=pd.DataFrame(data=X_pca[0:,0:],\n",
    "            index=[i for i in range(X_pca.shape[0])],\n",
    "            columns=pca_features)\n",
    "#df= df.astype(str)\n",
    "df=df.apply(lambda x:round(x,2))\n",
    "df"
   ]
  },
  {
   "cell_type": "code",
   "execution_count": 22,
   "id": "e3b63c99-ba41-471a-a94b-6608e2ef1053",
   "metadata": {},
   "outputs": [
    {
     "data": {
      "text/html": [
       "<div>\n",
       "<style scoped>\n",
       "    .dataframe tbody tr th:only-of-type {\n",
       "        vertical-align: middle;\n",
       "    }\n",
       "\n",
       "    .dataframe tbody tr th {\n",
       "        vertical-align: top;\n",
       "    }\n",
       "\n",
       "    .dataframe thead th {\n",
       "        text-align: right;\n",
       "    }\n",
       "</style>\n",
       "<table border=\"1\" class=\"dataframe\">\n",
       "  <thead>\n",
       "    <tr style=\"text-align: right;\">\n",
       "      <th></th>\n",
       "      <th>0</th>\n",
       "      <th>1</th>\n",
       "      <th>2</th>\n",
       "      <th>3</th>\n",
       "      <th>4</th>\n",
       "      <th>5</th>\n",
       "      <th>6</th>\n",
       "      <th>7</th>\n",
       "      <th>8</th>\n",
       "      <th>9</th>\n",
       "      <th>...</th>\n",
       "      <th>20</th>\n",
       "      <th>21</th>\n",
       "      <th>22</th>\n",
       "      <th>23</th>\n",
       "      <th>24</th>\n",
       "      <th>25</th>\n",
       "      <th>26</th>\n",
       "      <th>27</th>\n",
       "      <th>28</th>\n",
       "      <th>29</th>\n",
       "    </tr>\n",
       "  </thead>\n",
       "  <tbody>\n",
       "    <tr>\n",
       "      <th>0</th>\n",
       "      <td>0.000148</td>\n",
       "      <td>0.337923</td>\n",
       "      <td>0.318551</td>\n",
       "      <td>0.006034</td>\n",
       "      <td>0.327124</td>\n",
       "      <td>0.298070</td>\n",
       "      <td>0.332693</td>\n",
       "      <td>0.152401</td>\n",
       "      <td>0.404158</td>\n",
       "      <td>0.130599</td>\n",
       "      <td>...</td>\n",
       "      <td>0.420437</td>\n",
       "      <td>0.487205</td>\n",
       "      <td>0.437832</td>\n",
       "      <td>0.420039</td>\n",
       "      <td>0.455561</td>\n",
       "      <td>0.433788</td>\n",
       "      <td>0.337976</td>\n",
       "      <td>0.046828</td>\n",
       "      <td>0.143678</td>\n",
       "      <td>0.379160</td>\n",
       "    </tr>\n",
       "    <tr>\n",
       "      <th>1</th>\n",
       "      <td>0.000147</td>\n",
       "      <td>0.337935</td>\n",
       "      <td>0.318566</td>\n",
       "      <td>0.006010</td>\n",
       "      <td>0.327126</td>\n",
       "      <td>0.298075</td>\n",
       "      <td>0.332669</td>\n",
       "      <td>0.152403</td>\n",
       "      <td>0.404166</td>\n",
       "      <td>0.130601</td>\n",
       "      <td>...</td>\n",
       "      <td>0.420451</td>\n",
       "      <td>0.487225</td>\n",
       "      <td>0.437814</td>\n",
       "      <td>0.420048</td>\n",
       "      <td>0.455608</td>\n",
       "      <td>0.433769</td>\n",
       "      <td>0.337969</td>\n",
       "      <td>0.046839</td>\n",
       "      <td>0.144564</td>\n",
       "      <td>0.378795</td>\n",
       "    </tr>\n",
       "    <tr>\n",
       "      <th>2</th>\n",
       "      <td>0.000210</td>\n",
       "      <td>0.337927</td>\n",
       "      <td>0.318521</td>\n",
       "      <td>0.006009</td>\n",
       "      <td>0.327093</td>\n",
       "      <td>0.298114</td>\n",
       "      <td>0.332868</td>\n",
       "      <td>0.152551</td>\n",
       "      <td>0.404283</td>\n",
       "      <td>0.130571</td>\n",
       "      <td>...</td>\n",
       "      <td>0.420411</td>\n",
       "      <td>0.487221</td>\n",
       "      <td>0.437814</td>\n",
       "      <td>0.420051</td>\n",
       "      <td>0.455582</td>\n",
       "      <td>0.433827</td>\n",
       "      <td>0.337970</td>\n",
       "      <td>0.046837</td>\n",
       "      <td>0.143770</td>\n",
       "      <td>0.379478</td>\n",
       "    </tr>\n",
       "    <tr>\n",
       "      <th>3</th>\n",
       "      <td>0.000148</td>\n",
       "      <td>0.337923</td>\n",
       "      <td>0.318552</td>\n",
       "      <td>0.006028</td>\n",
       "      <td>0.327123</td>\n",
       "      <td>0.298071</td>\n",
       "      <td>0.332691</td>\n",
       "      <td>0.152402</td>\n",
       "      <td>0.404159</td>\n",
       "      <td>0.130600</td>\n",
       "      <td>...</td>\n",
       "      <td>0.420438</td>\n",
       "      <td>0.487206</td>\n",
       "      <td>0.437831</td>\n",
       "      <td>0.420040</td>\n",
       "      <td>0.455567</td>\n",
       "      <td>0.433789</td>\n",
       "      <td>0.337976</td>\n",
       "      <td>0.046829</td>\n",
       "      <td>0.143707</td>\n",
       "      <td>0.379199</td>\n",
       "    </tr>\n",
       "    <tr>\n",
       "      <th>4</th>\n",
       "      <td>0.000132</td>\n",
       "      <td>0.337921</td>\n",
       "      <td>0.318563</td>\n",
       "      <td>0.006009</td>\n",
       "      <td>0.327124</td>\n",
       "      <td>0.298063</td>\n",
       "      <td>0.332645</td>\n",
       "      <td>0.152409</td>\n",
       "      <td>0.404171</td>\n",
       "      <td>0.130596</td>\n",
       "      <td>...</td>\n",
       "      <td>0.420437</td>\n",
       "      <td>0.487215</td>\n",
       "      <td>0.437815</td>\n",
       "      <td>0.420046</td>\n",
       "      <td>0.455602</td>\n",
       "      <td>0.433789</td>\n",
       "      <td>0.337968</td>\n",
       "      <td>0.046839</td>\n",
       "      <td>0.143483</td>\n",
       "      <td>0.378438</td>\n",
       "    </tr>\n",
       "  </tbody>\n",
       "</table>\n",
       "<p>5 rows × 30 columns</p>\n",
       "</div>"
      ],
      "text/plain": [
       "         0         1         2         3         4         5         6   \\\n",
       "0  0.000148  0.337923  0.318551  0.006034  0.327124  0.298070  0.332693   \n",
       "1  0.000147  0.337935  0.318566  0.006010  0.327126  0.298075  0.332669   \n",
       "2  0.000210  0.337927  0.318521  0.006009  0.327093  0.298114  0.332868   \n",
       "3  0.000148  0.337923  0.318552  0.006028  0.327123  0.298071  0.332691   \n",
       "4  0.000132  0.337921  0.318563  0.006009  0.327124  0.298063  0.332645   \n",
       "\n",
       "         7         8         9   ...        20        21        22        23  \\\n",
       "0  0.152401  0.404158  0.130599  ...  0.420437  0.487205  0.437832  0.420039   \n",
       "1  0.152403  0.404166  0.130601  ...  0.420451  0.487225  0.437814  0.420048   \n",
       "2  0.152551  0.404283  0.130571  ...  0.420411  0.487221  0.437814  0.420051   \n",
       "3  0.152402  0.404159  0.130600  ...  0.420438  0.487206  0.437831  0.420040   \n",
       "4  0.152409  0.404171  0.130596  ...  0.420437  0.487215  0.437815  0.420046   \n",
       "\n",
       "         24        25        26        27        28        29  \n",
       "0  0.455561  0.433788  0.337976  0.046828  0.143678  0.379160  \n",
       "1  0.455608  0.433769  0.337969  0.046839  0.144564  0.378795  \n",
       "2  0.455582  0.433827  0.337970  0.046837  0.143770  0.379478  \n",
       "3  0.455567  0.433789  0.337976  0.046829  0.143707  0.379199  \n",
       "4  0.455602  0.433789  0.337968  0.046839  0.143483  0.378438  \n",
       "\n",
       "[5 rows x 30 columns]"
      ]
     },
     "execution_count": 22,
     "metadata": {},
     "output_type": "execute_result"
    }
   ],
   "source": [
    "from sklearn.preprocessing import MinMaxScaler\n",
    "# Standardize the features\n",
    "X = MinMaxScaler().fit_transform(X_pca_df)\n",
    "\n",
    "# Preview X\n",
    "pd.DataFrame(data=X).head()"
   ]
  },
  {
   "cell_type": "code",
   "execution_count": 23,
   "id": "aced26e2-0afd-4870-808b-796faec259e4",
   "metadata": {},
   "outputs": [
    {
     "data": {
      "text/plain": [
       "array(['0', '1'], dtype=object)"
      ]
     },
     "execution_count": 23,
     "metadata": {},
     "output_type": "execute_result"
    }
   ],
   "source": [
    "df_label.unique()"
   ]
  },
  {
   "cell_type": "code",
   "execution_count": 24,
   "id": "1d56780c-d330-45d1-b752-61ae81a4afc0",
   "metadata": {},
   "outputs": [
    {
     "data": {
      "text/plain": [
       "array([[1.56141560e-04, 3.37923163e-01, 3.18550266e-01, ...,\n",
       "        4.68373331e-02, 1.43770055e-01, 3.79261996e-01],\n",
       "       [1.32799625e-04, 3.37921410e-01, 3.18563016e-01, ...,\n",
       "        4.68382344e-02, 1.43584168e-01, 3.78781642e-01],\n",
       "       [4.81764316e-01, 1.56801234e-01, 2.86902423e-01, ...,\n",
       "        4.69097859e-02, 1.44909330e-01, 3.65425504e-01],\n",
       "       ...,\n",
       "       [1.48345102e-04, 3.37926273e-01, 3.18545497e-01, ...,\n",
       "        4.68217055e-02, 1.43461775e-01, 3.78997097e-01],\n",
       "       [4.62219617e-01, 1.64058849e-01, 2.88275947e-01, ...,\n",
       "        4.69267389e-02, 1.44882465e-01, 3.63594573e-01],\n",
       "       [1.32708898e-04, 3.37921394e-01, 3.18563079e-01, ...,\n",
       "        4.68383392e-02, 1.43559432e-01, 3.78697551e-01]])"
      ]
     },
     "execution_count": 24,
     "metadata": {},
     "output_type": "execute_result"
    }
   ],
   "source": [
    "df_label= pd.get_dummies(df_label, drop_first=True)\n",
    "X_train, X_test, y_train, y_test = X_train, X_test, y_train, y_test = train_test_split(X,df_label, test_size=0.15, random_state=15)\n",
    "X_test"
   ]
  },
  {
   "cell_type": "code",
   "execution_count": 25,
   "id": "ebb3f7a2-8334-491d-8534-b11cb97ec6a8",
   "metadata": {},
   "outputs": [
    {
     "name": "stderr",
     "output_type": "stream",
     "text": [
      "C:\\Users\\Birol\\anaconda3\\lib\\site-packages\\sklearn\\utils\\validation.py:63: DataConversionWarning: A column-vector y was passed when a 1d array was expected. Please change the shape of y to (n_samples, ), for example using ravel().\n",
      "  return f(*args, **kwargs)\n",
      "C:\\Users\\Birol\\anaconda3\\lib\\site-packages\\sklearn\\linear_model\\_logistic.py:763: ConvergenceWarning: lbfgs failed to converge (status=1):\n",
      "STOP: TOTAL NO. of ITERATIONS REACHED LIMIT.\n",
      "\n",
      "Increase the number of iterations (max_iter) or scale the data as shown in:\n",
      "    https://scikit-learn.org/stable/modules/preprocessing.html\n",
      "Please also refer to the documentation for alternative solver options:\n",
      "    https://scikit-learn.org/stable/modules/linear_model.html#logistic-regression\n",
      "  n_iter_i = _check_optimize_result(\n"
     ]
    },
    {
     "data": {
      "text/plain": [
       "0.8982048697270472"
      ]
     },
     "execution_count": 25,
     "metadata": {},
     "output_type": "execute_result"
    }
   ],
   "source": [
    "model = LogisticRegression()\n",
    "model.fit(X_train,y_train)\n",
    "model.score(X_test,y_test)"
   ]
  },
  {
   "cell_type": "code",
   "execution_count": 26,
   "id": "16d73828-705f-46d1-be44-305152eec992",
   "metadata": {},
   "outputs": [
    {
     "name": "stderr",
     "output_type": "stream",
     "text": [
      "C:\\Users\\Birol\\anaconda3\\lib\\site-packages\\xgboost\\sklearn.py:793: UserWarning: `early_stopping_rounds` in `fit` method is deprecated for better compatibility with scikit-learn, use `early_stopping_rounds` in constructor or`set_params` instead.\n",
      "  warnings.warn(\n"
     ]
    },
    {
     "name": "stdout",
     "output_type": "stream",
     "text": [
      "----- XGBoost ------\n",
      "0.9980340296712831\n",
      "0.00154112\n",
      "----- XGBoost ------\n"
     ]
    }
   ],
   "source": [
    "from xgboost import XGBRegressor\n",
    "from sklearn.metrics import mean_absolute_error\n",
    "model = XGBRegressor(n_estimators=1000,learning_rate=0.5,n_jobs=4)\n",
    "model.fit(X_train, y_train, \n",
    "             early_stopping_rounds=500, \n",
    "             eval_set=[(X_test, y_test)],\n",
    "             verbose=False)\n",
    "pred=model.predict(X_test)\n",
    "print(\"----- XGBoost ------\")\n",
    "print(model.score(X_test,y_test))\n",
    "print(mean_absolute_error(y_test,pred))\n",
    "print(\"----- XGBoost ------\")"
   ]
  },
  {
   "cell_type": "code",
   "execution_count": 27,
   "id": "2adb8e8a-a6bd-479d-a613-501c47aec0dc",
   "metadata": {},
   "outputs": [
    {
     "name": "stderr",
     "output_type": "stream",
     "text": [
      "<ipython-input-27-3759c6a2e39e>:3: DataConversionWarning: A column-vector y was passed when a 1d array was expected. Please change the shape of y to (n_samples,), for example using ravel().\n",
      "  model.fit(X_train,y_train)\n"
     ]
    },
    {
     "name": "stdout",
     "output_type": "stream",
     "text": [
      "----- Random Forest ------\n",
      "0.9980768854254211\n",
      "0.0005884219665641259\n",
      "----- Random Forest ------\n"
     ]
    }
   ],
   "source": [
    "from sklearn.ensemble import RandomForestRegressor\n",
    "model=RandomForestRegressor(random_state=1)\n",
    "model.fit(X_train,y_train)\n",
    "pred=model.predict(X_test)\n",
    "\n",
    "print(\"----- Random Forest ------\")\n",
    "print(model.score(X_test,y_test))\n",
    "print(mean_absolute_error(y_test,pred))\n",
    "print(\"----- Random Forest ------\")"
   ]
  },
  {
   "cell_type": "code",
   "execution_count": 28,
   "id": "df87562d-ccb3-41b0-a41b-6d4f4474fd1e",
   "metadata": {},
   "outputs": [
    {
     "name": "stderr",
     "output_type": "stream",
     "text": [
      "C:\\Users\\Birol\\anaconda3\\lib\\site-packages\\sklearn\\neighbors\\_classification.py:179: DataConversionWarning: A column-vector y was passed when a 1d array was expected. Please change the shape of y to (n_samples,), for example using ravel().\n",
      "  return self._fit(X, y)\n"
     ]
    },
    {
     "name": "stdout",
     "output_type": "stream",
     "text": [
      "----- KNN ------\n",
      "0.9995541253101737\n",
      "0.02014190446650124\n",
      "----- KNN ------\n"
     ]
    }
   ],
   "source": [
    "from sklearn.neighbors import KNeighborsClassifier\n",
    "model=KNeighborsClassifier(n_neighbors=3,weights='uniform')\n",
    "model.fit(X_train,y_train)\n",
    "pred=model.predict(X_test)\n",
    "\n",
    "print(\"----- KNN ------\")\n",
    "print(model.score(X_test,y_test))\n",
    "print(mean_absolute_error(y_test,pred))\n",
    "print(\"----- KNN ------\")"
   ]
  },
  {
   "cell_type": "code",
   "execution_count": 29,
   "id": "ea1a6929-0f6b-4d66-9500-eb27cdfc3a7d",
   "metadata": {
    "tags": []
   },
   "outputs": [
    {
     "name": "stdout",
     "output_type": "stream",
     "text": [
      "----- DecisionTreeRegressor ------\n",
      "0.9975615252646468\n",
      "0.0003910620879245793\n",
      "----- DecisionTreeRegressor ------\n"
     ]
    }
   ],
   "source": [
    "from sklearn.tree import DecisionTreeRegressor\n",
    "model=DecisionTreeRegressor(random_state=0)\n",
    "model.fit(X_train,y_train)\n",
    "pred=model.predict(X_test)\n",
    "\n",
    "print(\"----- DecisionTreeRegressor ------\")\n",
    "print(model.score(X_test,y_test))\n",
    "print(mean_absolute_error(y_test,pred))\n",
    "print(\"----- DecisionTreeRegressor ------\")"
   ]
  },
  {
   "cell_type": "code",
   "execution_count": 30,
   "id": "bf6d8d34-03e4-4dfb-896d-d3fbce3bef63",
   "metadata": {
    "tags": []
   },
   "outputs": [
    {
     "name": "stderr",
     "output_type": "stream",
     "text": [
      "C:\\Users\\Birol\\anaconda3\\lib\\site-packages\\sklearn\\utils\\validation.py:63: DataConversionWarning: A column-vector y was passed when a 1d array was expected. Please change the shape of y to (n_samples, ), for example using ravel().\n",
      "  return f(*args, **kwargs)\n"
     ]
    },
    {
     "name": "stdout",
     "output_type": "stream",
     "text": [
      "----- AdaBoostClassifier ------\n",
      "0.9869533188585607\n",
      "1.923561569478908\n",
      "----- AdaBoostClassifier ------\n"
     ]
    }
   ],
   "source": [
    "from sklearn.ensemble import AdaBoostClassifier\n",
    "model = AdaBoostClassifier(n_estimators=50,\n",
    "                         learning_rate=1)\n",
    "model.fit(X_train,y_train)\n",
    "pred=model.predict(X_test)\n",
    "\n",
    "print(\"----- AdaBoostClassifier ------\")\n",
    "print(model.score(X_test,y_test))\n",
    "print(mean_absolute_error(y_test,pred))\n",
    "print(\"----- AdaBoostClassifier ------\")"
   ]
  },
  {
   "cell_type": "code",
   "execution_count": 31,
   "id": "9762a638-a6f6-46bd-abe5-8712b5b8ac6d",
   "metadata": {},
   "outputs": [
    {
     "name": "stderr",
     "output_type": "stream",
     "text": [
      "C:\\Users\\Birol\\anaconda3\\lib\\site-packages\\sklearn\\utils\\validation.py:63: DataConversionWarning: A column-vector y was passed when a 1d array was expected. Please change the shape of y to (n_samples, ), for example using ravel().\n",
      "  return f(*args, **kwargs)\n"
     ]
    },
    {
     "name": "stdout",
     "output_type": "stream",
     "text": [
      "----- GaussianNB ------\n",
      "0.8915555210918115\n",
      "3.816222084367246\n",
      "----- GaussianNB ------\n"
     ]
    }
   ],
   "source": [
    "from sklearn.naive_bayes import GaussianNB\n",
    "model = GaussianNB()\n",
    "model.fit(X_train,y_train)\n",
    "pred=model.predict(X_test)\n",
    "print(\"----- GaussianNB ------\")\n",
    "print(model.score(X_test,y_test))\n",
    "print(mean_absolute_error(y_test,pred))\n",
    "print(\"----- GaussianNB ------\")"
   ]
  },
  {
   "cell_type": "markdown",
   "id": "f35841df-0607-4252-8695-7c4d915e5fc3",
   "metadata": {},
   "source": [
    "from sklearn.svm import SVC\n",
    "model = SVC(C=1.0, random_state=1, kernel='linear')\n",
    "model.fit(X_train,y_train)\n",
    "pred=model.predict(X_test)\n",
    "\n",
    "print(\"----- SVC ------\")\n",
    "print(model.score(X_test,y_test))\n",
    "print(mean_absolute_error(y_test,pred))\n",
    "print(\"----- SVC ------\")"
   ]
  },
  {
   "cell_type": "code",
   "execution_count": 32,
   "id": "3f28666f-7eb4-44b7-a262-44b0446a677f",
   "metadata": {},
   "outputs": [],
   "source": [
    "from keras.models import Sequential\n",
    "from keras.layers import Dense, Dropout, Activation,Flatten\n",
    "from keras.layers import  Embedding, SimpleRNN, LSTM,Masking,Bidirectional\n",
    "from keras.layers import Conv1D, GlobalMaxPooling1D\n",
    "from keras.models import model_from_json,model_from_yaml,load_model\n",
    "from keras.preprocessing.text import Tokenizer\n",
    "from keras.preprocessing import sequence,text\n",
    "from sklearn.preprocessing import LabelEncoder\n",
    "from keras import metrics, regularizers\n",
    "from keras.optimizers import RMSprop,Adam\n",
    "from keras import backend as K"
   ]
  },
  {
   "cell_type": "code",
   "execution_count": 33,
   "id": "fa388a30-f117-497f-b54c-3ada324b85d9",
   "metadata": {},
   "outputs": [
    {
     "name": "stdout",
     "output_type": "stream",
     "text": [
      "(292305, 30)\n",
      "(51584, 30)\n",
      "(292305, 1)\n",
      "(51584, 1)\n"
     ]
    }
   ],
   "source": [
    "print(X_train.shape)\n",
    "print(X_test.shape)\n",
    "print(y_train.shape) \n",
    "print(y_test.shape)"
   ]
  },
  {
   "cell_type": "code",
   "execution_count": 34,
   "id": "a7955c90-89d4-4ec0-ba80-7e1f7eb37d15",
   "metadata": {},
   "outputs": [],
   "source": [
    "# Model için gerekli değerler\n",
    "#epochs_sayisi=5\n",
    "batch_size=512\n",
    "# Çıktı gözükmemesi için\n",
    "verbose=1\n",
    "validation_split=0.1\n",
    "max_len=componenets\n",
    "vocab_size=10000"
   ]
  },
  {
   "cell_type": "code",
   "execution_count": 35,
   "id": "413bf53a-8fec-42c1-8c21-d29641a42b0d",
   "metadata": {
    "tags": []
   },
   "outputs": [],
   "source": [
    "def rnn(epoch_sayisi):\n",
    "    model=Sequential()\n",
    "    model.add(Embedding(vocab_size,max_len, trainable=True,input_length=max_len))\n",
    "    model.add(SimpleRNN(40,activation='relu',kernel_regularizer=regularizers.l2(0.01),return_sequences=True))\n",
    "    model.add(Dropout(0.2))\n",
    "    model.add(SimpleRNN(32,activation='relu',kernel_regularizer=regularizers.l2(0.01),return_sequences=True))\n",
    "    model.add(Dropout(0.2))\n",
    "    model.add(SimpleRNN(24,activation='relu',kernel_regularizer=regularizers.l2(0.01),return_sequences=True))\n",
    "    model.add(Dropout(0.2))\n",
    "    model.add(SimpleRNN(16,activation='relu',kernel_regularizer=regularizers.l2(0.01),return_sequences=True))\n",
    "    model.add(Dropout(0.2))\n",
    "    model.add(SimpleRNN(4,activation='relu',kernel_regularizer=regularizers.l2(0.01)))\n",
    "    model.add(Dense(1,activation='sigmoid'))\n",
    "    model.compile(loss='binary_crossentropy',optimizer=RMSprop(lr=0.001), metrics=['acc'])\n",
    "    history=model.fit(X_train, y_train, epochs=epoch_sayisi, batch_size=batch_size,\n",
    "                      verbose=verbose,validation_split=validation_split)\n",
    "    return history,model"
   ]
  },
  {
   "cell_type": "code",
   "execution_count": 36,
   "id": "9f231b6c-ce2e-4c72-9a63-5a8d46e544e6",
   "metadata": {},
   "outputs": [],
   "source": [
    "def lstm(epoch_sayisi):\n",
    "    model=Sequential()\n",
    "    model.add(Embedding(vocab_size,max_len, trainable=True,input_length=max_len))\n",
    "    model.add(LSTM(32,activation='relu',kernel_regularizer=regularizers.l2(0.01),return_sequences=True))\n",
    "    model.add(Dropout(0.2))\n",
    "    model.add(LSTM(16,activation='relu',kernel_regularizer=regularizers.l2(0.01),return_sequences=True))\n",
    "    model.add(Dropout(0.2))\n",
    "    model.add(LSTM(4,activation='relu',kernel_regularizer=regularizers.l2(0.01)))\n",
    "    model.add(Dense(1,activation='sigmoid'))\n",
    "    model.compile(loss='binary_crossentropy',optimizer=RMSprop(lr=0.001),metrics=['acc'])\n",
    "    history=model.fit(X_train, y_train, epochs=epoch_sayisi, batch_size=batch_size,\n",
    "                      verbose=verbose,validation_split=validation_split)\n",
    "    return history,model"
   ]
  },
  {
   "cell_type": "code",
   "execution_count": 37,
   "id": "e5e8735f-6b94-4988-baaa-33a2d4599b59",
   "metadata": {},
   "outputs": [],
   "source": [
    "def bilstm(epoch_sayisi):\n",
    "    model=Sequential()\n",
    "    model.add(Embedding(vocab_size,max_len, trainable=True,input_length=max_len))\n",
    "    model.add(Bidirectional(LSTM(32,activation='relu',kernel_regularizer=regularizers.l2(0.01),return_sequences=True)))\n",
    "    model.add(Dropout(0.2))\n",
    "    model.add(Bidirectional(LSTM(16,activation='relu',kernel_regularizer=regularizers.l2(0.01),return_sequences=True)))\n",
    "    model.add(Dropout(0.2))\n",
    "    model.add(Bidirectional(LSTM(4,activation='relu',kernel_regularizer=regularizers.l2(0.01))))\n",
    "    model.add(Dense(1,activation='sigmoid'))\n",
    "    model.compile(loss='binary_crossentropy',optimizer=RMSprop(lr=0.001),metrics=['acc'])\n",
    "    history=model.fit(X_train, y_train, epochs=epoch_sayisi, batch_size=batch_size,\n",
    "                      verbose=verbose,validation_split=validation_split)\n",
    "    return history,model"
   ]
  },
  {
   "cell_type": "code",
   "execution_count": 38,
   "id": "966faf7a-16e5-4b03-824e-565135b151d6",
   "metadata": {},
   "outputs": [],
   "source": [
    "def cnn(epoch_sayisi):\n",
    "    model=Sequential()\n",
    "    model.add(Embedding(vocab_size,max_len, trainable=True,input_length=max_len))\n",
    "    model.add(Conv1D(32,1,kernel_regularizer=regularizers.l2(0.01),activation='relu'))\n",
    "    model.add(Dropout(0.2))\n",
    "    model.add(Conv1D(16,1,kernel_regularizer=regularizers.l2(0.01),activation='relu'))\n",
    "    model.add(Dropout(0.2))\n",
    "    model.add(Conv1D(4,1,kernel_regularizer=regularizers.l2(0.01),activation='relu'))\n",
    "    model.add(GlobalMaxPooling1D())\n",
    "    model.add(Dense(512,activation='relu'))\n",
    "    model.add(Dense(1,activation='sigmoid'))\n",
    "    model.compile(loss='binary_crossentropy',optimizer=RMSprop(lr=0.001),metrics=['acc'])\n",
    "    history=model.fit(X_train, y_train, epochs=epoch_sayisi, batch_size=batch_size,\n",
    "                      verbose=verbose,validation_split=validation_split)\n",
    "    return history,model\n",
    "    #model.summary()"
   ]
  },
  {
   "cell_type": "code",
   "execution_count": 40,
   "id": "0451ff1b-25e5-4b28-bd0e-8e9793c311c6",
   "metadata": {},
   "outputs": [
    {
     "name": "stdout",
     "output_type": "stream",
     "text": [
      "\n",
      "    Uygulanacak algoritmayı seçiniz:\n",
      "    1 - CNN\n",
      "    2 - RNN\n",
      "    3 - LSTM\n",
      "    \n",
      "\n",
      "\n",
      " cnn ---- \n",
      "Epoch 1/2\n"
     ]
    },
    {
     "name": "stderr",
     "output_type": "stream",
     "text": [
      "C:\\Users\\Birol\\anaconda3\\lib\\site-packages\\keras\\optimizers\\optimizer_v2\\rmsprop.py:135: UserWarning: The `lr` argument is deprecated, use `learning_rate` instead.\n",
      "  super(RMSprop, self).__init__(name, **kwargs)\n"
     ]
    },
    {
     "name": "stdout",
     "output_type": "stream",
     "text": [
      "514/514 [==============================] - 12s 22ms/step - loss: 0.6002 - acc: 0.8018 - val_loss: 0.5010 - val_acc: 0.7998\n",
      "Epoch 2/2\n",
      "514/514 [==============================] - 11s 22ms/step - loss: 0.4982 - acc: 0.8018 - val_loss: 0.5007 - val_acc: 0.7998\n",
      "\n",
      "\n",
      " rnn ---- \n",
      "Epoch 1/2\n"
     ]
    },
    {
     "name": "stderr",
     "output_type": "stream",
     "text": [
      "C:\\Users\\Birol\\anaconda3\\lib\\site-packages\\keras\\optimizers\\optimizer_v2\\rmsprop.py:135: UserWarning: The `lr` argument is deprecated, use `learning_rate` instead.\n",
      "  super(RMSprop, self).__init__(name, **kwargs)\n"
     ]
    },
    {
     "name": "stdout",
     "output_type": "stream",
     "text": [
      "514/514 [==============================] - 39s 70ms/step - loss: 0.7201 - acc: 0.8018 - val_loss: 0.5092 - val_acc: 0.7998\n",
      "Epoch 2/2\n",
      "514/514 [==============================] - 37s 72ms/step - loss: 0.5034 - acc: 0.8018 - val_loss: 0.5029 - val_acc: 0.7998\n",
      "\n",
      "\n",
      " lstm ---- \n",
      "Epoch 1/2\n"
     ]
    },
    {
     "name": "stderr",
     "output_type": "stream",
     "text": [
      "C:\\Users\\Birol\\anaconda3\\lib\\site-packages\\keras\\optimizers\\optimizer_v2\\rmsprop.py:135: UserWarning: The `lr` argument is deprecated, use `learning_rate` instead.\n",
      "  super(RMSprop, self).__init__(name, **kwargs)\n"
     ]
    },
    {
     "name": "stdout",
     "output_type": "stream",
     "text": [
      "514/514 [==============================] - 58s 107ms/step - loss: 0.6720 - acc: 0.8006 - val_loss: 0.5104 - val_acc: 0.7998\n",
      "Epoch 2/2\n",
      "514/514 [==============================] - 55s 108ms/step - loss: 0.5038 - acc: 0.8018 - val_loss: 0.5033 - val_acc: 0.7998\n"
     ]
    }
   ],
   "source": [
    "#epoch_sayisi=int(input(\"Eposh sayisini giriniz..:\"))\n",
    "\n",
    "print('''\n",
    "    Uygulanacak algoritmayı seçiniz:\n",
    "    1 - CNN\n",
    "    2 - RNN\n",
    "    3 - LSTM\n",
    "    ''')\n",
    "\n",
    "epoch_sayisi=2\n",
    "for algoritma in [\"cnn\" ,\"rnn\", \"lstm\"]:\n",
    "    print(f\"\\n\\n {algoritma} ---- \")\n",
    "    #algoritma=input(\"Seçim:\").lower()\n",
    "    if(algoritma==\"cnn\"):\n",
    "        history,model=cnn(epoch_sayisi)\n",
    "    elif(algoritma==\"rnn\"):\n",
    "        history,model=rnn(epoch_sayisi)\n",
    "    elif(algoritma==\"lstm\"):\n",
    "        history,model=lstm(epoch_sayisi)\n",
    "\n",
    "#print(\"**** %s modelinde %s epochluk Acc %.2f  Loss %.2f\" %(algoritma,epoch_sayisi,history.history['acc'][epoch_sayisi-1]*100,history.history['loss'][epoch_sayisi-1]*100))\n",
    "\n",
    "#rnn_test=test(algoritma,model)"
   ]
  },
  {
   "cell_type": "code",
   "execution_count": null,
   "id": "110e7320-22a9-4a9d-b2f1-738432694b29",
   "metadata": {},
   "outputs": [],
   "source": [
    "import matplotlib.pyplot as plt\n",
    "import time\n",
    "epochs = range(1, epoch_sayisi+1)\n",
    "Acc = history.history['acc']\n",
    "Val_acc =history.history['val_acc']\n",
    "plt.plot(epochs, Acc, 'bo', label='Acc')\n",
    "plt.plot(epochs, Val_acc, 'b+', label='Vall Acc')\n",
    "plt.xlabel('Epochs')\n",
    "plt.ylabel('Accuracy')\n",
    "plt.show()"
   ]
  },
  {
   "cell_type": "code",
   "execution_count": null,
   "id": "e0286138-5dcb-4af8-a38a-330be078d3a3",
   "metadata": {
    "tags": []
   },
   "outputs": [],
   "source": [
    "plt.plot(history.history['loss'], label='Loss')\n",
    "plt.plot(history.history['val_loss'], label='validation Loss')\n",
    "plt.title(algoritma.upper() + ' Regularization Loss Fonksiyonu')\n",
    "plt.ylabel('Validation Loss')\n",
    "plt.xlabel('Epoch Sayısı')\n",
    "plt.legend(loc=\"upper left\")\n",
    "plt.show()"
   ]
  },
  {
   "cell_type": "code",
   "execution_count": null,
   "id": "3c92fd02-720b-4577-affa-16d1fee6b4cc",
   "metadata": {},
   "outputs": [],
   "source": []
  }
 ],
 "metadata": {
  "kernelspec": {
   "display_name": "Python 3",
   "language": "python",
   "name": "python3"
  },
  "language_info": {
   "codemirror_mode": {
    "name": "ipython",
    "version": 3
   },
   "file_extension": ".py",
   "mimetype": "text/x-python",
   "name": "python",
   "nbconvert_exporter": "python",
   "pygments_lexer": "ipython3",
   "version": "3.8.8"
  }
 },
 "nbformat": 4,
 "nbformat_minor": 5
}
